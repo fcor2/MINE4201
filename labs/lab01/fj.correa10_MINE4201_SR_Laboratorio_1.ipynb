{
  "cells": [
    {
      "attachments": {},
      "cell_type": "markdown",
      "metadata": {
        "id": "-ODlNBWj3QZx"
      },
      "source": [
        "# Grupo 09\n",
        "## MINE4201- SR -  Laboratorio 1 \n",
        "## Exploración modelos KNN"
      ]
    },
    {
      "attachments": {},
      "cell_type": "markdown",
      "metadata": {
        "id": "ed1-j-PSjcXX"
      },
      "source": [
        "Librerías requeridas para despliegue en máquina personal."
      ]
    },
    {
      "cell_type": "code",
      "execution_count": 1,
      "metadata": {
        "id": "g7SNsxhDkO6k"
      },
      "outputs": [],
      "source": [
        "import numpy as np\n",
        "import pandas as pd\n",
        "from surprise import Reader\n",
        "from surprise import Dataset\n",
        "from surprise.model_selection import train_test_split\n",
        "from surprise import KNNBasic\n",
        "from surprise import accuracy\n",
        "import random\n",
        "import seaborn as sns\n",
        "from scipy.stats import norm\n",
        "\n",
        "#Para garantizar reproducibilidad en resultados\n",
        "seed = 10\n",
        "random.seed(seed)\n",
        "np.random.seed(seed)"
      ]
    },
    {
      "attachments": {},
      "cell_type": "markdown",
      "metadata": {
        "id": "VApWKvPdWmtm"
      },
      "source": [
        "## Suba al servidor los archivos u.data y u.item que se encuentran en el dataset descargado, en la pestaña files\n",
        "\n",
        "Modificamos código, bases de datos en disco local."
      ]
    },
    {
      "cell_type": "code",
      "execution_count": 2,
      "metadata": {
        "id": "2fY0BV4Y7Cfn"
      },
      "outputs": [],
      "source": [
        "ratings=pd.read_csv('u.data', sep = '\\t', names = [ 'user_id', 'item_id', 'rating', 'timestamp' ] )"
      ]
    },
    {
      "cell_type": "code",
      "execution_count": 3,
      "metadata": {
        "id": "4xh6HByEXjLN"
      },
      "outputs": [
        {
          "name": "stderr",
          "output_type": "stream",
          "text": [
            "/var/folders/vc/bv3v1b7126ng926zjj9gm01w0000gp/T/ipykernel_93091/2334481440.py:1: ParserWarning: Falling back to the 'python' engine because the 'c' engine does not support regex separators (separators > 1 char and different from '\\s+' are interpreted as regex); you can avoid this warning by specifying engine='python'.\n",
            "  items=pd.read_csv('u.item', sep = '\\|', names = ['movie id' ,'movie title','release date','video release date','IMDb URL ','unknown',\n"
          ]
        }
      ],
      "source": [
        "items=pd.read_csv('u.item', sep = '\\|', names = ['movie id' ,'movie title','release date','video release date','IMDb URL ','unknown',\n",
        "                                                          'Action','Adventure','Animation','Children','Comedy','Crime','Documentary','Drama',\n",
        "                                                          'Fantasy','Film-Noir','Horror','Musical','Mystery','Romance','Sci-Fi','Thriller','War','Western'], encoding='latin-1' )"
      ]
    },
    {
      "cell_type": "markdown",
      "metadata": {
        "id": "hyGTV0lPiGZJ"
      },
      "source": [
        "Verifique que los ratings y los items hayan sido cargados correctamente\n",
        "\n",
        "\n",
        "\n"
      ]
    },
    {
      "cell_type": "code",
      "execution_count": 4,
      "metadata": {},
      "outputs": [
        {
          "name": "stdout",
          "output_type": "stream",
          "text": [
            "user_id      int64\n",
            "item_id      int64\n",
            "rating       int64\n",
            "timestamp    int64\n",
            "dtype: object\n"
          ]
        }
      ],
      "source": [
        "#ratings.rating=ratings.rating.astype('category')\n",
        "print(ratings.dtypes)"
      ]
    },
    {
      "cell_type": "code",
      "execution_count": 5,
      "metadata": {
        "id": "JF-3Z1T4iAaI"
      },
      "outputs": [
        {
          "data": {
            "text/html": [
              "<div>\n",
              "<style scoped>\n",
              "    .dataframe tbody tr th:only-of-type {\n",
              "        vertical-align: middle;\n",
              "    }\n",
              "\n",
              "    .dataframe tbody tr th {\n",
              "        vertical-align: top;\n",
              "    }\n",
              "\n",
              "    .dataframe thead th {\n",
              "        text-align: right;\n",
              "    }\n",
              "</style>\n",
              "<table border=\"1\" class=\"dataframe\">\n",
              "  <thead>\n",
              "    <tr style=\"text-align: right;\">\n",
              "      <th></th>\n",
              "      <th>user_id</th>\n",
              "      <th>item_id</th>\n",
              "      <th>rating</th>\n",
              "      <th>timestamp</th>\n",
              "    </tr>\n",
              "  </thead>\n",
              "  <tbody>\n",
              "    <tr>\n",
              "      <th>0</th>\n",
              "      <td>196</td>\n",
              "      <td>242</td>\n",
              "      <td>3</td>\n",
              "      <td>881250949</td>\n",
              "    </tr>\n",
              "    <tr>\n",
              "      <th>1</th>\n",
              "      <td>186</td>\n",
              "      <td>302</td>\n",
              "      <td>3</td>\n",
              "      <td>891717742</td>\n",
              "    </tr>\n",
              "    <tr>\n",
              "      <th>2</th>\n",
              "      <td>22</td>\n",
              "      <td>377</td>\n",
              "      <td>1</td>\n",
              "      <td>878887116</td>\n",
              "    </tr>\n",
              "    <tr>\n",
              "      <th>3</th>\n",
              "      <td>244</td>\n",
              "      <td>51</td>\n",
              "      <td>2</td>\n",
              "      <td>880606923</td>\n",
              "    </tr>\n",
              "    <tr>\n",
              "      <th>4</th>\n",
              "      <td>166</td>\n",
              "      <td>346</td>\n",
              "      <td>1</td>\n",
              "      <td>886397596</td>\n",
              "    </tr>\n",
              "  </tbody>\n",
              "</table>\n",
              "</div>"
            ],
            "text/plain": [
              "   user_id  item_id  rating  timestamp\n",
              "0      196      242       3  881250949\n",
              "1      186      302       3  891717742\n",
              "2       22      377       1  878887116\n",
              "3      244       51       2  880606923\n",
              "4      166      346       1  886397596"
            ]
          },
          "execution_count": 5,
          "metadata": {},
          "output_type": "execute_result"
        }
      ],
      "source": [
        "ratings.head()"
      ]
    },
    {
      "cell_type": "code",
      "execution_count": 6,
      "metadata": {},
      "outputs": [
        {
          "data": {
            "text/plain": [
              "movie id                int64\n",
              "movie title            object\n",
              "release date           object\n",
              "video release date    float64\n",
              "IMDb URL               object\n",
              "unknown                 int64\n",
              "Action                  int64\n",
              "Adventure               int64\n",
              "Animation               int64\n",
              "Children                int64\n",
              "Comedy                  int64\n",
              "Crime                   int64\n",
              "Documentary             int64\n",
              "Drama                   int64\n",
              "Fantasy                 int64\n",
              "Film-Noir               int64\n",
              "Horror                  int64\n",
              "Musical                 int64\n",
              "Mystery                 int64\n",
              "Romance                 int64\n",
              "Sci-Fi                  int64\n",
              "Thriller                int64\n",
              "War                     int64\n",
              "Western                 int64\n",
              "dtype: object"
            ]
          },
          "execution_count": 6,
          "metadata": {},
          "output_type": "execute_result"
        }
      ],
      "source": [
        "items.dtypes"
      ]
    },
    {
      "cell_type": "code",
      "execution_count": 7,
      "metadata": {
        "id": "ztMyJLZjRIiU"
      },
      "outputs": [
        {
          "data": {
            "text/html": [
              "<div>\n",
              "<style scoped>\n",
              "    .dataframe tbody tr th:only-of-type {\n",
              "        vertical-align: middle;\n",
              "    }\n",
              "\n",
              "    .dataframe tbody tr th {\n",
              "        vertical-align: top;\n",
              "    }\n",
              "\n",
              "    .dataframe thead th {\n",
              "        text-align: right;\n",
              "    }\n",
              "</style>\n",
              "<table border=\"1\" class=\"dataframe\">\n",
              "  <thead>\n",
              "    <tr style=\"text-align: right;\">\n",
              "      <th></th>\n",
              "      <th>movie id</th>\n",
              "      <th>movie title</th>\n",
              "      <th>release date</th>\n",
              "      <th>video release date</th>\n",
              "      <th>IMDb URL</th>\n",
              "      <th>unknown</th>\n",
              "      <th>Action</th>\n",
              "      <th>Adventure</th>\n",
              "      <th>Animation</th>\n",
              "      <th>Children</th>\n",
              "      <th>...</th>\n",
              "      <th>Fantasy</th>\n",
              "      <th>Film-Noir</th>\n",
              "      <th>Horror</th>\n",
              "      <th>Musical</th>\n",
              "      <th>Mystery</th>\n",
              "      <th>Romance</th>\n",
              "      <th>Sci-Fi</th>\n",
              "      <th>Thriller</th>\n",
              "      <th>War</th>\n",
              "      <th>Western</th>\n",
              "    </tr>\n",
              "  </thead>\n",
              "  <tbody>\n",
              "    <tr>\n",
              "      <th>0</th>\n",
              "      <td>1</td>\n",
              "      <td>Toy Story (1995)</td>\n",
              "      <td>01-Jan-1995</td>\n",
              "      <td>NaN</td>\n",
              "      <td>http://us.imdb.com/M/title-exact?Toy%20Story%2...</td>\n",
              "      <td>0</td>\n",
              "      <td>0</td>\n",
              "      <td>0</td>\n",
              "      <td>1</td>\n",
              "      <td>1</td>\n",
              "      <td>...</td>\n",
              "      <td>0</td>\n",
              "      <td>0</td>\n",
              "      <td>0</td>\n",
              "      <td>0</td>\n",
              "      <td>0</td>\n",
              "      <td>0</td>\n",
              "      <td>0</td>\n",
              "      <td>0</td>\n",
              "      <td>0</td>\n",
              "      <td>0</td>\n",
              "    </tr>\n",
              "    <tr>\n",
              "      <th>1</th>\n",
              "      <td>2</td>\n",
              "      <td>GoldenEye (1995)</td>\n",
              "      <td>01-Jan-1995</td>\n",
              "      <td>NaN</td>\n",
              "      <td>http://us.imdb.com/M/title-exact?GoldenEye%20(...</td>\n",
              "      <td>0</td>\n",
              "      <td>1</td>\n",
              "      <td>1</td>\n",
              "      <td>0</td>\n",
              "      <td>0</td>\n",
              "      <td>...</td>\n",
              "      <td>0</td>\n",
              "      <td>0</td>\n",
              "      <td>0</td>\n",
              "      <td>0</td>\n",
              "      <td>0</td>\n",
              "      <td>0</td>\n",
              "      <td>0</td>\n",
              "      <td>1</td>\n",
              "      <td>0</td>\n",
              "      <td>0</td>\n",
              "    </tr>\n",
              "    <tr>\n",
              "      <th>2</th>\n",
              "      <td>3</td>\n",
              "      <td>Four Rooms (1995)</td>\n",
              "      <td>01-Jan-1995</td>\n",
              "      <td>NaN</td>\n",
              "      <td>http://us.imdb.com/M/title-exact?Four%20Rooms%...</td>\n",
              "      <td>0</td>\n",
              "      <td>0</td>\n",
              "      <td>0</td>\n",
              "      <td>0</td>\n",
              "      <td>0</td>\n",
              "      <td>...</td>\n",
              "      <td>0</td>\n",
              "      <td>0</td>\n",
              "      <td>0</td>\n",
              "      <td>0</td>\n",
              "      <td>0</td>\n",
              "      <td>0</td>\n",
              "      <td>0</td>\n",
              "      <td>1</td>\n",
              "      <td>0</td>\n",
              "      <td>0</td>\n",
              "    </tr>\n",
              "    <tr>\n",
              "      <th>3</th>\n",
              "      <td>4</td>\n",
              "      <td>Get Shorty (1995)</td>\n",
              "      <td>01-Jan-1995</td>\n",
              "      <td>NaN</td>\n",
              "      <td>http://us.imdb.com/M/title-exact?Get%20Shorty%...</td>\n",
              "      <td>0</td>\n",
              "      <td>1</td>\n",
              "      <td>0</td>\n",
              "      <td>0</td>\n",
              "      <td>0</td>\n",
              "      <td>...</td>\n",
              "      <td>0</td>\n",
              "      <td>0</td>\n",
              "      <td>0</td>\n",
              "      <td>0</td>\n",
              "      <td>0</td>\n",
              "      <td>0</td>\n",
              "      <td>0</td>\n",
              "      <td>0</td>\n",
              "      <td>0</td>\n",
              "      <td>0</td>\n",
              "    </tr>\n",
              "    <tr>\n",
              "      <th>4</th>\n",
              "      <td>5</td>\n",
              "      <td>Copycat (1995)</td>\n",
              "      <td>01-Jan-1995</td>\n",
              "      <td>NaN</td>\n",
              "      <td>http://us.imdb.com/M/title-exact?Copycat%20(1995)</td>\n",
              "      <td>0</td>\n",
              "      <td>0</td>\n",
              "      <td>0</td>\n",
              "      <td>0</td>\n",
              "      <td>0</td>\n",
              "      <td>...</td>\n",
              "      <td>0</td>\n",
              "      <td>0</td>\n",
              "      <td>0</td>\n",
              "      <td>0</td>\n",
              "      <td>0</td>\n",
              "      <td>0</td>\n",
              "      <td>0</td>\n",
              "      <td>1</td>\n",
              "      <td>0</td>\n",
              "      <td>0</td>\n",
              "    </tr>\n",
              "  </tbody>\n",
              "</table>\n",
              "<p>5 rows × 24 columns</p>\n",
              "</div>"
            ],
            "text/plain": [
              "   movie id        movie title release date  video release date  \\\n",
              "0         1   Toy Story (1995)  01-Jan-1995                 NaN   \n",
              "1         2   GoldenEye (1995)  01-Jan-1995                 NaN   \n",
              "2         3  Four Rooms (1995)  01-Jan-1995                 NaN   \n",
              "3         4  Get Shorty (1995)  01-Jan-1995                 NaN   \n",
              "4         5     Copycat (1995)  01-Jan-1995                 NaN   \n",
              "\n",
              "                                           IMDb URL   unknown  Action  \\\n",
              "0  http://us.imdb.com/M/title-exact?Toy%20Story%2...        0       0   \n",
              "1  http://us.imdb.com/M/title-exact?GoldenEye%20(...        0       1   \n",
              "2  http://us.imdb.com/M/title-exact?Four%20Rooms%...        0       0   \n",
              "3  http://us.imdb.com/M/title-exact?Get%20Shorty%...        0       1   \n",
              "4  http://us.imdb.com/M/title-exact?Copycat%20(1995)        0       0   \n",
              "\n",
              "   Adventure  Animation  Children  ...  Fantasy  Film-Noir  Horror  Musical  \\\n",
              "0          0          1         1  ...        0          0       0        0   \n",
              "1          1          0         0  ...        0          0       0        0   \n",
              "2          0          0         0  ...        0          0       0        0   \n",
              "3          0          0         0  ...        0          0       0        0   \n",
              "4          0          0         0  ...        0          0       0        0   \n",
              "\n",
              "   Mystery  Romance  Sci-Fi  Thriller  War  Western  \n",
              "0        0        0       0         0    0        0  \n",
              "1        0        0       0         1    0        0  \n",
              "2        0        0       0         1    0        0  \n",
              "3        0        0       0         0    0        0  \n",
              "4        0        0       0         1    0        0  \n",
              "\n",
              "[5 rows x 24 columns]"
            ]
          },
          "execution_count": 7,
          "metadata": {},
          "output_type": "execute_result"
        }
      ],
      "source": [
        "items.head()"
      ]
    },
    {
      "cell_type": "code",
      "execution_count": 8,
      "metadata": {},
      "outputs": [
        {
          "data": {
            "text/plain": [
              "user_id  item_id  rating  timestamp\n",
              "1        1        5       874965758    1\n",
              "606      91       5       880926610    1\n",
              "         144      4       880924664    1\n",
              "         138      3       880927923    1\n",
              "         135      5       880926245    1\n",
              "                                      ..\n",
              "311      747      3       884364502    1\n",
              "         739      4       884365823    1\n",
              "         735      4       884366637    1\n",
              "         732      4       884365617    1\n",
              "943      1330     3       888692465    1\n",
              "Length: 100000, dtype: int64"
            ]
          },
          "execution_count": 8,
          "metadata": {},
          "output_type": "execute_result"
        }
      ],
      "source": [
        "ratings.value_counts()"
      ]
    },
    {
      "cell_type": "code",
      "execution_count": 9,
      "metadata": {},
      "outputs": [
        {
          "name": "stdout",
          "output_type": "stream",
          "text": [
            "1673    1\n",
            "599     1\n",
            "1648    1\n",
            "1309    1\n",
            "1581    1\n",
            "       ..\n",
            "852     1\n",
            "1505    1\n",
            "1653    1\n",
            "1452    1\n",
            "1641    1\n",
            "Name: item_id, Length: 141, dtype: int64\n",
            "-----\n",
            "1682\n"
          ]
        }
      ],
      "source": [
        "print(ratings.item_id.value_counts().tail(141))\n",
        "print('-----')\n",
        "print(len(ratings.item_id.value_counts()))"
      ]
    },
    {
      "attachments": {},
      "cell_type": "markdown",
      "metadata": {},
      "source": [
        "En ratings encontramos 943 usuarios con id único, que han generado 100,000 calificaciones para 1682 ítems (películas) distintos, de las cuales los 5 primeros acumulan cerca de 500 calificaciones o más, mientras que los 143 últimos sólo cuentan con 1 rating. "
      ]
    },
    {
      "cell_type": "markdown",
      "metadata": {
        "id": "lkhrr5u0lVl_"
      },
      "source": [
        "## Visualice la distribución de ratings, ¿Qué puede decir al respecto?"
      ]
    },
    {
      "cell_type": "code",
      "execution_count": 10,
      "metadata": {
        "id": "CrVPRhE_ZkvM"
      },
      "outputs": [
        {
          "data": {
            "text/plain": [
              "<AxesSubplot: >"
            ]
          },
          "execution_count": 10,
          "metadata": {},
          "output_type": "execute_result"
        },
        {
          "data": {
            "image/png": "[encoded data removed]",
            "text/plain": [
              "<Figure size 640x480 with 1 Axes>"
            ]
          },
          "metadata": {},
          "output_type": "display_data"
        }
      ],
      "source": [
        "ratings.rating.hist()"
      ]
    },
    {
      "cell_type": "code",
      "execution_count": 11,
      "metadata": {},
      "outputs": [
        {
          "data": {
            "text/plain": [
              "<AxesSubplot: xlabel='rating', ylabel='Probability'>"
            ]
          },
          "execution_count": 11,
          "metadata": {},
          "output_type": "execute_result"
        },
        {
          "data": {
            "image/png": "[encoded data removed]",
            "text/plain": [
              "<Figure size 640x480 with 1 Axes>"
            ]
          },
          "metadata": {},
          "output_type": "display_data"
        }
      ],
      "source": [
        "sns.histplot(ratings.rating, stat='probability', )"
      ]
    },
    {
      "attachments": {},
      "cell_type": "markdown",
      "metadata": {},
      "source": [
        "La distribución de los ratings está sesgada hacia la derecha. Esto indica que aproximadamente el 80% de los ratings ha sido igual o superior a 3. Esto nos indica que los items calificados suelen ser mejor recibidos por los usuarios. Una hipótesis para explicar esto es que los usuarios suelen ver películas que intuitivamente creen que van a ser de su agrado o que, precisamente, su elección de consumo está influenciada por una recomendación ya sea voz a voz, o a través de un algoritmo. Otra hipótesis podría ser que los usuarios suelen calificar con más frecuencia aquellos items que en efecto fueron de su agrado. "
      ]
    },
    {
      "cell_type": "markdown",
      "metadata": {
        "id": "Rvyd2GmRnegf"
      },
      "source": [
        "## En la siguiente celda se esta calculando el número de ratings por usuario y  el promedio de sus calificaciones, el dataframe esta ordenado por el número de calificaciones"
      ]
    },
    {
      "cell_type": "code",
      "execution_count": 12,
      "metadata": {
        "id": "JapJ5D8Sg8ZZ"
      },
      "outputs": [
        {
          "data": {
            "text/html": [
              "<div>\n",
              "<style scoped>\n",
              "    .dataframe tbody tr th:only-of-type {\n",
              "        vertical-align: middle;\n",
              "    }\n",
              "\n",
              "    .dataframe tbody tr th {\n",
              "        vertical-align: top;\n",
              "    }\n",
              "\n",
              "    .dataframe thead th {\n",
              "        text-align: right;\n",
              "    }\n",
              "</style>\n",
              "<table border=\"1\" class=\"dataframe\">\n",
              "  <thead>\n",
              "    <tr style=\"text-align: right;\">\n",
              "      <th></th>\n",
              "      <th>count</th>\n",
              "      <th>mean</th>\n",
              "    </tr>\n",
              "    <tr>\n",
              "      <th>user_id</th>\n",
              "      <th></th>\n",
              "      <th></th>\n",
              "    </tr>\n",
              "  </thead>\n",
              "  <tbody>\n",
              "    <tr>\n",
              "      <th>405</th>\n",
              "      <td>737</td>\n",
              "      <td>1.834464</td>\n",
              "    </tr>\n",
              "    <tr>\n",
              "      <th>655</th>\n",
              "      <td>685</td>\n",
              "      <td>2.908029</td>\n",
              "    </tr>\n",
              "    <tr>\n",
              "      <th>13</th>\n",
              "      <td>636</td>\n",
              "      <td>3.097484</td>\n",
              "    </tr>\n",
              "    <tr>\n",
              "      <th>450</th>\n",
              "      <td>540</td>\n",
              "      <td>3.864815</td>\n",
              "    </tr>\n",
              "    <tr>\n",
              "      <th>276</th>\n",
              "      <td>518</td>\n",
              "      <td>3.465251</td>\n",
              "    </tr>\n",
              "    <tr>\n",
              "      <th>...</th>\n",
              "      <td>...</td>\n",
              "      <td>...</td>\n",
              "    </tr>\n",
              "    <tr>\n",
              "      <th>685</th>\n",
              "      <td>20</td>\n",
              "      <td>2.050000</td>\n",
              "    </tr>\n",
              "    <tr>\n",
              "      <th>475</th>\n",
              "      <td>20</td>\n",
              "      <td>3.600000</td>\n",
              "    </tr>\n",
              "    <tr>\n",
              "      <th>36</th>\n",
              "      <td>20</td>\n",
              "      <td>3.800000</td>\n",
              "    </tr>\n",
              "    <tr>\n",
              "      <th>732</th>\n",
              "      <td>20</td>\n",
              "      <td>3.700000</td>\n",
              "    </tr>\n",
              "    <tr>\n",
              "      <th>596</th>\n",
              "      <td>20</td>\n",
              "      <td>3.600000</td>\n",
              "    </tr>\n",
              "  </tbody>\n",
              "</table>\n",
              "<p>943 rows × 2 columns</p>\n",
              "</div>"
            ],
            "text/plain": [
              "         count      mean\n",
              "user_id                 \n",
              "405        737  1.834464\n",
              "655        685  2.908029\n",
              "13         636  3.097484\n",
              "450        540  3.864815\n",
              "276        518  3.465251\n",
              "...        ...       ...\n",
              "685         20  2.050000\n",
              "475         20  3.600000\n",
              "36          20  3.800000\n",
              "732         20  3.700000\n",
              "596         20  3.600000\n",
              "\n",
              "[943 rows x 2 columns]"
            ]
          },
          "execution_count": 12,
          "metadata": {},
          "output_type": "execute_result"
        }
      ],
      "source": [
        "ratings.groupby('user_id')['rating'].agg({'count','mean'}).sort_values(by='count', ascending=False)"
      ]
    },
    {
      "cell_type": "code",
      "execution_count": 13,
      "metadata": {
        "id": "nyaK03X_gD5V"
      },
      "outputs": [
        {
          "data": {
            "text/html": [
              "<div>\n",
              "<style scoped>\n",
              "    .dataframe tbody tr th:only-of-type {\n",
              "        vertical-align: middle;\n",
              "    }\n",
              "\n",
              "    .dataframe tbody tr th {\n",
              "        vertical-align: top;\n",
              "    }\n",
              "\n",
              "    .dataframe thead th {\n",
              "        text-align: right;\n",
              "    }\n",
              "</style>\n",
              "<table border=\"1\" class=\"dataframe\">\n",
              "  <thead>\n",
              "    <tr style=\"text-align: right;\">\n",
              "      <th></th>\n",
              "      <th>user_id</th>\n",
              "      <th>rating</th>\n",
              "    </tr>\n",
              "  </thead>\n",
              "  <tbody>\n",
              "    <tr>\n",
              "      <th>0</th>\n",
              "      <td>1</td>\n",
              "      <td>3.610294</td>\n",
              "    </tr>\n",
              "    <tr>\n",
              "      <th>1</th>\n",
              "      <td>2</td>\n",
              "      <td>3.709677</td>\n",
              "    </tr>\n",
              "    <tr>\n",
              "      <th>2</th>\n",
              "      <td>3</td>\n",
              "      <td>2.796296</td>\n",
              "    </tr>\n",
              "    <tr>\n",
              "      <th>3</th>\n",
              "      <td>4</td>\n",
              "      <td>4.333333</td>\n",
              "    </tr>\n",
              "    <tr>\n",
              "      <th>4</th>\n",
              "      <td>5</td>\n",
              "      <td>2.874286</td>\n",
              "    </tr>\n",
              "    <tr>\n",
              "      <th>...</th>\n",
              "      <td>...</td>\n",
              "      <td>...</td>\n",
              "    </tr>\n",
              "    <tr>\n",
              "      <th>938</th>\n",
              "      <td>939</td>\n",
              "      <td>4.265306</td>\n",
              "    </tr>\n",
              "    <tr>\n",
              "      <th>939</th>\n",
              "      <td>940</td>\n",
              "      <td>3.457944</td>\n",
              "    </tr>\n",
              "    <tr>\n",
              "      <th>940</th>\n",
              "      <td>941</td>\n",
              "      <td>4.045455</td>\n",
              "    </tr>\n",
              "    <tr>\n",
              "      <th>941</th>\n",
              "      <td>942</td>\n",
              "      <td>4.265823</td>\n",
              "    </tr>\n",
              "    <tr>\n",
              "      <th>942</th>\n",
              "      <td>943</td>\n",
              "      <td>3.410714</td>\n",
              "    </tr>\n",
              "  </tbody>\n",
              "</table>\n",
              "<p>943 rows × 2 columns</p>\n",
              "</div>"
            ],
            "text/plain": [
              "     user_id    rating\n",
              "0          1  3.610294\n",
              "1          2  3.709677\n",
              "2          3  2.796296\n",
              "3          4  4.333333\n",
              "4          5  2.874286\n",
              "..       ...       ...\n",
              "938      939  4.265306\n",
              "939      940  3.457944\n",
              "940      941  4.045455\n",
              "941      942  4.265823\n",
              "942      943  3.410714\n",
              "\n",
              "[943 rows x 2 columns]"
            ]
          },
          "execution_count": 13,
          "metadata": {},
          "output_type": "execute_result"
        }
      ],
      "source": [
        "ratings.groupby('user_id')['rating'].mean().reset_index()"
      ]
    },
    {
      "cell_type": "code",
      "execution_count": 14,
      "metadata": {
        "id": "D0CPkvI-otbP"
      },
      "outputs": [
        {
          "data": {
            "text/plain": [
              "array([[<AxesSubplot: title={'center': 'count'}>,\n",
              "        <AxesSubplot: title={'center': 'mean'}>]], dtype=object)"
            ]
          },
          "execution_count": 14,
          "metadata": {},
          "output_type": "execute_result"
        },
        {
          "data": {
            "image/png": "[encoded data removed]",
            "text/plain": [
              "<Figure size 640x480 with 2 Axes>"
            ]
          },
          "metadata": {},
          "output_type": "display_data"
        }
      ],
      "source": [
        "ratings.groupby('user_id')['rating'].agg({'count','mean'}).sort_values(by='count', ascending=False).hist()"
      ]
    },
    {
      "attachments": {},
      "cell_type": "markdown",
      "metadata": {
        "id": "IOH5jtpUokKn"
      },
      "source": [
        "## Utilice las siguientes celdas para encontrar respuesta a las siguientes preguntas\n",
        "\n",
        "- ¿Cómo es la distribución del número de ratings por usuario?\n",
        "\n",
        "- ¿Cómo es la distribución del promedio de calificación por usuario?\n"
      ]
    },
    {
      "attachments": {},
      "cell_type": "markdown",
      "metadata": {
        "id": "9PA43szmpTiQ",
        "vscode": {
          "languageId": "python"
        }
      },
      "source": [
        "El número de ratings que otorga cada usuario muestra una ‘cola’ larga, lo que nos indica que la mayoría de los usuarios califica en promedio entre 20 y 100 veces (la cola está truncada a la izquierda ya que se excluyen usuarios con menos de 20 calificaciones) y hay unos pocos usuarios que califican más de 500 veces. \n",
        "\n",
        "Cuando examinamos el rating promedio otorgado por cada usuario, vemos una distribución de estos ratings más normalizada, centrada entre 3.5 y 4.0. "
      ]
    },
    {
      "attachments": {},
      "cell_type": "markdown",
      "metadata": {
        "id": "Sb2m2qv9sqZt"
      },
      "source": [
        "## En la siguiente celda se esta calculando el número de ratings por items, el promedio de sus calificaciones y la varianza de sus calificaciones. "
      ]
    },
    {
      "cell_type": "code",
      "execution_count": 15,
      "metadata": {
        "id": "xXZw4Iy2aARs"
      },
      "outputs": [
        {
          "data": {
            "text/html": [
              "<div>\n",
              "<style scoped>\n",
              "    .dataframe tbody tr th:only-of-type {\n",
              "        vertical-align: middle;\n",
              "    }\n",
              "\n",
              "    .dataframe tbody tr th {\n",
              "        vertical-align: top;\n",
              "    }\n",
              "\n",
              "    .dataframe thead th {\n",
              "        text-align: right;\n",
              "    }\n",
              "</style>\n",
              "<table border=\"1\" class=\"dataframe\">\n",
              "  <thead>\n",
              "    <tr style=\"text-align: right;\">\n",
              "      <th></th>\n",
              "      <th>var</th>\n",
              "      <th>count</th>\n",
              "      <th>mean</th>\n",
              "      <th>movie title</th>\n",
              "    </tr>\n",
              "    <tr>\n",
              "      <th>item_id</th>\n",
              "      <th></th>\n",
              "      <th></th>\n",
              "      <th></th>\n",
              "      <th></th>\n",
              "    </tr>\n",
              "  </thead>\n",
              "  <tbody>\n",
              "    <tr>\n",
              "      <th>1</th>\n",
              "      <td>0.860992</td>\n",
              "      <td>452</td>\n",
              "      <td>3.878319</td>\n",
              "      <td>GoldenEye (1995)</td>\n",
              "    </tr>\n",
              "    <tr>\n",
              "      <th>2</th>\n",
              "      <td>0.934116</td>\n",
              "      <td>131</td>\n",
              "      <td>3.206107</td>\n",
              "      <td>Four Rooms (1995)</td>\n",
              "    </tr>\n",
              "    <tr>\n",
              "      <th>3</th>\n",
              "      <td>1.470787</td>\n",
              "      <td>90</td>\n",
              "      <td>3.033333</td>\n",
              "      <td>Get Shorty (1995)</td>\n",
              "    </tr>\n",
              "    <tr>\n",
              "      <th>4</th>\n",
              "      <td>0.931358</td>\n",
              "      <td>209</td>\n",
              "      <td>3.550239</td>\n",
              "      <td>Copycat (1995)</td>\n",
              "    </tr>\n",
              "    <tr>\n",
              "      <th>5</th>\n",
              "      <td>0.895759</td>\n",
              "      <td>86</td>\n",
              "      <td>3.302326</td>\n",
              "      <td>Shanghai Triad (Yao a yao yao dao waipo qiao) ...</td>\n",
              "    </tr>\n",
              "    <tr>\n",
              "      <th>...</th>\n",
              "      <td>...</td>\n",
              "      <td>...</td>\n",
              "      <td>...</td>\n",
              "      <td>...</td>\n",
              "    </tr>\n",
              "    <tr>\n",
              "      <th>1678</th>\n",
              "      <td>NaN</td>\n",
              "      <td>1</td>\n",
              "      <td>1.000000</td>\n",
              "      <td>B. Monkey (1998)</td>\n",
              "    </tr>\n",
              "    <tr>\n",
              "      <th>1679</th>\n",
              "      <td>NaN</td>\n",
              "      <td>1</td>\n",
              "      <td>3.000000</td>\n",
              "      <td>Sliding Doors (1998)</td>\n",
              "    </tr>\n",
              "    <tr>\n",
              "      <th>1680</th>\n",
              "      <td>NaN</td>\n",
              "      <td>1</td>\n",
              "      <td>2.000000</td>\n",
              "      <td>You So Crazy (1994)</td>\n",
              "    </tr>\n",
              "    <tr>\n",
              "      <th>1681</th>\n",
              "      <td>NaN</td>\n",
              "      <td>1</td>\n",
              "      <td>3.000000</td>\n",
              "      <td>Scream of Stone (Schrei aus Stein) (1991)</td>\n",
              "    </tr>\n",
              "    <tr>\n",
              "      <th>1682</th>\n",
              "      <td>NaN</td>\n",
              "      <td>1</td>\n",
              "      <td>3.000000</td>\n",
              "      <td>NaN</td>\n",
              "    </tr>\n",
              "  </tbody>\n",
              "</table>\n",
              "<p>1682 rows × 4 columns</p>\n",
              "</div>"
            ],
            "text/plain": [
              "              var  count      mean  \\\n",
              "item_id                              \n",
              "1        0.860992    452  3.878319   \n",
              "2        0.934116    131  3.206107   \n",
              "3        1.470787     90  3.033333   \n",
              "4        0.931358    209  3.550239   \n",
              "5        0.895759     86  3.302326   \n",
              "...           ...    ...       ...   \n",
              "1678          NaN      1  1.000000   \n",
              "1679          NaN      1  3.000000   \n",
              "1680          NaN      1  2.000000   \n",
              "1681          NaN      1  3.000000   \n",
              "1682          NaN      1  3.000000   \n",
              "\n",
              "                                               movie title  \n",
              "item_id                                                     \n",
              "1                                         GoldenEye (1995)  \n",
              "2                                        Four Rooms (1995)  \n",
              "3                                        Get Shorty (1995)  \n",
              "4                                           Copycat (1995)  \n",
              "5        Shanghai Triad (Yao a yao yao dao waipo qiao) ...  \n",
              "...                                                    ...  \n",
              "1678                                      B. Monkey (1998)  \n",
              "1679                                  Sliding Doors (1998)  \n",
              "1680                                   You So Crazy (1994)  \n",
              "1681             Scream of Stone (Schrei aus Stein) (1991)  \n",
              "1682                                                   NaN  \n",
              "\n",
              "[1682 rows x 4 columns]"
            ]
          },
          "execution_count": 15,
          "metadata": {},
          "output_type": "execute_result"
        }
      ],
      "source": [
        "ratings.groupby('item_id')['rating'].agg({'count','mean','var'}).join(items['movie title'], how='left')"
      ]
    },
    {
      "attachments": {},
      "cell_type": "markdown",
      "metadata": {
        "id": "mLsd_rohxMhc"
      },
      "source": [
        "## Utilice las siguientes celdas para encontrar la respuesta a las siguientes preguntas\n",
        "\n",
        "¿Cuáles son los items con más calificaciones?  \n",
        "\n",
        "¿Se puede observar el fenomeno de cola larga en este dataset?\n",
        "\n",
        "\n"
      ]
    },
    {
      "cell_type": "code",
      "execution_count": 16,
      "metadata": {
        "id": "pCobQat1gQip"
      },
      "outputs": [],
      "source": [
        "mt=ratings.groupby('item_id')['rating'].agg({'count','mean','var'}).join(items['movie title'], how='left')"
      ]
    },
    {
      "cell_type": "code",
      "execution_count": 17,
      "metadata": {
        "id": "owf_C2Ob59WJ"
      },
      "outputs": [
        {
          "data": {
            "text/html": [
              "<div>\n",
              "<style scoped>\n",
              "    .dataframe tbody tr th:only-of-type {\n",
              "        vertical-align: middle;\n",
              "    }\n",
              "\n",
              "    .dataframe tbody tr th {\n",
              "        vertical-align: top;\n",
              "    }\n",
              "\n",
              "    .dataframe thead th {\n",
              "        text-align: right;\n",
              "    }\n",
              "</style>\n",
              "<table border=\"1\" class=\"dataframe\">\n",
              "  <thead>\n",
              "    <tr style=\"text-align: right;\">\n",
              "      <th></th>\n",
              "      <th>var</th>\n",
              "      <th>count</th>\n",
              "      <th>mean</th>\n",
              "      <th>movie title</th>\n",
              "    </tr>\n",
              "    <tr>\n",
              "      <th>item_id</th>\n",
              "      <th></th>\n",
              "      <th></th>\n",
              "      <th></th>\n",
              "      <th></th>\n",
              "    </tr>\n",
              "  </thead>\n",
              "  <tbody>\n",
              "    <tr>\n",
              "      <th>1</th>\n",
              "      <td>0.860992</td>\n",
              "      <td>452</td>\n",
              "      <td>3.878319</td>\n",
              "      <td>GoldenEye (1995)</td>\n",
              "    </tr>\n",
              "    <tr>\n",
              "      <th>2</th>\n",
              "      <td>0.934116</td>\n",
              "      <td>131</td>\n",
              "      <td>3.206107</td>\n",
              "      <td>Four Rooms (1995)</td>\n",
              "    </tr>\n",
              "    <tr>\n",
              "      <th>3</th>\n",
              "      <td>1.470787</td>\n",
              "      <td>90</td>\n",
              "      <td>3.033333</td>\n",
              "      <td>Get Shorty (1995)</td>\n",
              "    </tr>\n",
              "    <tr>\n",
              "      <th>4</th>\n",
              "      <td>0.931358</td>\n",
              "      <td>209</td>\n",
              "      <td>3.550239</td>\n",
              "      <td>Copycat (1995)</td>\n",
              "    </tr>\n",
              "    <tr>\n",
              "      <th>5</th>\n",
              "      <td>0.895759</td>\n",
              "      <td>86</td>\n",
              "      <td>3.302326</td>\n",
              "      <td>Shanghai Triad (Yao a yao yao dao waipo qiao) ...</td>\n",
              "    </tr>\n",
              "    <tr>\n",
              "      <th>...</th>\n",
              "      <td>...</td>\n",
              "      <td>...</td>\n",
              "      <td>...</td>\n",
              "      <td>...</td>\n",
              "    </tr>\n",
              "    <tr>\n",
              "      <th>1678</th>\n",
              "      <td>NaN</td>\n",
              "      <td>1</td>\n",
              "      <td>1.000000</td>\n",
              "      <td>B. Monkey (1998)</td>\n",
              "    </tr>\n",
              "    <tr>\n",
              "      <th>1679</th>\n",
              "      <td>NaN</td>\n",
              "      <td>1</td>\n",
              "      <td>3.000000</td>\n",
              "      <td>Sliding Doors (1998)</td>\n",
              "    </tr>\n",
              "    <tr>\n",
              "      <th>1680</th>\n",
              "      <td>NaN</td>\n",
              "      <td>1</td>\n",
              "      <td>2.000000</td>\n",
              "      <td>You So Crazy (1994)</td>\n",
              "    </tr>\n",
              "    <tr>\n",
              "      <th>1681</th>\n",
              "      <td>NaN</td>\n",
              "      <td>1</td>\n",
              "      <td>3.000000</td>\n",
              "      <td>Scream of Stone (Schrei aus Stein) (1991)</td>\n",
              "    </tr>\n",
              "    <tr>\n",
              "      <th>1682</th>\n",
              "      <td>NaN</td>\n",
              "      <td>1</td>\n",
              "      <td>3.000000</td>\n",
              "      <td>NaN</td>\n",
              "    </tr>\n",
              "  </tbody>\n",
              "</table>\n",
              "<p>1682 rows × 4 columns</p>\n",
              "</div>"
            ],
            "text/plain": [
              "              var  count      mean  \\\n",
              "item_id                              \n",
              "1        0.860992    452  3.878319   \n",
              "2        0.934116    131  3.206107   \n",
              "3        1.470787     90  3.033333   \n",
              "4        0.931358    209  3.550239   \n",
              "5        0.895759     86  3.302326   \n",
              "...           ...    ...       ...   \n",
              "1678          NaN      1  1.000000   \n",
              "1679          NaN      1  3.000000   \n",
              "1680          NaN      1  2.000000   \n",
              "1681          NaN      1  3.000000   \n",
              "1682          NaN      1  3.000000   \n",
              "\n",
              "                                               movie title  \n",
              "item_id                                                     \n",
              "1                                         GoldenEye (1995)  \n",
              "2                                        Four Rooms (1995)  \n",
              "3                                        Get Shorty (1995)  \n",
              "4                                           Copycat (1995)  \n",
              "5        Shanghai Triad (Yao a yao yao dao waipo qiao) ...  \n",
              "...                                                    ...  \n",
              "1678                                      B. Monkey (1998)  \n",
              "1679                                  Sliding Doors (1998)  \n",
              "1680                                   You So Crazy (1994)  \n",
              "1681             Scream of Stone (Schrei aus Stein) (1991)  \n",
              "1682                                                   NaN  \n",
              "\n",
              "[1682 rows x 4 columns]"
            ]
          },
          "execution_count": 17,
          "metadata": {},
          "output_type": "execute_result"
        }
      ],
      "source": [
        "mt"
      ]
    },
    {
      "cell_type": "code",
      "execution_count": 18,
      "metadata": {
        "id": "C_O-o3Zb8-Dx"
      },
      "outputs": [
        {
          "data": {
            "text/plain": [
              "<AxesSubplot: >"
            ]
          },
          "execution_count": 18,
          "metadata": {},
          "output_type": "execute_result"
        },
        {
          "data": {
            "image/png": "[encoded data removed]",
            "text/plain": [
              "<Figure size 640x480 with 1 Axes>"
            ]
          },
          "metadata": {},
          "output_type": "display_data"
        }
      ],
      "source": [
        "mt['count'].hist()"
      ]
    },
    {
      "cell_type": "code",
      "execution_count": 19,
      "metadata": {},
      "outputs": [
        {
          "data": {
            "text/html": [
              "<div>\n",
              "<style scoped>\n",
              "    .dataframe tbody tr th:only-of-type {\n",
              "        vertical-align: middle;\n",
              "    }\n",
              "\n",
              "    .dataframe tbody tr th {\n",
              "        vertical-align: top;\n",
              "    }\n",
              "\n",
              "    .dataframe thead th {\n",
              "        text-align: right;\n",
              "    }\n",
              "</style>\n",
              "<table border=\"1\" class=\"dataframe\">\n",
              "  <thead>\n",
              "    <tr style=\"text-align: right;\">\n",
              "      <th></th>\n",
              "      <th>var</th>\n",
              "      <th>count</th>\n",
              "      <th>mean</th>\n",
              "      <th>movie title</th>\n",
              "    </tr>\n",
              "    <tr>\n",
              "      <th>item_id</th>\n",
              "      <th></th>\n",
              "      <th></th>\n",
              "      <th></th>\n",
              "      <th></th>\n",
              "    </tr>\n",
              "  </thead>\n",
              "  <tbody>\n",
              "    <tr>\n",
              "      <th>50</th>\n",
              "      <td>0.776762</td>\n",
              "      <td>583</td>\n",
              "      <td>4.358491</td>\n",
              "      <td>Legends of the Fall (1994)</td>\n",
              "    </tr>\n",
              "    <tr>\n",
              "      <th>258</th>\n",
              "      <td>0.988885</td>\n",
              "      <td>509</td>\n",
              "      <td>3.803536</td>\n",
              "      <td>George of the Jungle (1997)</td>\n",
              "    </tr>\n",
              "    <tr>\n",
              "      <th>100</th>\n",
              "      <td>0.952100</td>\n",
              "      <td>508</td>\n",
              "      <td>4.155512</td>\n",
              "      <td>Heavy Metal (1981)</td>\n",
              "    </tr>\n",
              "    <tr>\n",
              "      <th>181</th>\n",
              "      <td>0.853693</td>\n",
              "      <td>507</td>\n",
              "      <td>4.007890</td>\n",
              "      <td>GoodFellas (1990)</td>\n",
              "    </tr>\n",
              "    <tr>\n",
              "      <th>294</th>\n",
              "      <td>1.206799</td>\n",
              "      <td>485</td>\n",
              "      <td>3.156701</td>\n",
              "      <td>Breakdown (1997)</td>\n",
              "    </tr>\n",
              "    <tr>\n",
              "      <th>...</th>\n",
              "      <td>...</td>\n",
              "      <td>...</td>\n",
              "      <td>...</td>\n",
              "      <td>...</td>\n",
              "    </tr>\n",
              "    <tr>\n",
              "      <th>1576</th>\n",
              "      <td>NaN</td>\n",
              "      <td>1</td>\n",
              "      <td>1.000000</td>\n",
              "      <td>Death in the Garden (Mort en ce jardin, La) (1...</td>\n",
              "    </tr>\n",
              "    <tr>\n",
              "      <th>1577</th>\n",
              "      <td>NaN</td>\n",
              "      <td>1</td>\n",
              "      <td>1.000000</td>\n",
              "      <td>Collectionneuse, La (1967)</td>\n",
              "    </tr>\n",
              "    <tr>\n",
              "      <th>1348</th>\n",
              "      <td>NaN</td>\n",
              "      <td>1</td>\n",
              "      <td>1.000000</td>\n",
              "      <td>Mille bolle blu (1993)</td>\n",
              "    </tr>\n",
              "    <tr>\n",
              "      <th>1579</th>\n",
              "      <td>NaN</td>\n",
              "      <td>1</td>\n",
              "      <td>1.000000</td>\n",
              "      <td>Liebelei (1933)</td>\n",
              "    </tr>\n",
              "    <tr>\n",
              "      <th>1682</th>\n",
              "      <td>NaN</td>\n",
              "      <td>1</td>\n",
              "      <td>3.000000</td>\n",
              "      <td>NaN</td>\n",
              "    </tr>\n",
              "  </tbody>\n",
              "</table>\n",
              "<p>1682 rows × 4 columns</p>\n",
              "</div>"
            ],
            "text/plain": [
              "              var  count      mean  \\\n",
              "item_id                              \n",
              "50       0.776762    583  4.358491   \n",
              "258      0.988885    509  3.803536   \n",
              "100      0.952100    508  4.155512   \n",
              "181      0.853693    507  4.007890   \n",
              "294      1.206799    485  3.156701   \n",
              "...           ...    ...       ...   \n",
              "1576          NaN      1  1.000000   \n",
              "1577          NaN      1  1.000000   \n",
              "1348          NaN      1  1.000000   \n",
              "1579          NaN      1  1.000000   \n",
              "1682          NaN      1  3.000000   \n",
              "\n",
              "                                               movie title  \n",
              "item_id                                                     \n",
              "50                              Legends of the Fall (1994)  \n",
              "258                            George of the Jungle (1997)  \n",
              "100                                     Heavy Metal (1981)  \n",
              "181                                      GoodFellas (1990)  \n",
              "294                                       Breakdown (1997)  \n",
              "...                                                    ...  \n",
              "1576     Death in the Garden (Mort en ce jardin, La) (1...  \n",
              "1577                            Collectionneuse, La (1967)  \n",
              "1348                                Mille bolle blu (1993)  \n",
              "1579                                       Liebelei (1933)  \n",
              "1682                                                   NaN  \n",
              "\n",
              "[1682 rows x 4 columns]"
            ]
          },
          "execution_count": 19,
          "metadata": {},
          "output_type": "execute_result"
        }
      ],
      "source": [
        "mt.sort_values(by='count', ascending=False)"
      ]
    },
    {
      "cell_type": "code",
      "execution_count": 20,
      "metadata": {},
      "outputs": [],
      "source": [
        "# ratings acumulados para el top x\n",
        "def ratings_del_topx_items(x):\n",
        "    cum = mt['count'][0:x].sum()\n",
        "    tot = mt['count'].sum()\n",
        "    print('Top {0} items con más ratings acumulan {1} ratings, o {2:%} del total'.format(x, cum, cum/tot))\n",
        "    print(mt['count'][0:x])\n"
      ]
    },
    {
      "cell_type": "code",
      "execution_count": 21,
      "metadata": {},
      "outputs": [
        {
          "name": "stdout",
          "output_type": "stream",
          "text": [
            "Top 4 items con más ratings acumulan 882 ratings, o 0.882000% del total\n",
            "item_id\n",
            "1    452\n",
            "2    131\n",
            "3     90\n",
            "4    209\n",
            "Name: count, dtype: int64\n"
          ]
        }
      ],
      "source": [
        "ratings_del_topx_items(4)"
      ]
    },
    {
      "cell_type": "code",
      "execution_count": 22,
      "metadata": {},
      "outputs": [
        {
          "name": "stdout",
          "output_type": "stream",
          "text": [
            "Top 100 items con más ratings acumulan 14892 ratings, o 14.892000% del total\n",
            "item_id\n",
            "1      452\n",
            "2      131\n",
            "3       90\n",
            "4      209\n",
            "5       86\n",
            "      ... \n",
            "96     295\n",
            "97     256\n",
            "98     390\n",
            "99     172\n",
            "100    508\n",
            "Name: count, Length: 100, dtype: int64\n"
          ]
        }
      ],
      "source": [
        "ratings_del_topx_items(100)"
      ]
    },
    {
      "cell_type": "code",
      "execution_count": 23,
      "metadata": {},
      "outputs": [
        {
          "name": "stdout",
          "output_type": "stream",
          "text": [
            "Top 300 items con más ratings acumulan 47063 ratings, o 47.063000% del total\n",
            "item_id\n",
            "1      452\n",
            "2      131\n",
            "3       90\n",
            "4      209\n",
            "5       86\n",
            "      ... \n",
            "296      6\n",
            "297     50\n",
            "298    194\n",
            "299     73\n",
            "300    431\n",
            "Name: count, Length: 300, dtype: int64\n"
          ]
        }
      ],
      "source": [
        "ratings_del_topx_items(300)"
      ]
    },
    {
      "attachments": {},
      "cell_type": "markdown",
      "metadata": {},
      "source": [
        "Finalmente, observamos que los items con más calificaciones (Legends of the Fall, George of the Jungle, Heavy Metal, GoodFellas y Breakdown) son los más calificados y acumulan un total de 2592 calificaciones. El top-100 de items, acumula cerca del 15% de las calificaciones en el dataset y el top-300, cerca del 47%, por lo que claramente se evidencia el efecto de cola larga. "
      ]
    },
    {
      "cell_type": "markdown",
      "metadata": {
        "id": "kG9eggK7cQIc"
      },
      "source": [
        "## Creación de listas de recomendación no personalizadas\n",
        "\n",
        "Genere inicialmente una lista de recomendación de tamaño 10 no personalizada con los items con mejor promedio, en teoría estos son los mejores items del dataset.\n",
        "\n",
        "¿Qué problemas tiene generar una lista no personalizada solamente con el promedio?\n",
        "\n",
        "¿Es posible generar una mejor lista de recomendación teniendo en cuenta que tanto el número de ratings del item como su promedio?\n",
        "\n",
        "Ver: \n",
        "\n",
        "http://www.evanmiller.org/how-not-to-sort-by-average-rating.html\n",
        "\n",
        "https://es.wikipedia.org/wiki/Intervalo_de_confianza\n"
      ]
    },
    {
      "attachments": {},
      "cell_type": "markdown",
      "metadata": {},
      "source": [
        "Generamos una lista de 10 recomendaciones no personalizadas, basada únicamente en el promedio de la calificación otorgada a los items, tal como se presenta a continuación: "
      ]
    },
    {
      "cell_type": "code",
      "execution_count": 24,
      "metadata": {
        "id": "4XMG1LkAdXAv"
      },
      "outputs": [
        {
          "data": {
            "text/html": [
              "<div>\n",
              "<style scoped>\n",
              "    .dataframe tbody tr th:only-of-type {\n",
              "        vertical-align: middle;\n",
              "    }\n",
              "\n",
              "    .dataframe tbody tr th {\n",
              "        vertical-align: top;\n",
              "    }\n",
              "\n",
              "    .dataframe thead th {\n",
              "        text-align: right;\n",
              "    }\n",
              "</style>\n",
              "<table border=\"1\" class=\"dataframe\">\n",
              "  <thead>\n",
              "    <tr style=\"text-align: right;\">\n",
              "      <th></th>\n",
              "      <th>count</th>\n",
              "      <th>mean</th>\n",
              "      <th>movie title</th>\n",
              "    </tr>\n",
              "    <tr>\n",
              "      <th>item_id</th>\n",
              "      <th></th>\n",
              "      <th></th>\n",
              "      <th></th>\n",
              "    </tr>\n",
              "  </thead>\n",
              "  <tbody>\n",
              "    <tr>\n",
              "      <th>1293</th>\n",
              "      <td>3</td>\n",
              "      <td>5.0</td>\n",
              "      <td>Ayn Rand: A Sense of Life (1997)</td>\n",
              "    </tr>\n",
              "    <tr>\n",
              "      <th>1189</th>\n",
              "      <td>3</td>\n",
              "      <td>5.0</td>\n",
              "      <td>That Old Feeling (1997)</td>\n",
              "    </tr>\n",
              "    <tr>\n",
              "      <th>1500</th>\n",
              "      <td>2</td>\n",
              "      <td>5.0</td>\n",
              "      <td>Prisoner of the Mountains (Kavkazsky Plennik) ...</td>\n",
              "    </tr>\n",
              "    <tr>\n",
              "      <th>1467</th>\n",
              "      <td>2</td>\n",
              "      <td>5.0</td>\n",
              "      <td>Cure, The (1995)</td>\n",
              "    </tr>\n",
              "    <tr>\n",
              "      <th>814</th>\n",
              "      <td>1</td>\n",
              "      <td>5.0</td>\n",
              "      <td>One Fine Day (1996)</td>\n",
              "    </tr>\n",
              "    <tr>\n",
              "      <th>1599</th>\n",
              "      <td>1</td>\n",
              "      <td>5.0</td>\n",
              "      <td>Guantanamera (1994)</td>\n",
              "    </tr>\n",
              "    <tr>\n",
              "      <th>1201</th>\n",
              "      <td>1</td>\n",
              "      <td>5.0</td>\n",
              "      <td>Maybe, Maybe Not (Bewegte Mann, Der) (1994)</td>\n",
              "    </tr>\n",
              "    <tr>\n",
              "      <th>1122</th>\n",
              "      <td>1</td>\n",
              "      <td>5.0</td>\n",
              "      <td>Last Time I Saw Paris, The (1954)</td>\n",
              "    </tr>\n",
              "    <tr>\n",
              "      <th>1653</th>\n",
              "      <td>1</td>\n",
              "      <td>5.0</td>\n",
              "      <td>Chairman of the Board (1998)</td>\n",
              "    </tr>\n",
              "    <tr>\n",
              "      <th>1536</th>\n",
              "      <td>1</td>\n",
              "      <td>5.0</td>\n",
              "      <td>Cosi (1996)</td>\n",
              "    </tr>\n",
              "  </tbody>\n",
              "</table>\n",
              "</div>"
            ],
            "text/plain": [
              "         count  mean                                        movie title\n",
              "item_id                                                                \n",
              "1293         3   5.0                   Ayn Rand: A Sense of Life (1997)\n",
              "1189         3   5.0                            That Old Feeling (1997)\n",
              "1500         2   5.0  Prisoner of the Mountains (Kavkazsky Plennik) ...\n",
              "1467         2   5.0                                   Cure, The (1995)\n",
              "814          1   5.0                                One Fine Day (1996)\n",
              "1599         1   5.0                                Guantanamera (1994)\n",
              "1201         1   5.0        Maybe, Maybe Not (Bewegte Mann, Der) (1994)\n",
              "1122         1   5.0                  Last Time I Saw Paris, The (1954)\n",
              "1653         1   5.0                       Chairman of the Board (1998)\n",
              "1536         1   5.0                                        Cosi (1996)"
            ]
          },
          "execution_count": 24,
          "metadata": {},
          "output_type": "execute_result"
        }
      ],
      "source": [
        "list_no_per = mt.sort_values(by='mean', ascending=False)\n",
        "list_no_per.pop('var')\n",
        "list_no_per[0:10].sort_values(by='count', ascending=False)"
      ]
    },
    {
      "attachments": {},
      "cell_type": "markdown",
      "metadata": {
        "id": "XWiogp7udWwI",
        "vscode": {
          "languageId": "python"
        }
      },
      "source": [
        "Esta aproximación no funciona bien cuando existen ítems con pocas calificaciones1 (o una única) ya que no se puede evidenciar que la calificación sobre la que se basa la recomendación sea significativa, tal como se evidencia en la lista presentada anteriormente. \n",
        "\n",
        "Para corregir esto, calculamos el límite inferior (al 95% de confianza) de la calificación de cada una de las películas usando el score Wilson para un parámetro de Bernoulli. Para ello, clasificamos ‘ratings positivos’ como aquellos mayores a 3 y calculamos el parámetro usando la suma de estos ‘ratings positivos’ sobre el total de las calificaciones para cada item."
      ]
    },
    {
      "cell_type": "code",
      "execution_count": 25,
      "metadata": {},
      "outputs": [
        {
          "data": {
            "text/html": [
              "<div>\n",
              "<style scoped>\n",
              "    .dataframe tbody tr th:only-of-type {\n",
              "        vertical-align: middle;\n",
              "    }\n",
              "\n",
              "    .dataframe tbody tr th {\n",
              "        vertical-align: top;\n",
              "    }\n",
              "\n",
              "    .dataframe thead th {\n",
              "        text-align: right;\n",
              "    }\n",
              "</style>\n",
              "<table border=\"1\" class=\"dataframe\">\n",
              "  <thead>\n",
              "    <tr style=\"text-align: right;\">\n",
              "      <th></th>\n",
              "      <th>user_id</th>\n",
              "      <th>item_id</th>\n",
              "      <th>rating</th>\n",
              "      <th>timestamp</th>\n",
              "    </tr>\n",
              "  </thead>\n",
              "  <tbody>\n",
              "    <tr>\n",
              "      <th>0</th>\n",
              "      <td>196</td>\n",
              "      <td>242</td>\n",
              "      <td>3</td>\n",
              "      <td>881250949</td>\n",
              "    </tr>\n",
              "    <tr>\n",
              "      <th>1</th>\n",
              "      <td>186</td>\n",
              "      <td>302</td>\n",
              "      <td>3</td>\n",
              "      <td>891717742</td>\n",
              "    </tr>\n",
              "    <tr>\n",
              "      <th>2</th>\n",
              "      <td>22</td>\n",
              "      <td>377</td>\n",
              "      <td>1</td>\n",
              "      <td>878887116</td>\n",
              "    </tr>\n",
              "    <tr>\n",
              "      <th>3</th>\n",
              "      <td>244</td>\n",
              "      <td>51</td>\n",
              "      <td>2</td>\n",
              "      <td>880606923</td>\n",
              "    </tr>\n",
              "    <tr>\n",
              "      <th>4</th>\n",
              "      <td>166</td>\n",
              "      <td>346</td>\n",
              "      <td>1</td>\n",
              "      <td>886397596</td>\n",
              "    </tr>\n",
              "    <tr>\n",
              "      <th>...</th>\n",
              "      <td>...</td>\n",
              "      <td>...</td>\n",
              "      <td>...</td>\n",
              "      <td>...</td>\n",
              "    </tr>\n",
              "    <tr>\n",
              "      <th>99995</th>\n",
              "      <td>880</td>\n",
              "      <td>476</td>\n",
              "      <td>3</td>\n",
              "      <td>880175444</td>\n",
              "    </tr>\n",
              "    <tr>\n",
              "      <th>99996</th>\n",
              "      <td>716</td>\n",
              "      <td>204</td>\n",
              "      <td>5</td>\n",
              "      <td>879795543</td>\n",
              "    </tr>\n",
              "    <tr>\n",
              "      <th>99997</th>\n",
              "      <td>276</td>\n",
              "      <td>1090</td>\n",
              "      <td>1</td>\n",
              "      <td>874795795</td>\n",
              "    </tr>\n",
              "    <tr>\n",
              "      <th>99998</th>\n",
              "      <td>13</td>\n",
              "      <td>225</td>\n",
              "      <td>2</td>\n",
              "      <td>882399156</td>\n",
              "    </tr>\n",
              "    <tr>\n",
              "      <th>99999</th>\n",
              "      <td>12</td>\n",
              "      <td>203</td>\n",
              "      <td>3</td>\n",
              "      <td>879959583</td>\n",
              "    </tr>\n",
              "  </tbody>\n",
              "</table>\n",
              "<p>100000 rows × 4 columns</p>\n",
              "</div>"
            ],
            "text/plain": [
              "       user_id  item_id  rating  timestamp\n",
              "0          196      242       3  881250949\n",
              "1          186      302       3  891717742\n",
              "2           22      377       1  878887116\n",
              "3          244       51       2  880606923\n",
              "4          166      346       1  886397596\n",
              "...        ...      ...     ...        ...\n",
              "99995      880      476       3  880175444\n",
              "99996      716      204       5  879795543\n",
              "99997      276     1090       1  874795795\n",
              "99998       13      225       2  882399156\n",
              "99999       12      203       3  879959583\n",
              "\n",
              "[100000 rows x 4 columns]"
            ]
          },
          "execution_count": 25,
          "metadata": {},
          "output_type": "execute_result"
        }
      ],
      "source": [
        "r_pos = ratings.copy()\n",
        "r_pos"
      ]
    },
    {
      "cell_type": "code",
      "execution_count": 26,
      "metadata": {},
      "outputs": [
        {
          "data": {
            "text/html": [
              "<div>\n",
              "<style scoped>\n",
              "    .dataframe tbody tr th:only-of-type {\n",
              "        vertical-align: middle;\n",
              "    }\n",
              "\n",
              "    .dataframe tbody tr th {\n",
              "        vertical-align: top;\n",
              "    }\n",
              "\n",
              "    .dataframe thead th {\n",
              "        text-align: right;\n",
              "    }\n",
              "</style>\n",
              "<table border=\"1\" class=\"dataframe\">\n",
              "  <thead>\n",
              "    <tr style=\"text-align: right;\">\n",
              "      <th></th>\n",
              "      <th>user_id</th>\n",
              "      <th>item_id</th>\n",
              "      <th>rating</th>\n",
              "      <th>timestamp</th>\n",
              "      <th>pos</th>\n",
              "    </tr>\n",
              "  </thead>\n",
              "  <tbody>\n",
              "    <tr>\n",
              "      <th>0</th>\n",
              "      <td>196</td>\n",
              "      <td>242</td>\n",
              "      <td>3</td>\n",
              "      <td>881250949</td>\n",
              "      <td>False</td>\n",
              "    </tr>\n",
              "    <tr>\n",
              "      <th>1</th>\n",
              "      <td>186</td>\n",
              "      <td>302</td>\n",
              "      <td>3</td>\n",
              "      <td>891717742</td>\n",
              "      <td>False</td>\n",
              "    </tr>\n",
              "    <tr>\n",
              "      <th>2</th>\n",
              "      <td>22</td>\n",
              "      <td>377</td>\n",
              "      <td>1</td>\n",
              "      <td>878887116</td>\n",
              "      <td>False</td>\n",
              "    </tr>\n",
              "    <tr>\n",
              "      <th>3</th>\n",
              "      <td>244</td>\n",
              "      <td>51</td>\n",
              "      <td>2</td>\n",
              "      <td>880606923</td>\n",
              "      <td>False</td>\n",
              "    </tr>\n",
              "    <tr>\n",
              "      <th>4</th>\n",
              "      <td>166</td>\n",
              "      <td>346</td>\n",
              "      <td>1</td>\n",
              "      <td>886397596</td>\n",
              "      <td>False</td>\n",
              "    </tr>\n",
              "    <tr>\n",
              "      <th>...</th>\n",
              "      <td>...</td>\n",
              "      <td>...</td>\n",
              "      <td>...</td>\n",
              "      <td>...</td>\n",
              "      <td>...</td>\n",
              "    </tr>\n",
              "    <tr>\n",
              "      <th>99995</th>\n",
              "      <td>880</td>\n",
              "      <td>476</td>\n",
              "      <td>3</td>\n",
              "      <td>880175444</td>\n",
              "      <td>False</td>\n",
              "    </tr>\n",
              "    <tr>\n",
              "      <th>99996</th>\n",
              "      <td>716</td>\n",
              "      <td>204</td>\n",
              "      <td>5</td>\n",
              "      <td>879795543</td>\n",
              "      <td>True</td>\n",
              "    </tr>\n",
              "    <tr>\n",
              "      <th>99997</th>\n",
              "      <td>276</td>\n",
              "      <td>1090</td>\n",
              "      <td>1</td>\n",
              "      <td>874795795</td>\n",
              "      <td>False</td>\n",
              "    </tr>\n",
              "    <tr>\n",
              "      <th>99998</th>\n",
              "      <td>13</td>\n",
              "      <td>225</td>\n",
              "      <td>2</td>\n",
              "      <td>882399156</td>\n",
              "      <td>False</td>\n",
              "    </tr>\n",
              "    <tr>\n",
              "      <th>99999</th>\n",
              "      <td>12</td>\n",
              "      <td>203</td>\n",
              "      <td>3</td>\n",
              "      <td>879959583</td>\n",
              "      <td>False</td>\n",
              "    </tr>\n",
              "  </tbody>\n",
              "</table>\n",
              "<p>100000 rows × 5 columns</p>\n",
              "</div>"
            ],
            "text/plain": [
              "       user_id  item_id  rating  timestamp    pos\n",
              "0          196      242       3  881250949  False\n",
              "1          186      302       3  891717742  False\n",
              "2           22      377       1  878887116  False\n",
              "3          244       51       2  880606923  False\n",
              "4          166      346       1  886397596  False\n",
              "...        ...      ...     ...        ...    ...\n",
              "99995      880      476       3  880175444  False\n",
              "99996      716      204       5  879795543   True\n",
              "99997      276     1090       1  874795795  False\n",
              "99998       13      225       2  882399156  False\n",
              "99999       12      203       3  879959583  False\n",
              "\n",
              "[100000 rows x 5 columns]"
            ]
          },
          "execution_count": 26,
          "metadata": {},
          "output_type": "execute_result"
        }
      ],
      "source": [
        "# Define función ratings 'positivos'\n",
        "# Positivos son aquellos con rating > a 3.\n",
        "funcion_pos = lambda x : True if x > 3 else False\n",
        "r_pos['pos'] = ratings.rating.apply(funcion_pos)\n",
        "r_pos"
      ]
    },
    {
      "cell_type": "code",
      "execution_count": 27,
      "metadata": {},
      "outputs": [
        {
          "data": {
            "text/plain": [
              "count     100000\n",
              "unique         2\n",
              "top         True\n",
              "freq       55375\n",
              "Name: pos, dtype: object"
            ]
          },
          "execution_count": 27,
          "metadata": {},
          "output_type": "execute_result"
        }
      ],
      "source": [
        "# revisa función ratings positivos\n",
        "r_pos.pos.describe()"
      ]
    },
    {
      "cell_type": "code",
      "execution_count": 28,
      "metadata": {},
      "outputs": [
        {
          "data": {
            "text/html": [
              "<div>\n",
              "<style scoped>\n",
              "    .dataframe tbody tr th:only-of-type {\n",
              "        vertical-align: middle;\n",
              "    }\n",
              "\n",
              "    .dataframe tbody tr th {\n",
              "        vertical-align: top;\n",
              "    }\n",
              "\n",
              "    .dataframe thead th {\n",
              "        text-align: right;\n",
              "    }\n",
              "</style>\n",
              "<table border=\"1\" class=\"dataframe\">\n",
              "  <thead>\n",
              "    <tr style=\"text-align: right;\">\n",
              "      <th></th>\n",
              "      <th>var</th>\n",
              "      <th>count</th>\n",
              "      <th>mean</th>\n",
              "      <th>pos</th>\n",
              "    </tr>\n",
              "    <tr>\n",
              "      <th>item_id</th>\n",
              "      <th></th>\n",
              "      <th></th>\n",
              "      <th></th>\n",
              "      <th></th>\n",
              "    </tr>\n",
              "  </thead>\n",
              "  <tbody>\n",
              "    <tr>\n",
              "      <th>1</th>\n",
              "      <td>0.860992</td>\n",
              "      <td>452</td>\n",
              "      <td>3.878319</td>\n",
              "      <td>321</td>\n",
              "    </tr>\n",
              "    <tr>\n",
              "      <th>2</th>\n",
              "      <td>0.934116</td>\n",
              "      <td>131</td>\n",
              "      <td>3.206107</td>\n",
              "      <td>51</td>\n",
              "    </tr>\n",
              "    <tr>\n",
              "      <th>3</th>\n",
              "      <td>1.470787</td>\n",
              "      <td>90</td>\n",
              "      <td>3.033333</td>\n",
              "      <td>34</td>\n",
              "    </tr>\n",
              "    <tr>\n",
              "      <th>4</th>\n",
              "      <td>0.931358</td>\n",
              "      <td>209</td>\n",
              "      <td>3.550239</td>\n",
              "      <td>122</td>\n",
              "    </tr>\n",
              "    <tr>\n",
              "      <th>5</th>\n",
              "      <td>0.895759</td>\n",
              "      <td>86</td>\n",
              "      <td>3.302326</td>\n",
              "      <td>39</td>\n",
              "    </tr>\n",
              "    <tr>\n",
              "      <th>...</th>\n",
              "      <td>...</td>\n",
              "      <td>...</td>\n",
              "      <td>...</td>\n",
              "      <td>...</td>\n",
              "    </tr>\n",
              "    <tr>\n",
              "      <th>1678</th>\n",
              "      <td>NaN</td>\n",
              "      <td>1</td>\n",
              "      <td>1.000000</td>\n",
              "      <td>0</td>\n",
              "    </tr>\n",
              "    <tr>\n",
              "      <th>1679</th>\n",
              "      <td>NaN</td>\n",
              "      <td>1</td>\n",
              "      <td>3.000000</td>\n",
              "      <td>0</td>\n",
              "    </tr>\n",
              "    <tr>\n",
              "      <th>1680</th>\n",
              "      <td>NaN</td>\n",
              "      <td>1</td>\n",
              "      <td>2.000000</td>\n",
              "      <td>0</td>\n",
              "    </tr>\n",
              "    <tr>\n",
              "      <th>1681</th>\n",
              "      <td>NaN</td>\n",
              "      <td>1</td>\n",
              "      <td>3.000000</td>\n",
              "      <td>0</td>\n",
              "    </tr>\n",
              "    <tr>\n",
              "      <th>1682</th>\n",
              "      <td>NaN</td>\n",
              "      <td>1</td>\n",
              "      <td>3.000000</td>\n",
              "      <td>0</td>\n",
              "    </tr>\n",
              "  </tbody>\n",
              "</table>\n",
              "<p>1682 rows × 4 columns</p>\n",
              "</div>"
            ],
            "text/plain": [
              "              var  count      mean  pos\n",
              "item_id                                \n",
              "1        0.860992    452  3.878319  321\n",
              "2        0.934116    131  3.206107   51\n",
              "3        1.470787     90  3.033333   34\n",
              "4        0.931358    209  3.550239  122\n",
              "5        0.895759     86  3.302326   39\n",
              "...           ...    ...       ...  ...\n",
              "1678          NaN      1  1.000000    0\n",
              "1679          NaN      1  3.000000    0\n",
              "1680          NaN      1  2.000000    0\n",
              "1681          NaN      1  3.000000    0\n",
              "1682          NaN      1  3.000000    0\n",
              "\n",
              "[1682 rows x 4 columns]"
            ]
          },
          "execution_count": 28,
          "metadata": {},
          "output_type": "execute_result"
        }
      ],
      "source": [
        "r_pos_sum = r_pos.groupby('item_id')['pos'].sum()\n",
        "new_mt = ratings.groupby('item_id')['rating'].agg({'count','mean','var'}).join(r_pos_sum, how='left')\n",
        "new_mt"
      ]
    },
    {
      "cell_type": "code",
      "execution_count": 29,
      "metadata": {},
      "outputs": [
        {
          "data": {
            "text/html": [
              "<div>\n",
              "<style scoped>\n",
              "    .dataframe tbody tr th:only-of-type {\n",
              "        vertical-align: middle;\n",
              "    }\n",
              "\n",
              "    .dataframe tbody tr th {\n",
              "        vertical-align: top;\n",
              "    }\n",
              "\n",
              "    .dataframe thead th {\n",
              "        text-align: right;\n",
              "    }\n",
              "</style>\n",
              "<table border=\"1\" class=\"dataframe\">\n",
              "  <thead>\n",
              "    <tr style=\"text-align: right;\">\n",
              "      <th></th>\n",
              "      <th>var</th>\n",
              "      <th>count</th>\n",
              "      <th>mean</th>\n",
              "      <th>pos</th>\n",
              "      <th>movie title</th>\n",
              "    </tr>\n",
              "    <tr>\n",
              "      <th>item_id</th>\n",
              "      <th></th>\n",
              "      <th></th>\n",
              "      <th></th>\n",
              "      <th></th>\n",
              "      <th></th>\n",
              "    </tr>\n",
              "  </thead>\n",
              "  <tbody>\n",
              "    <tr>\n",
              "      <th>1</th>\n",
              "      <td>0.860992</td>\n",
              "      <td>452</td>\n",
              "      <td>3.878319</td>\n",
              "      <td>321</td>\n",
              "      <td>GoldenEye (1995)</td>\n",
              "    </tr>\n",
              "    <tr>\n",
              "      <th>2</th>\n",
              "      <td>0.934116</td>\n",
              "      <td>131</td>\n",
              "      <td>3.206107</td>\n",
              "      <td>51</td>\n",
              "      <td>Four Rooms (1995)</td>\n",
              "    </tr>\n",
              "    <tr>\n",
              "      <th>3</th>\n",
              "      <td>1.470787</td>\n",
              "      <td>90</td>\n",
              "      <td>3.033333</td>\n",
              "      <td>34</td>\n",
              "      <td>Get Shorty (1995)</td>\n",
              "    </tr>\n",
              "    <tr>\n",
              "      <th>4</th>\n",
              "      <td>0.931358</td>\n",
              "      <td>209</td>\n",
              "      <td>3.550239</td>\n",
              "      <td>122</td>\n",
              "      <td>Copycat (1995)</td>\n",
              "    </tr>\n",
              "    <tr>\n",
              "      <th>5</th>\n",
              "      <td>0.895759</td>\n",
              "      <td>86</td>\n",
              "      <td>3.302326</td>\n",
              "      <td>39</td>\n",
              "      <td>Shanghai Triad (Yao a yao yao dao waipo qiao) ...</td>\n",
              "    </tr>\n",
              "    <tr>\n",
              "      <th>...</th>\n",
              "      <td>...</td>\n",
              "      <td>...</td>\n",
              "      <td>...</td>\n",
              "      <td>...</td>\n",
              "      <td>...</td>\n",
              "    </tr>\n",
              "    <tr>\n",
              "      <th>1678</th>\n",
              "      <td>NaN</td>\n",
              "      <td>1</td>\n",
              "      <td>1.000000</td>\n",
              "      <td>0</td>\n",
              "      <td>B. Monkey (1998)</td>\n",
              "    </tr>\n",
              "    <tr>\n",
              "      <th>1679</th>\n",
              "      <td>NaN</td>\n",
              "      <td>1</td>\n",
              "      <td>3.000000</td>\n",
              "      <td>0</td>\n",
              "      <td>Sliding Doors (1998)</td>\n",
              "    </tr>\n",
              "    <tr>\n",
              "      <th>1680</th>\n",
              "      <td>NaN</td>\n",
              "      <td>1</td>\n",
              "      <td>2.000000</td>\n",
              "      <td>0</td>\n",
              "      <td>You So Crazy (1994)</td>\n",
              "    </tr>\n",
              "    <tr>\n",
              "      <th>1681</th>\n",
              "      <td>NaN</td>\n",
              "      <td>1</td>\n",
              "      <td>3.000000</td>\n",
              "      <td>0</td>\n",
              "      <td>Scream of Stone (Schrei aus Stein) (1991)</td>\n",
              "    </tr>\n",
              "    <tr>\n",
              "      <th>1682</th>\n",
              "      <td>NaN</td>\n",
              "      <td>1</td>\n",
              "      <td>3.000000</td>\n",
              "      <td>0</td>\n",
              "      <td>NaN</td>\n",
              "    </tr>\n",
              "  </tbody>\n",
              "</table>\n",
              "<p>1682 rows × 5 columns</p>\n",
              "</div>"
            ],
            "text/plain": [
              "              var  count      mean  pos  \\\n",
              "item_id                                   \n",
              "1        0.860992    452  3.878319  321   \n",
              "2        0.934116    131  3.206107   51   \n",
              "3        1.470787     90  3.033333   34   \n",
              "4        0.931358    209  3.550239  122   \n",
              "5        0.895759     86  3.302326   39   \n",
              "...           ...    ...       ...  ...   \n",
              "1678          NaN      1  1.000000    0   \n",
              "1679          NaN      1  3.000000    0   \n",
              "1680          NaN      1  2.000000    0   \n",
              "1681          NaN      1  3.000000    0   \n",
              "1682          NaN      1  3.000000    0   \n",
              "\n",
              "                                               movie title  \n",
              "item_id                                                     \n",
              "1                                         GoldenEye (1995)  \n",
              "2                                        Four Rooms (1995)  \n",
              "3                                        Get Shorty (1995)  \n",
              "4                                           Copycat (1995)  \n",
              "5        Shanghai Triad (Yao a yao yao dao waipo qiao) ...  \n",
              "...                                                    ...  \n",
              "1678                                      B. Monkey (1998)  \n",
              "1679                                  Sliding Doors (1998)  \n",
              "1680                                   You So Crazy (1994)  \n",
              "1681             Scream of Stone (Schrei aus Stein) (1991)  \n",
              "1682                                                   NaN  \n",
              "\n",
              "[1682 rows x 5 columns]"
            ]
          },
          "execution_count": 29,
          "metadata": {},
          "output_type": "execute_result"
        }
      ],
      "source": [
        "new_mt = new_mt.join(items['movie title'], how='left')\n",
        "new_mt"
      ]
    },
    {
      "cell_type": "code",
      "execution_count": 30,
      "metadata": {},
      "outputs": [
        {
          "name": "stdout",
          "output_type": "stream",
          "text": [
            "1.959963984540054\n"
          ]
        }
      ],
      "source": [
        "# define valor-z para intervalo de confianza\n",
        "# asume distribución normal para los ratings\n",
        "def valor_z_IC(val):\n",
        "    dos_colas = (val/100)+(1-val/100)/2\n",
        "    z = norm.ppf(dos_colas)\n",
        "    return z\n",
        "\n",
        "z = valor_z_IC(95)\n",
        "print(z)"
      ]
    },
    {
      "cell_type": "code",
      "execution_count": 31,
      "metadata": {},
      "outputs": [],
      "source": [
        "def calc_limite_inf_rating(r, conf=95):\n",
        "    z = valor_z_IC(conf)\n",
        "    n = r['count']\n",
        "    phat = r['pos']/n\n",
        "    a = phat*(1-phat)\n",
        "    b = z**2/(4*n)\n",
        "    sqrt = np.sqrt((a + b)/n)\n",
        "    lb = (phat + z**2/(2*n) - z*sqrt)/(1 + z**2/n)\n",
        "    return lb"
      ]
    },
    {
      "attachments": {},
      "cell_type": "markdown",
      "metadata": {},
      "source": [
        "La lista de recomendación, definida por el límite inferior del intervalo de confianza de la proporción de ratings positivos sobre el total de ratings al 95% es:"
      ]
    },
    {
      "cell_type": "code",
      "execution_count": 32,
      "metadata": {},
      "outputs": [
        {
          "data": {
            "text/html": [
              "<div>\n",
              "<style scoped>\n",
              "    .dataframe tbody tr th:only-of-type {\n",
              "        vertical-align: middle;\n",
              "    }\n",
              "\n",
              "    .dataframe tbody tr th {\n",
              "        vertical-align: top;\n",
              "    }\n",
              "\n",
              "    .dataframe thead th {\n",
              "        text-align: right;\n",
              "    }\n",
              "</style>\n",
              "<table border=\"1\" class=\"dataframe\">\n",
              "  <thead>\n",
              "    <tr style=\"text-align: right;\">\n",
              "      <th></th>\n",
              "      <th>var</th>\n",
              "      <th>count</th>\n",
              "      <th>mean</th>\n",
              "      <th>pos</th>\n",
              "      <th>movie title</th>\n",
              "      <th>lim_inf</th>\n",
              "    </tr>\n",
              "    <tr>\n",
              "      <th>item_id</th>\n",
              "      <th></th>\n",
              "      <th></th>\n",
              "      <th></th>\n",
              "      <th></th>\n",
              "      <th></th>\n",
              "      <th></th>\n",
              "    </tr>\n",
              "  </thead>\n",
              "  <tbody>\n",
              "    <tr>\n",
              "      <th>64</th>\n",
              "      <td>0.588302</td>\n",
              "      <td>283</td>\n",
              "      <td>4.445230</td>\n",
              "      <td>255</td>\n",
              "      <td>What's Eating Gilbert Grape (1993)</td>\n",
              "      <td>0.860721</td>\n",
              "    </tr>\n",
              "    <tr>\n",
              "      <th>479</th>\n",
              "      <td>0.470153</td>\n",
              "      <td>179</td>\n",
              "      <td>4.251397</td>\n",
              "      <td>162</td>\n",
              "      <td>North by Northwest (1959)</td>\n",
              "      <td>0.853180</td>\n",
              "    </tr>\n",
              "    <tr>\n",
              "      <th>318</th>\n",
              "      <td>0.687422</td>\n",
              "      <td>298</td>\n",
              "      <td>4.466443</td>\n",
              "      <td>265</td>\n",
              "      <td>Everyone Says I Love You (1996)</td>\n",
              "      <td>0.848561</td>\n",
              "    </tr>\n",
              "    <tr>\n",
              "      <th>98</th>\n",
              "      <td>0.699895</td>\n",
              "      <td>390</td>\n",
              "      <td>4.289744</td>\n",
              "      <td>344</td>\n",
              "      <td>Snow White and the Seven Dwarfs (1937)</td>\n",
              "      <td>0.846252</td>\n",
              "    </tr>\n",
              "    <tr>\n",
              "      <th>483</th>\n",
              "      <td>0.530150</td>\n",
              "      <td>243</td>\n",
              "      <td>4.456790</td>\n",
              "      <td>216</td>\n",
              "      <td>Maltese Falcon, The (1941)</td>\n",
              "      <td>0.843167</td>\n",
              "    </tr>\n",
              "    <tr>\n",
              "      <th>603</th>\n",
              "      <td>0.507729</td>\n",
              "      <td>209</td>\n",
              "      <td>4.387560</td>\n",
              "      <td>185</td>\n",
              "      <td>It Happened One Night (1934)</td>\n",
              "      <td>0.834824</td>\n",
              "    </tr>\n",
              "    <tr>\n",
              "      <th>427</th>\n",
              "      <td>0.547233</td>\n",
              "      <td>219</td>\n",
              "      <td>4.292237</td>\n",
              "      <td>193</td>\n",
              "      <td>Harold and Maude (1971)</td>\n",
              "      <td>0.831731</td>\n",
              "    </tr>\n",
              "    <tr>\n",
              "      <th>50</th>\n",
              "      <td>0.776762</td>\n",
              "      <td>583</td>\n",
              "      <td>4.358491</td>\n",
              "      <td>501</td>\n",
              "      <td>Legends of the Fall (1994)</td>\n",
              "      <td>0.828769</td>\n",
              "    </tr>\n",
              "    <tr>\n",
              "      <th>357</th>\n",
              "      <td>0.709284</td>\n",
              "      <td>264</td>\n",
              "      <td>4.291667</td>\n",
              "      <td>230</td>\n",
              "      <td>Spawn (1997)</td>\n",
              "      <td>0.825421</td>\n",
              "    </tr>\n",
              "    <tr>\n",
              "      <th>12</th>\n",
              "      <td>0.681451</td>\n",
              "      <td>267</td>\n",
              "      <td>4.385768</td>\n",
              "      <td>232</td>\n",
              "      <td>Mighty Aphrodite (1995)</td>\n",
              "      <td>0.823149</td>\n",
              "    </tr>\n",
              "  </tbody>\n",
              "</table>\n",
              "</div>"
            ],
            "text/plain": [
              "              var  count      mean  pos  \\\n",
              "item_id                                   \n",
              "64       0.588302    283  4.445230  255   \n",
              "479      0.470153    179  4.251397  162   \n",
              "318      0.687422    298  4.466443  265   \n",
              "98       0.699895    390  4.289744  344   \n",
              "483      0.530150    243  4.456790  216   \n",
              "603      0.507729    209  4.387560  185   \n",
              "427      0.547233    219  4.292237  193   \n",
              "50       0.776762    583  4.358491  501   \n",
              "357      0.709284    264  4.291667  230   \n",
              "12       0.681451    267  4.385768  232   \n",
              "\n",
              "                                    movie title   lim_inf  \n",
              "item_id                                                    \n",
              "64           What's Eating Gilbert Grape (1993)  0.860721  \n",
              "479                   North by Northwest (1959)  0.853180  \n",
              "318             Everyone Says I Love You (1996)  0.848561  \n",
              "98       Snow White and the Seven Dwarfs (1937)  0.846252  \n",
              "483                  Maltese Falcon, The (1941)  0.843167  \n",
              "603                It Happened One Night (1934)  0.834824  \n",
              "427                     Harold and Maude (1971)  0.831731  \n",
              "50                   Legends of the Fall (1994)  0.828769  \n",
              "357                                Spawn (1997)  0.825421  \n",
              "12                      Mighty Aphrodite (1995)  0.823149  "
            ]
          },
          "execution_count": 32,
          "metadata": {},
          "output_type": "execute_result"
        }
      ],
      "source": [
        "new_mt['lim_inf'] = new_mt.apply(calc_limite_inf_rating, axis=1)\n",
        "new_mt.sort_values(by='lim_inf', ascending=False)[0:10]"
      ]
    },
    {
      "attachments": {},
      "cell_type": "markdown",
      "metadata": {
        "id": "c7BO4guxySk3"
      },
      "source": [
        "# Creación del dataset de entrenamiento y prueba\n",
        "\n",
        "El próximo paso es cargar los datos a surprise. \n",
        "\n",
        "Para esto vamos a inicializar un modelo de datos de surprise con la información de los ratings cargados en el dataframe"
      ]
    },
    {
      "cell_type": "code",
      "execution_count": 33,
      "metadata": {
        "id": "xzF3iMfVzWiz"
      },
      "outputs": [],
      "source": [
        "reader = Reader( rating_scale = ( 1, 5 ) )\n",
        "#Se crea el dataset a partir del dataframe\n",
        "surprise_dataset = Dataset.load_from_df( ratings[ [ 'user_id', 'item_id', 'rating' ] ], reader )"
      ]
    },
    {
      "cell_type": "markdown",
      "metadata": {
        "id": "aBSHMZu-IaDE"
      },
      "source": [
        "Se divide el dataset en entrenamiento y test. El dataset de entrenamiento será presentado al algoritmo de recomendación y el dataset de test nos servirá para medir qué tan buenas fueron las predicciones del sistema de recomendación. El conjunto de test generado es una lista con los ratings de prueba"
      ]
    },
    {
      "cell_type": "code",
      "execution_count": 34,
      "metadata": {
        "id": "wVCXEv2zHDN7"
      },
      "outputs": [],
      "source": [
        "train_set, test_set=  train_test_split(surprise_dataset, test_size=.2)"
      ]
    },
    {
      "cell_type": "code",
      "execution_count": 35,
      "metadata": {
        "id": "z3NBak6JZWgP"
      },
      "outputs": [
        {
          "data": {
            "text/plain": [
              "80000"
            ]
          },
          "execution_count": 35,
          "metadata": {},
          "output_type": "execute_result"
        }
      ],
      "source": [
        "train_set.n_ratings"
      ]
    },
    {
      "cell_type": "code",
      "execution_count": 36,
      "metadata": {
        "id": "bUyMSnUEdOOT"
      },
      "outputs": [
        {
          "data": {
            "text/plain": [
              "20000"
            ]
          },
          "execution_count": 36,
          "metadata": {},
          "output_type": "execute_result"
        }
      ],
      "source": [
        "len(test_set)"
      ]
    },
    {
      "cell_type": "code",
      "execution_count": 37,
      "metadata": {
        "id": "HDamSIDVZabW"
      },
      "outputs": [
        {
          "data": {
            "text/plain": [
              "(154, 302, 4.0)"
            ]
          },
          "execution_count": 37,
          "metadata": {},
          "output_type": "execute_result"
        }
      ],
      "source": [
        "#Este es el primer elemento del dataset de prueba (usuario 154, pelicula 302, rating 4)\n",
        "test_set[0]"
      ]
    },
    {
      "cell_type": "markdown",
      "metadata": {
        "id": "kOd-SiVhLd_x"
      },
      "source": [
        "## Creación de modelo de filtrado colaborativo basado en similitud con usuarios o items cercanos\n",
        "\n",
        "Surprise cuenta con la implementación de los modelos colaborativos dentro de la clase [KNNBasic](https://surprise.readthedocs.io/en/stable/knn_inspired.html) \n",
        "\n",
        "El modelo recibe los siguientes parámetros: \n",
        "\n",
        "\n",
        "*   k: El máximo número de vecinos con el que se hará la extrapolación\n",
        "*   min_k : El mínimo número de vecinos con el que se extrapolará un rating\n",
        "*   sim_options : Opciones de similitud pasadas como un diccionario de python, aqui se le configura al modelo el tipo de similitud a usar para encontrar los vecinos y si la extrapolación debe hacerse usando usuarios o items similares. Revise el formato y similitudes disponibles en surprise en [este link](https://surprise.readthedocs.io/en/stable/prediction_algorithms.html#similarity-measure-configuration)\n",
        "\n",
        "\n",
        "\n"
      ]
    },
    {
      "cell_type": "code",
      "execution_count": 38,
      "metadata": {
        "id": "s5A8reiHLdXy"
      },
      "outputs": [],
      "source": [
        "# se crea un modelo knnbasic item-item con similitud coseno \n",
        "sim_options = {'name': 'cosine',\n",
        "               'user_based': False  # calcule similitud item-item\n",
        "               }\n",
        "algo = KNNBasic(k=20, min_k=2, sim_options=sim_options)"
      ]
    },
    {
      "cell_type": "code",
      "execution_count": 39,
      "metadata": {
        "id": "_G8gUHeoUzR-"
      },
      "outputs": [
        {
          "name": "stdout",
          "output_type": "stream",
          "text": [
            "Computing the cosine similarity matrix...\n",
            "Done computing similarity matrix.\n"
          ]
        },
        {
          "data": {
            "text/plain": [
              "<surprise.prediction_algorithms.knns.KNNBasic at 0x1617999a0>"
            ]
          },
          "execution_count": 39,
          "metadata": {},
          "output_type": "execute_result"
        }
      ],
      "source": [
        "#Se le pasa la matriz de utilidad al algoritmo \n",
        "algo.fit(trainset=train_set)"
      ]
    },
    {
      "cell_type": "markdown",
      "metadata": {
        "id": "4B1_I0LqY6rd"
      },
      "source": [
        "Una vez cargados los ratings al modelo, se puede realizar una predicción para un usuario, en este caso vamos a calcular la predicción que el modelo esta realizando para la primera entrada del dataset de test la predicción para el usuario con id 154 y el item con id 302, que corresponde a la película L.A. Confidential (1997)\n",
        "\n",
        "---\n",
        "\n"
      ]
    },
    {
      "cell_type": "code",
      "execution_count": 40,
      "metadata": {
        "id": "AdwrR8gVFQuD"
      },
      "outputs": [
        {
          "data": {
            "text/plain": [
              "Prediction(uid=154, iid=302, r_ui=None, est=4.249202065377386, details={'actual_k': 20, 'was_impossible': False})"
            ]
          },
          "execution_count": 40,
          "metadata": {},
          "output_type": "execute_result"
        }
      ],
      "source": [
        "#Verifique la propiedad est de la predicción\n",
        "algo.predict(154,302)"
      ]
    },
    {
      "cell_type": "code",
      "execution_count": 41,
      "metadata": {
        "id": "dzK37VDQIRIT"
      },
      "outputs": [
        {
          "data": {
            "text/html": [
              "<div>\n",
              "<style scoped>\n",
              "    .dataframe tbody tr th:only-of-type {\n",
              "        vertical-align: middle;\n",
              "    }\n",
              "\n",
              "    .dataframe tbody tr th {\n",
              "        vertical-align: top;\n",
              "    }\n",
              "\n",
              "    .dataframe thead th {\n",
              "        text-align: right;\n",
              "    }\n",
              "</style>\n",
              "<table border=\"1\" class=\"dataframe\">\n",
              "  <thead>\n",
              "    <tr style=\"text-align: right;\">\n",
              "      <th></th>\n",
              "      <th>movie id</th>\n",
              "      <th>movie title</th>\n",
              "      <th>release date</th>\n",
              "      <th>video release date</th>\n",
              "      <th>IMDb URL</th>\n",
              "      <th>unknown</th>\n",
              "      <th>Action</th>\n",
              "      <th>Adventure</th>\n",
              "      <th>Animation</th>\n",
              "      <th>Children</th>\n",
              "      <th>...</th>\n",
              "      <th>Fantasy</th>\n",
              "      <th>Film-Noir</th>\n",
              "      <th>Horror</th>\n",
              "      <th>Musical</th>\n",
              "      <th>Mystery</th>\n",
              "      <th>Romance</th>\n",
              "      <th>Sci-Fi</th>\n",
              "      <th>Thriller</th>\n",
              "      <th>War</th>\n",
              "      <th>Western</th>\n",
              "    </tr>\n",
              "  </thead>\n",
              "  <tbody>\n",
              "    <tr>\n",
              "      <th>301</th>\n",
              "      <td>302</td>\n",
              "      <td>L.A. Confidential (1997)</td>\n",
              "      <td>01-Jan-1997</td>\n",
              "      <td>NaN</td>\n",
              "      <td>http://us.imdb.com/M/title-exact?L%2EA%2E+Conf...</td>\n",
              "      <td>0</td>\n",
              "      <td>0</td>\n",
              "      <td>0</td>\n",
              "      <td>0</td>\n",
              "      <td>0</td>\n",
              "      <td>...</td>\n",
              "      <td>0</td>\n",
              "      <td>1</td>\n",
              "      <td>0</td>\n",
              "      <td>0</td>\n",
              "      <td>1</td>\n",
              "      <td>0</td>\n",
              "      <td>0</td>\n",
              "      <td>1</td>\n",
              "      <td>0</td>\n",
              "      <td>0</td>\n",
              "    </tr>\n",
              "  </tbody>\n",
              "</table>\n",
              "<p>1 rows × 24 columns</p>\n",
              "</div>"
            ],
            "text/plain": [
              "     movie id               movie title release date  video release date  \\\n",
              "301       302  L.A. Confidential (1997)  01-Jan-1997                 NaN   \n",
              "\n",
              "                                             IMDb URL   unknown  Action  \\\n",
              "301  http://us.imdb.com/M/title-exact?L%2EA%2E+Conf...        0       0   \n",
              "\n",
              "     Adventure  Animation  Children  ...  Fantasy  Film-Noir  Horror  Musical  \\\n",
              "301          0          0         0  ...        0          1       0        0   \n",
              "\n",
              "     Mystery  Romance  Sci-Fi  Thriller  War  Western  \n",
              "301        1        0       0         1    0        0  \n",
              "\n",
              "[1 rows x 24 columns]"
            ]
          },
          "execution_count": 41,
          "metadata": {},
          "output_type": "execute_result"
        }
      ],
      "source": [
        "items[items['movie id']==302]"
      ]
    },
    {
      "cell_type": "code",
      "execution_count": 42,
      "metadata": {},
      "outputs": [
        {
          "data": {
            "text/html": [
              "<div>\n",
              "<style scoped>\n",
              "    .dataframe tbody tr th:only-of-type {\n",
              "        vertical-align: middle;\n",
              "    }\n",
              "\n",
              "    .dataframe tbody tr th {\n",
              "        vertical-align: top;\n",
              "    }\n",
              "\n",
              "    .dataframe thead th {\n",
              "        text-align: right;\n",
              "    }\n",
              "</style>\n",
              "<table border=\"1\" class=\"dataframe\">\n",
              "  <thead>\n",
              "    <tr style=\"text-align: right;\">\n",
              "      <th></th>\n",
              "      <th>user_id</th>\n",
              "      <th>item_id</th>\n",
              "      <th>rating</th>\n",
              "      <th>timestamp</th>\n",
              "    </tr>\n",
              "  </thead>\n",
              "  <tbody>\n",
              "    <tr>\n",
              "      <th>2811</th>\n",
              "      <td>154</td>\n",
              "      <td>302</td>\n",
              "      <td>4</td>\n",
              "      <td>879138235</td>\n",
              "    </tr>\n",
              "  </tbody>\n",
              "</table>\n",
              "</div>"
            ],
            "text/plain": [
              "      user_id  item_id  rating  timestamp\n",
              "2811      154      302       4  879138235"
            ]
          },
          "execution_count": 42,
          "metadata": {},
          "output_type": "execute_result"
        }
      ],
      "source": [
        "ratings[(ratings['user_id'] == 154) & (ratings['item_id'] == 302)]"
      ]
    },
    {
      "cell_type": "markdown",
      "metadata": {
        "id": "75RWLbA2a2BE"
      },
      "source": [
        "Como podemos ver, la predicción (4.24) del modelo no esta alejada de lo que realmente opinó el usuario  (4.0)\n",
        "\n",
        "Para medir la calidad de la predicción para todos los usuarios e items del dataset de prueba, vamos a comparar lo que dice el modelo de predicción vs lo que dice el conjunto de prueba, para esto vamos a usar la métrica [RMSE](https://surprise.readthedocs.io/en/stable/accuracy.html#surprise.accuracy.rmse)\n",
        "\n",
        "Inicialmente calculamos la predicción para todos los elementos del conjunto de test"
      ]
    },
    {
      "cell_type": "code",
      "execution_count": 43,
      "metadata": {
        "id": "xOl2ObNSIk8T"
      },
      "outputs": [],
      "source": [
        "test_predictions=algo.test(test_set)"
      ]
    },
    {
      "cell_type": "code",
      "execution_count": 44,
      "metadata": {
        "id": "kRlvK_f2ZN7t"
      },
      "outputs": [
        {
          "data": {
            "text/plain": [
              "[Prediction(uid=154, iid=302, r_ui=4.0, est=4.249202065377386, details={'actual_k': 20, 'was_impossible': False}),\n",
              " Prediction(uid=896, iid=484, r_ui=4.0, est=2.8976616922320964, details={'actual_k': 20, 'was_impossible': False}),\n",
              " Prediction(uid=230, iid=371, r_ui=4.0, est=4.1968378983432535, details={'actual_k': 20, 'was_impossible': False}),\n",
              " Prediction(uid=234, iid=294, r_ui=3.0, est=3.0978778071364186, details={'actual_k': 20, 'was_impossible': False}),\n",
              " Prediction(uid=25, iid=729, r_ui=4.0, est=4.148885433441103, details={'actual_k': 20, 'was_impossible': False})]"
            ]
          },
          "execution_count": 44,
          "metadata": {},
          "output_type": "execute_result"
        }
      ],
      "source": [
        "#5 primeras predicciones\n",
        "test_predictions[0:5]"
      ]
    },
    {
      "cell_type": "markdown",
      "metadata": {
        "id": "yqgYbxzwe59D"
      },
      "source": [
        "Ahora se mide el RMSE de las predicciones vs el valor del dataset"
      ]
    },
    {
      "cell_type": "code",
      "execution_count": 45,
      "metadata": {
        "id": "RDK_8jlUeyVL"
      },
      "outputs": [
        {
          "name": "stdout",
          "output_type": "stream",
          "text": [
            "RMSE: 1.0453\n"
          ]
        },
        {
          "data": {
            "text/plain": [
              "1.0453343976192102"
            ]
          },
          "execution_count": 45,
          "metadata": {},
          "output_type": "execute_result"
        }
      ],
      "source": [
        "# En promedio, el sistema encuentra ratings que estan una estrella por encima o por debajo del rating del usuario\n",
        "accuracy.rmse( test_predictions, verbose = True )"
      ]
    },
    {
      "attachments": {},
      "cell_type": "markdown",
      "metadata": {
        "id": "Ge8msMcPgFwy"
      },
      "source": [
        "## Utilice las siguientes celdas para encontrar la respuesta a las siguientes preguntas\n",
        "\n",
        "¿Cuál es el RMSE de un modelo usuario-usuario con los mismos parámetros de similitud?\n",
        "\n",
        "¿Cuál es el efecto de cambiar el número de vecinos en la calidad del modelo usuario-usuario ?"
      ]
    },
    {
      "cell_type": "code",
      "execution_count": 46,
      "metadata": {
        "id": "0Eb-sHBnfw8b"
      },
      "outputs": [
        {
          "name": "stdout",
          "output_type": "stream",
          "text": [
            "Computing the cosine similarity matrix...\n",
            "Done computing similarity matrix.\n",
            "Predicción para el usuario 154, con la película 302\n",
            " user: 154        item: 302        r_ui = None   est = 4.70   {'actual_k': 20, 'was_impossible': False}\n",
            "----------------\n",
            "Primeras 5 predicciones:\n",
            "\n",
            "[Prediction(uid=54, iid=634, r_ui=1.0, est=3.7672551603666085, details={'actual_k': 16, 'was_impossible': False}), Prediction(uid=881, iid=514, r_ui=4.0, est=4.097966747606807, details={'actual_k': 20, 'was_impossible': False}), Prediction(uid=160, iid=250, r_ui=4.0, est=3.649699271014056, details={'actual_k': 20, 'was_impossible': False}), Prediction(uid=286, iid=401, r_ui=1.0, est=3.0028055966293357, details={'actual_k': 20, 'was_impossible': False}), Prediction(uid=519, iid=1592, r_ui=5.0, est=3.233621715824823, details={'actual_k': 3, 'was_impossible': False})]\n",
            "----------------\n",
            "RMSE: 1.0234\n",
            "RSME usando modelo usuario-usuario:\n",
            " 1.0233841810301432\n"
          ]
        }
      ],
      "source": [
        "# definimos el modelo usuario usuario\n",
        "sim_options = {'name': 'cosine',\n",
        "               'user_based': True  # usuario-usuario vs item-based (anterior)\n",
        "               }\n",
        "algo_ub = KNNBasic(k=20, min_k=2, sim_options=sim_options)\n",
        "\n",
        "# separamos set de entrenamiento y de test 80/20\n",
        "train_set, test_set=  train_test_split(surprise_dataset, test_size=.2)\n",
        "\n",
        "#Se le pasa la matriz de utilidad al algoritmo \n",
        "algo_ub.fit(trainset=train_set)\n",
        "\n",
        "pred = algo_ub.predict(154,302)\n",
        "\n",
        "print('Predicción para el usuario 154, con la película 302\\n', pred)\n",
        "print('----------------')\n",
        "\n",
        "# Calculamos predicción para todos los elementos en el test\n",
        "test_predictions=algo_ub.test(test_set)\n",
        "print('Primeras 5 predicciones:\\n')\n",
        "print(test_predictions[0:5])\n",
        "print('----------------')\n",
        "\n",
        "# Calculamos RMSE\n",
        "rmse_ub = accuracy.rmse( test_predictions, verbose = True )\n",
        "print('RSME usando modelo usuario-usuario:\\n', rmse_ub)\n"
      ]
    },
    {
      "attachments": {},
      "cell_type": "markdown",
      "metadata": {
        "id": "RgE2Oib_gYuK",
        "vscode": {
          "languageId": "python"
        }
      },
      "source": [
        "Con esto, observamos que el modelo \"usuario-usuario\" tiene un fit mejor que le modelo basado en items, dado que tenemos un RMSE de 1.026 vs 1.045.\n",
        "\n",
        "El RMSE es el promedio de la raíz cuadrada de las varianzas de los residuos del modelo (siendo los residuos, la diferencia entre el valor de la predicción y el valor real). \n",
        "\n",
        "En este caso, el modelo usuario-usuario genera predicciones que en promedio se ajustan mejor a las calificaciones del usuario (i.e. un meno RMSE)."
      ]
    },
    {
      "attachments": {},
      "cell_type": "markdown",
      "metadata": {},
      "source": [
        "## Efectos de modificar el número de vecinos 'k' en la calidad del modelo usuario-usuario."
      ]
    },
    {
      "cell_type": "code",
      "execution_count": 47,
      "metadata": {},
      "outputs": [],
      "source": [
        "#Define función para iterar\n",
        "def rmse_variando_k(ki):\n",
        "    sim_options = {'name': 'cosine',\n",
        "               'user_based': True  # usuario-usuario vs item-based (anterior)\n",
        "               }\n",
        "    algo_ub = KNNBasic(k=ki, min_k=2, sim_options=sim_options)\n",
        "    train_set, test_set=  train_test_split(surprise_dataset, test_size=.2)\n",
        "    algo_ub.fit(trainset=train_set)\n",
        "    test_predictions=algo_ub.test(test_set)\n",
        "    rmse_ub = accuracy.rmse( test_predictions, verbose = True )\n",
        "    return rmse_ub"
      ]
    },
    {
      "cell_type": "code",
      "execution_count": 48,
      "metadata": {},
      "outputs": [
        {
          "name": "stdout",
          "output_type": "stream",
          "text": [
            "Computing the cosine similarity matrix...\n",
            "Done computing similarity matrix.\n",
            "RMSE: 1.0915\n",
            "Computing the cosine similarity matrix...\n",
            "Done computing similarity matrix.\n",
            "RMSE: 1.0357\n",
            "Computing the cosine similarity matrix...\n",
            "Done computing similarity matrix.\n",
            "RMSE: 1.0286\n",
            "Computing the cosine similarity matrix...\n",
            "Done computing similarity matrix.\n",
            "RMSE: 1.0263\n",
            "Computing the cosine similarity matrix...\n",
            "Done computing similarity matrix.\n",
            "RMSE: 1.0203\n",
            "Computing the cosine similarity matrix...\n",
            "Done computing similarity matrix.\n",
            "RMSE: 1.0194\n",
            "Computing the cosine similarity matrix...\n",
            "Done computing similarity matrix.\n",
            "RMSE: 1.0121\n"
          ]
        }
      ],
      "source": [
        "ls_k = [k for k in range(5, 40 ,5)]\n",
        "ls_rsme = list()\n",
        "\n",
        "for ki in ls_k:\n",
        "    rsme = rmse_variando_k(ki)\n",
        "    ls_rsme.append(rsme)"
      ]
    },
    {
      "cell_type": "code",
      "execution_count": 49,
      "metadata": {},
      "outputs": [
        {
          "data": {
            "text/plain": [
              "<AxesSubplot: >"
            ]
          },
          "execution_count": 49,
          "metadata": {},
          "output_type": "execute_result"
        },
        {
          "data": {
            "image/png": "[encoded data removed]",
            "text/plain": [
              "<Figure size 640x480 with 1 Axes>"
            ]
          },
          "metadata": {},
          "output_type": "display_data"
        }
      ],
      "source": [
        "sns.lineplot(x=ls_k, y=ls_rsme)"
      ]
    },
    {
      "attachments": {},
      "cell_type": "markdown",
      "metadata": {},
      "source": [
        "Vemos como, en general, el ajuste del modelo tiende a mejorar a medida que se aumenta el número de vecinos.\n",
        "El modelo produce valores de RSME distintos cada vez que se corre, por lo que aveces se presentan puntos donde el RSME *aumenta* con k, pero la tendencia general es decreciente."
      ]
    },
    {
      "attachments": {},
      "cell_type": "markdown",
      "metadata": {
        "id": "ZqMr2MlbkJch"
      },
      "source": [
        "## Generando listas de predicciones para los usuarios\n",
        "\n",
        "Retomemos nuestro modelo inicial y ajustémolo con todos los ratings disponibles\n",
        "\n",
        "Para generar una lista de recomendación se debe crear un dataset de \"test\" con las entradas faltantes de la matriz utilidad para que el modelo cree las predicciones (terminar de llenar la matriz de utilidad)\n",
        "\n"
      ]
    },
    {
      "cell_type": "code",
      "execution_count": 50,
      "metadata": {
        "id": "y0ZYsiPXktjg"
      },
      "outputs": [
        {
          "name": "stdout",
          "output_type": "stream",
          "text": [
            "Computing the cosine similarity matrix...\n",
            "Done computing similarity matrix.\n"
          ]
        }
      ],
      "source": [
        "#Se crea el dataset para modelo \n",
        "rating_data=surprise_dataset.build_full_trainset()\n",
        "\n",
        "# Se crea dataset de \"prueba\" con las entradas faltantes para generar las predicciones\n",
        "test=rating_data.build_anti_testset()\n",
        "\n",
        "# se crea el mismo modelo que el del ejemplo\n",
        "sim_options = {'name': 'cosine',\n",
        "               'user_based': False  # calcule similitud item-item\n",
        "               }\n",
        "algo = KNNBasic(k=20, min_k=2, sim_options=sim_options)\n",
        "algo.fit(rating_data)\n",
        "predictions=algo.test(test)"
      ]
    },
    {
      "cell_type": "code",
      "execution_count": 51,
      "metadata": {
        "id": "eH2O_3iFsR6e"
      },
      "outputs": [
        {
          "data": {
            "text/plain": [
              "[Prediction(uid=196, iid=302, r_ui=3.52986, est=3.4998074068929244, details={'actual_k': 20, 'was_impossible': False}),\n",
              " Prediction(uid=196, iid=377, r_ui=3.52986, est=3.531852919263047, details={'actual_k': 20, 'was_impossible': False}),\n",
              " Prediction(uid=196, iid=51, r_ui=3.52986, est=3.59549677885145, details={'actual_k': 20, 'was_impossible': False}),\n",
              " Prediction(uid=196, iid=346, r_ui=3.52986, est=3.5471070543165877, details={'actual_k': 20, 'was_impossible': False}),\n",
              " Prediction(uid=196, iid=474, r_ui=3.52986, est=3.7990088769026116, details={'actual_k': 20, 'was_impossible': False}),\n",
              " Prediction(uid=196, iid=265, r_ui=3.52986, est=3.4464297466659812, details={'actual_k': 20, 'was_impossible': False}),\n",
              " Prediction(uid=196, iid=465, r_ui=3.52986, est=3.5022156502733557, details={'actual_k': 20, 'was_impossible': False}),\n",
              " Prediction(uid=196, iid=451, r_ui=3.52986, est=3.6948301041629965, details={'actual_k': 20, 'was_impossible': False}),\n",
              " Prediction(uid=196, iid=86, r_ui=3.52986, est=3.750152492406962, details={'actual_k': 20, 'was_impossible': False}),\n",
              " Prediction(uid=196, iid=1014, r_ui=3.52986, est=3.345072753258412, details={'actual_k': 20, 'was_impossible': False})]"
            ]
          },
          "execution_count": 51,
          "metadata": {},
          "output_type": "execute_result"
        }
      ],
      "source": [
        "#10 primeras predicciones\n",
        "predictions[0:10]"
      ]
    },
    {
      "cell_type": "code",
      "execution_count": 52,
      "metadata": {
        "id": "Bd8lOnRXpPBm"
      },
      "outputs": [],
      "source": [
        "#Predicciones para usuario 196\n",
        "user_predictions=list(filter(lambda x: x[0]==196,predictions))"
      ]
    },
    {
      "cell_type": "code",
      "execution_count": 53,
      "metadata": {
        "id": "NIQAuEo4rHA2"
      },
      "outputs": [],
      "source": [
        "#Ordenamos de mayor a menor estimación de relevancia\n",
        "user_predictions.sort(key=lambda x : x.est, reverse=True)"
      ]
    },
    {
      "cell_type": "code",
      "execution_count": 54,
      "metadata": {
        "id": "GmcwrOJ-sy9G"
      },
      "outputs": [],
      "source": [
        "#tomamos las 10 primeras predicciones\n",
        "user_predictions=user_predictions[0:10]"
      ]
    },
    {
      "cell_type": "code",
      "execution_count": 55,
      "metadata": {
        "id": "FFaVRp3dtBZF"
      },
      "outputs": [
        {
          "data": {
            "text/plain": [
              "[Prediction(uid=196, iid=1309, r_ui=3.52986, est=4.5, details={'actual_k': 4, 'was_impossible': False}),\n",
              " Prediction(uid=196, iid=1310, r_ui=3.52986, est=4.5, details={'actual_k': 4, 'was_impossible': False}),\n",
              " Prediction(uid=196, iid=1676, r_ui=3.52986, est=4.25, details={'actual_k': 8, 'was_impossible': False}),\n",
              " Prediction(uid=196, iid=1675, r_ui=3.52986, est=4.25, details={'actual_k': 8, 'was_impossible': False}),\n",
              " Prediction(uid=196, iid=1289, r_ui=3.52986, est=4.202435603862276, details={'actual_k': 20, 'was_impossible': False}),\n",
              " Prediction(uid=196, iid=1643, r_ui=3.52986, est=4.097225899300029, details={'actual_k': 20, 'was_impossible': False}),\n",
              " Prediction(uid=196, iid=1593, r_ui=3.52986, est=4.090909090909091, details={'actual_k': 11, 'was_impossible': False}),\n",
              " Prediction(uid=196, iid=935, r_ui=3.52986, est=4.05136705364539, details={'actual_k': 20, 'was_impossible': False}),\n",
              " Prediction(uid=196, iid=1216, r_ui=3.52986, est=4.0506920732628675, details={'actual_k': 20, 'was_impossible': False}),\n",
              " Prediction(uid=196, iid=1312, r_ui=3.52986, est=4.049246841254085, details={'actual_k': 20, 'was_impossible': False})]"
            ]
          },
          "execution_count": 55,
          "metadata": {},
          "output_type": "execute_result"
        }
      ],
      "source": [
        "user_predictions"
      ]
    },
    {
      "cell_type": "code",
      "execution_count": 56,
      "metadata": {
        "id": "7kRPNGHEtcux"
      },
      "outputs": [],
      "source": [
        "#Se convierte a dataframe\n",
        "labels = ['movie id', 'estimation']\n",
        "df_predictions = pd.DataFrame.from_records(list(map(lambda x: (x.iid, x.est) , user_predictions)), columns=labels)"
      ]
    },
    {
      "cell_type": "code",
      "execution_count": 57,
      "metadata": {
        "id": "YvWQuyJGuaGV"
      },
      "outputs": [
        {
          "data": {
            "text/html": [
              "<div>\n",
              "<style scoped>\n",
              "    .dataframe tbody tr th:only-of-type {\n",
              "        vertical-align: middle;\n",
              "    }\n",
              "\n",
              "    .dataframe tbody tr th {\n",
              "        vertical-align: top;\n",
              "    }\n",
              "\n",
              "    .dataframe thead th {\n",
              "        text-align: right;\n",
              "    }\n",
              "</style>\n",
              "<table border=\"1\" class=\"dataframe\">\n",
              "  <thead>\n",
              "    <tr style=\"text-align: right;\">\n",
              "      <th></th>\n",
              "      <th>movie id</th>\n",
              "      <th>estimation</th>\n",
              "      <th>movie title</th>\n",
              "      <th>IMDb URL</th>\n",
              "    </tr>\n",
              "  </thead>\n",
              "  <tbody>\n",
              "    <tr>\n",
              "      <th>0</th>\n",
              "      <td>1309</td>\n",
              "      <td>4.500000</td>\n",
              "      <td>Very Natural Thing, A (1974)</td>\n",
              "      <td>http://us.imdb.com/M/title-exact?Very%20Natura...</td>\n",
              "    </tr>\n",
              "    <tr>\n",
              "      <th>1</th>\n",
              "      <td>1310</td>\n",
              "      <td>4.500000</td>\n",
              "      <td>Walk in the Sun, A (1945)</td>\n",
              "      <td>http://us.imdb.com/M/title-exact?Walk%20in%20t...</td>\n",
              "    </tr>\n",
              "    <tr>\n",
              "      <th>2</th>\n",
              "      <td>1676</td>\n",
              "      <td>4.250000</td>\n",
              "      <td>War at Home, The (1996)</td>\n",
              "      <td>http://us.imdb.com/M/title-exact?War%20at%20Ho...</td>\n",
              "    </tr>\n",
              "    <tr>\n",
              "      <th>3</th>\n",
              "      <td>1675</td>\n",
              "      <td>4.250000</td>\n",
              "      <td>Sunchaser, The (1996)</td>\n",
              "      <td>http://us.imdb.com/M/title-exact?Sunchaser,%20...</td>\n",
              "    </tr>\n",
              "    <tr>\n",
              "      <th>4</th>\n",
              "      <td>1289</td>\n",
              "      <td>4.202436</td>\n",
              "      <td>Jack and Sarah (1995)</td>\n",
              "      <td>http://us.imdb.com/M/title-exact?Jack%20and%20...</td>\n",
              "    </tr>\n",
              "    <tr>\n",
              "      <th>5</th>\n",
              "      <td>1643</td>\n",
              "      <td>4.097226</td>\n",
              "      <td>Angel Baby (1995)</td>\n",
              "      <td>http://us.imdb.com/Title?Angel+Baby+(1995/I)</td>\n",
              "    </tr>\n",
              "    <tr>\n",
              "      <th>6</th>\n",
              "      <td>1593</td>\n",
              "      <td>4.090909</td>\n",
              "      <td>Death in Brunswick (1991)</td>\n",
              "      <td>http://us.imdb.com/M/title-exact?Death%20in%20...</td>\n",
              "    </tr>\n",
              "    <tr>\n",
              "      <th>7</th>\n",
              "      <td>935</td>\n",
              "      <td>4.051367</td>\n",
              "      <td>Paradise Road (1997)</td>\n",
              "      <td>http://us.imdb.com/M/title-exact?Paradise%20Ro...</td>\n",
              "    </tr>\n",
              "    <tr>\n",
              "      <th>8</th>\n",
              "      <td>1216</td>\n",
              "      <td>4.050692</td>\n",
              "      <td>Kissed (1996)</td>\n",
              "      <td>http://us.imdb.com/M/title-exact?Kissed%20%281...</td>\n",
              "    </tr>\n",
              "    <tr>\n",
              "      <th>9</th>\n",
              "      <td>1312</td>\n",
              "      <td>4.049247</td>\n",
              "      <td>Pompatus of Love, The (1996)</td>\n",
              "      <td>http://us.imdb.com/M/title-exact?Pompatus%20of...</td>\n",
              "    </tr>\n",
              "  </tbody>\n",
              "</table>\n",
              "</div>"
            ],
            "text/plain": [
              "   movie id  estimation                   movie title  \\\n",
              "0      1309    4.500000  Very Natural Thing, A (1974)   \n",
              "1      1310    4.500000     Walk in the Sun, A (1945)   \n",
              "2      1676    4.250000       War at Home, The (1996)   \n",
              "3      1675    4.250000         Sunchaser, The (1996)   \n",
              "4      1289    4.202436         Jack and Sarah (1995)   \n",
              "5      1643    4.097226             Angel Baby (1995)   \n",
              "6      1593    4.090909     Death in Brunswick (1991)   \n",
              "7       935    4.051367          Paradise Road (1997)   \n",
              "8      1216    4.050692                 Kissed (1996)   \n",
              "9      1312    4.049247  Pompatus of Love, The (1996)   \n",
              "\n",
              "                                           IMDb URL   \n",
              "0  http://us.imdb.com/M/title-exact?Very%20Natura...  \n",
              "1  http://us.imdb.com/M/title-exact?Walk%20in%20t...  \n",
              "2  http://us.imdb.com/M/title-exact?War%20at%20Ho...  \n",
              "3  http://us.imdb.com/M/title-exact?Sunchaser,%20...  \n",
              "4  http://us.imdb.com/M/title-exact?Jack%20and%20...  \n",
              "5       http://us.imdb.com/Title?Angel+Baby+(1995/I)  \n",
              "6  http://us.imdb.com/M/title-exact?Death%20in%20...  \n",
              "7  http://us.imdb.com/M/title-exact?Paradise%20Ro...  \n",
              "8  http://us.imdb.com/M/title-exact?Kissed%20%281...  \n",
              "9  http://us.imdb.com/M/title-exact?Pompatus%20of...  "
            ]
          },
          "execution_count": 57,
          "metadata": {},
          "output_type": "execute_result"
        }
      ],
      "source": [
        "#Lo unimos con el dataframe de películas\n",
        "df_predictions.merge(items[['movie id','movie title','IMDb URL ']], how='left', on='movie id')"
      ]
    },
    {
      "cell_type": "markdown",
      "metadata": {
        "id": "4oAheKoNvTU0"
      },
      "source": [
        "## Utilice las siguientes celdas para encontrar la respuesta a las siguientes preguntas\n",
        "\n",
        "Cree al menos 2 usuarios (al primero asígnele el id 944) y cree para cada usuario ratings nuevos (puede hacerlo haciendo a traves del [dataframe](https://pandas.pydata.org/pandas-docs/stable/reference/api/pandas.DataFrame.append.html), o añadiendo líneas al archivo). Asigne a un usuario preferencias de un segmento popular (mainstream) y a otro preferencias de un nicho.\n",
        "\n",
        "¿Que tan bien cree que el sistema esta respondiendo a los gustos del usuario?\n",
        "\n",
        "¿Que tan bien cree que el sistema esta respondiendo al objetivo de buscar items para el usuario dentro de la cola larga?"
      ]
    },
    {
      "cell_type": "code",
      "execution_count": 58,
      "metadata": {
        "id": "mQ4vk_19unXV"
      },
      "outputs": [
        {
          "data": {
            "text/plain": [
              "944"
            ]
          },
          "execution_count": 58,
          "metadata": {},
          "output_type": "execute_result"
        }
      ],
      "source": [
        "ratings['user_id'].max()+1"
      ]
    },
    {
      "cell_type": "code",
      "execution_count": 59,
      "metadata": {
        "id": "EcoiOZIavjLl"
      },
      "outputs": [
        {
          "data": {
            "text/html": [
              "<div>\n",
              "<style scoped>\n",
              "    .dataframe tbody tr th:only-of-type {\n",
              "        vertical-align: middle;\n",
              "    }\n",
              "\n",
              "    .dataframe tbody tr th {\n",
              "        vertical-align: top;\n",
              "    }\n",
              "\n",
              "    .dataframe thead th {\n",
              "        text-align: right;\n",
              "    }\n",
              "</style>\n",
              "<table border=\"1\" class=\"dataframe\">\n",
              "  <thead>\n",
              "    <tr style=\"text-align: right;\">\n",
              "      <th></th>\n",
              "      <th>user_id</th>\n",
              "      <th>item_id</th>\n",
              "      <th>rating</th>\n",
              "      <th>timestamp</th>\n",
              "    </tr>\n",
              "  </thead>\n",
              "  <tbody>\n",
              "    <tr>\n",
              "      <th>0</th>\n",
              "      <td>196</td>\n",
              "      <td>242</td>\n",
              "      <td>3</td>\n",
              "      <td>881250949</td>\n",
              "    </tr>\n",
              "    <tr>\n",
              "      <th>1</th>\n",
              "      <td>186</td>\n",
              "      <td>302</td>\n",
              "      <td>3</td>\n",
              "      <td>891717742</td>\n",
              "    </tr>\n",
              "    <tr>\n",
              "      <th>2</th>\n",
              "      <td>22</td>\n",
              "      <td>377</td>\n",
              "      <td>1</td>\n",
              "      <td>878887116</td>\n",
              "    </tr>\n",
              "    <tr>\n",
              "      <th>3</th>\n",
              "      <td>244</td>\n",
              "      <td>51</td>\n",
              "      <td>2</td>\n",
              "      <td>880606923</td>\n",
              "    </tr>\n",
              "    <tr>\n",
              "      <th>4</th>\n",
              "      <td>166</td>\n",
              "      <td>346</td>\n",
              "      <td>1</td>\n",
              "      <td>886397596</td>\n",
              "    </tr>\n",
              "    <tr>\n",
              "      <th>...</th>\n",
              "      <td>...</td>\n",
              "      <td>...</td>\n",
              "      <td>...</td>\n",
              "      <td>...</td>\n",
              "    </tr>\n",
              "    <tr>\n",
              "      <th>99995</th>\n",
              "      <td>880</td>\n",
              "      <td>476</td>\n",
              "      <td>3</td>\n",
              "      <td>880175444</td>\n",
              "    </tr>\n",
              "    <tr>\n",
              "      <th>99996</th>\n",
              "      <td>716</td>\n",
              "      <td>204</td>\n",
              "      <td>5</td>\n",
              "      <td>879795543</td>\n",
              "    </tr>\n",
              "    <tr>\n",
              "      <th>99997</th>\n",
              "      <td>276</td>\n",
              "      <td>1090</td>\n",
              "      <td>1</td>\n",
              "      <td>874795795</td>\n",
              "    </tr>\n",
              "    <tr>\n",
              "      <th>99998</th>\n",
              "      <td>13</td>\n",
              "      <td>225</td>\n",
              "      <td>2</td>\n",
              "      <td>882399156</td>\n",
              "    </tr>\n",
              "    <tr>\n",
              "      <th>99999</th>\n",
              "      <td>12</td>\n",
              "      <td>203</td>\n",
              "      <td>3</td>\n",
              "      <td>879959583</td>\n",
              "    </tr>\n",
              "  </tbody>\n",
              "</table>\n",
              "<p>100000 rows × 4 columns</p>\n",
              "</div>"
            ],
            "text/plain": [
              "       user_id  item_id  rating  timestamp\n",
              "0          196      242       3  881250949\n",
              "1          186      302       3  891717742\n",
              "2           22      377       1  878887116\n",
              "3          244       51       2  880606923\n",
              "4          166      346       1  886397596\n",
              "...        ...      ...     ...        ...\n",
              "99995      880      476       3  880175444\n",
              "99996      716      204       5  879795543\n",
              "99997      276     1090       1  874795795\n",
              "99998       13      225       2  882399156\n",
              "99999       12      203       3  879959583\n",
              "\n",
              "[100000 rows x 4 columns]"
            ]
          },
          "execution_count": 59,
          "metadata": {},
          "output_type": "execute_result"
        }
      ],
      "source": [
        "ratings"
      ]
    },
    {
      "cell_type": "code",
      "execution_count": 60,
      "metadata": {},
      "outputs": [
        {
          "data": {
            "text/html": [
              "<div>\n",
              "<style scoped>\n",
              "    .dataframe tbody tr th:only-of-type {\n",
              "        vertical-align: middle;\n",
              "    }\n",
              "\n",
              "    .dataframe tbody tr th {\n",
              "        vertical-align: top;\n",
              "    }\n",
              "\n",
              "    .dataframe thead th {\n",
              "        text-align: right;\n",
              "    }\n",
              "</style>\n",
              "<table border=\"1\" class=\"dataframe\">\n",
              "  <thead>\n",
              "    <tr style=\"text-align: right;\">\n",
              "      <th></th>\n",
              "      <th>movie id</th>\n",
              "      <th>movie title</th>\n",
              "      <th>release date</th>\n",
              "      <th>video release date</th>\n",
              "      <th>IMDb URL</th>\n",
              "      <th>unknown</th>\n",
              "      <th>Action</th>\n",
              "      <th>Adventure</th>\n",
              "      <th>Animation</th>\n",
              "      <th>Children</th>\n",
              "      <th>...</th>\n",
              "      <th>Fantasy</th>\n",
              "      <th>Film-Noir</th>\n",
              "      <th>Horror</th>\n",
              "      <th>Musical</th>\n",
              "      <th>Mystery</th>\n",
              "      <th>Romance</th>\n",
              "      <th>Sci-Fi</th>\n",
              "      <th>Thriller</th>\n",
              "      <th>War</th>\n",
              "      <th>Western</th>\n",
              "    </tr>\n",
              "  </thead>\n",
              "  <tbody>\n",
              "    <tr>\n",
              "      <th>0</th>\n",
              "      <td>1</td>\n",
              "      <td>Toy Story (1995)</td>\n",
              "      <td>01-Jan-1995</td>\n",
              "      <td>NaN</td>\n",
              "      <td>http://us.imdb.com/M/title-exact?Toy%20Story%2...</td>\n",
              "      <td>0</td>\n",
              "      <td>0</td>\n",
              "      <td>0</td>\n",
              "      <td>1</td>\n",
              "      <td>1</td>\n",
              "      <td>...</td>\n",
              "      <td>0</td>\n",
              "      <td>0</td>\n",
              "      <td>0</td>\n",
              "      <td>0</td>\n",
              "      <td>0</td>\n",
              "      <td>0</td>\n",
              "      <td>0</td>\n",
              "      <td>0</td>\n",
              "      <td>0</td>\n",
              "      <td>0</td>\n",
              "    </tr>\n",
              "    <tr>\n",
              "      <th>1</th>\n",
              "      <td>2</td>\n",
              "      <td>GoldenEye (1995)</td>\n",
              "      <td>01-Jan-1995</td>\n",
              "      <td>NaN</td>\n",
              "      <td>http://us.imdb.com/M/title-exact?GoldenEye%20(...</td>\n",
              "      <td>0</td>\n",
              "      <td>1</td>\n",
              "      <td>1</td>\n",
              "      <td>0</td>\n",
              "      <td>0</td>\n",
              "      <td>...</td>\n",
              "      <td>0</td>\n",
              "      <td>0</td>\n",
              "      <td>0</td>\n",
              "      <td>0</td>\n",
              "      <td>0</td>\n",
              "      <td>0</td>\n",
              "      <td>0</td>\n",
              "      <td>1</td>\n",
              "      <td>0</td>\n",
              "      <td>0</td>\n",
              "    </tr>\n",
              "    <tr>\n",
              "      <th>2</th>\n",
              "      <td>3</td>\n",
              "      <td>Four Rooms (1995)</td>\n",
              "      <td>01-Jan-1995</td>\n",
              "      <td>NaN</td>\n",
              "      <td>http://us.imdb.com/M/title-exact?Four%20Rooms%...</td>\n",
              "      <td>0</td>\n",
              "      <td>0</td>\n",
              "      <td>0</td>\n",
              "      <td>0</td>\n",
              "      <td>0</td>\n",
              "      <td>...</td>\n",
              "      <td>0</td>\n",
              "      <td>0</td>\n",
              "      <td>0</td>\n",
              "      <td>0</td>\n",
              "      <td>0</td>\n",
              "      <td>0</td>\n",
              "      <td>0</td>\n",
              "      <td>1</td>\n",
              "      <td>0</td>\n",
              "      <td>0</td>\n",
              "    </tr>\n",
              "    <tr>\n",
              "      <th>3</th>\n",
              "      <td>4</td>\n",
              "      <td>Get Shorty (1995)</td>\n",
              "      <td>01-Jan-1995</td>\n",
              "      <td>NaN</td>\n",
              "      <td>http://us.imdb.com/M/title-exact?Get%20Shorty%...</td>\n",
              "      <td>0</td>\n",
              "      <td>1</td>\n",
              "      <td>0</td>\n",
              "      <td>0</td>\n",
              "      <td>0</td>\n",
              "      <td>...</td>\n",
              "      <td>0</td>\n",
              "      <td>0</td>\n",
              "      <td>0</td>\n",
              "      <td>0</td>\n",
              "      <td>0</td>\n",
              "      <td>0</td>\n",
              "      <td>0</td>\n",
              "      <td>0</td>\n",
              "      <td>0</td>\n",
              "      <td>0</td>\n",
              "    </tr>\n",
              "    <tr>\n",
              "      <th>4</th>\n",
              "      <td>5</td>\n",
              "      <td>Copycat (1995)</td>\n",
              "      <td>01-Jan-1995</td>\n",
              "      <td>NaN</td>\n",
              "      <td>http://us.imdb.com/M/title-exact?Copycat%20(1995)</td>\n",
              "      <td>0</td>\n",
              "      <td>0</td>\n",
              "      <td>0</td>\n",
              "      <td>0</td>\n",
              "      <td>0</td>\n",
              "      <td>...</td>\n",
              "      <td>0</td>\n",
              "      <td>0</td>\n",
              "      <td>0</td>\n",
              "      <td>0</td>\n",
              "      <td>0</td>\n",
              "      <td>0</td>\n",
              "      <td>0</td>\n",
              "      <td>1</td>\n",
              "      <td>0</td>\n",
              "      <td>0</td>\n",
              "    </tr>\n",
              "    <tr>\n",
              "      <th>...</th>\n",
              "      <td>...</td>\n",
              "      <td>...</td>\n",
              "      <td>...</td>\n",
              "      <td>...</td>\n",
              "      <td>...</td>\n",
              "      <td>...</td>\n",
              "      <td>...</td>\n",
              "      <td>...</td>\n",
              "      <td>...</td>\n",
              "      <td>...</td>\n",
              "      <td>...</td>\n",
              "      <td>...</td>\n",
              "      <td>...</td>\n",
              "      <td>...</td>\n",
              "      <td>...</td>\n",
              "      <td>...</td>\n",
              "      <td>...</td>\n",
              "      <td>...</td>\n",
              "      <td>...</td>\n",
              "      <td>...</td>\n",
              "      <td>...</td>\n",
              "    </tr>\n",
              "    <tr>\n",
              "      <th>1677</th>\n",
              "      <td>1678</td>\n",
              "      <td>Mat' i syn (1997)</td>\n",
              "      <td>06-Feb-1998</td>\n",
              "      <td>NaN</td>\n",
              "      <td>http://us.imdb.com/M/title-exact?Mat%27+i+syn+...</td>\n",
              "      <td>0</td>\n",
              "      <td>0</td>\n",
              "      <td>0</td>\n",
              "      <td>0</td>\n",
              "      <td>0</td>\n",
              "      <td>...</td>\n",
              "      <td>0</td>\n",
              "      <td>0</td>\n",
              "      <td>0</td>\n",
              "      <td>0</td>\n",
              "      <td>0</td>\n",
              "      <td>0</td>\n",
              "      <td>0</td>\n",
              "      <td>0</td>\n",
              "      <td>0</td>\n",
              "      <td>0</td>\n",
              "    </tr>\n",
              "    <tr>\n",
              "      <th>1678</th>\n",
              "      <td>1679</td>\n",
              "      <td>B. Monkey (1998)</td>\n",
              "      <td>06-Feb-1998</td>\n",
              "      <td>NaN</td>\n",
              "      <td>http://us.imdb.com/M/title-exact?B%2E+Monkey+(...</td>\n",
              "      <td>0</td>\n",
              "      <td>0</td>\n",
              "      <td>0</td>\n",
              "      <td>0</td>\n",
              "      <td>0</td>\n",
              "      <td>...</td>\n",
              "      <td>0</td>\n",
              "      <td>0</td>\n",
              "      <td>0</td>\n",
              "      <td>0</td>\n",
              "      <td>0</td>\n",
              "      <td>1</td>\n",
              "      <td>0</td>\n",
              "      <td>1</td>\n",
              "      <td>0</td>\n",
              "      <td>0</td>\n",
              "    </tr>\n",
              "    <tr>\n",
              "      <th>1679</th>\n",
              "      <td>1680</td>\n",
              "      <td>Sliding Doors (1998)</td>\n",
              "      <td>01-Jan-1998</td>\n",
              "      <td>NaN</td>\n",
              "      <td>http://us.imdb.com/Title?Sliding+Doors+(1998)</td>\n",
              "      <td>0</td>\n",
              "      <td>0</td>\n",
              "      <td>0</td>\n",
              "      <td>0</td>\n",
              "      <td>0</td>\n",
              "      <td>...</td>\n",
              "      <td>0</td>\n",
              "      <td>0</td>\n",
              "      <td>0</td>\n",
              "      <td>0</td>\n",
              "      <td>0</td>\n",
              "      <td>1</td>\n",
              "      <td>0</td>\n",
              "      <td>0</td>\n",
              "      <td>0</td>\n",
              "      <td>0</td>\n",
              "    </tr>\n",
              "    <tr>\n",
              "      <th>1680</th>\n",
              "      <td>1681</td>\n",
              "      <td>You So Crazy (1994)</td>\n",
              "      <td>01-Jan-1994</td>\n",
              "      <td>NaN</td>\n",
              "      <td>http://us.imdb.com/M/title-exact?You%20So%20Cr...</td>\n",
              "      <td>0</td>\n",
              "      <td>0</td>\n",
              "      <td>0</td>\n",
              "      <td>0</td>\n",
              "      <td>0</td>\n",
              "      <td>...</td>\n",
              "      <td>0</td>\n",
              "      <td>0</td>\n",
              "      <td>0</td>\n",
              "      <td>0</td>\n",
              "      <td>0</td>\n",
              "      <td>0</td>\n",
              "      <td>0</td>\n",
              "      <td>0</td>\n",
              "      <td>0</td>\n",
              "      <td>0</td>\n",
              "    </tr>\n",
              "    <tr>\n",
              "      <th>1681</th>\n",
              "      <td>1682</td>\n",
              "      <td>Scream of Stone (Schrei aus Stein) (1991)</td>\n",
              "      <td>08-Mar-1996</td>\n",
              "      <td>NaN</td>\n",
              "      <td>http://us.imdb.com/M/title-exact?Schrei%20aus%...</td>\n",
              "      <td>0</td>\n",
              "      <td>0</td>\n",
              "      <td>0</td>\n",
              "      <td>0</td>\n",
              "      <td>0</td>\n",
              "      <td>...</td>\n",
              "      <td>0</td>\n",
              "      <td>0</td>\n",
              "      <td>0</td>\n",
              "      <td>0</td>\n",
              "      <td>0</td>\n",
              "      <td>0</td>\n",
              "      <td>0</td>\n",
              "      <td>0</td>\n",
              "      <td>0</td>\n",
              "      <td>0</td>\n",
              "    </tr>\n",
              "  </tbody>\n",
              "</table>\n",
              "<p>1682 rows × 24 columns</p>\n",
              "</div>"
            ],
            "text/plain": [
              "      movie id                                movie title release date  \\\n",
              "0            1                           Toy Story (1995)  01-Jan-1995   \n",
              "1            2                           GoldenEye (1995)  01-Jan-1995   \n",
              "2            3                          Four Rooms (1995)  01-Jan-1995   \n",
              "3            4                          Get Shorty (1995)  01-Jan-1995   \n",
              "4            5                             Copycat (1995)  01-Jan-1995   \n",
              "...        ...                                        ...          ...   \n",
              "1677      1678                          Mat' i syn (1997)  06-Feb-1998   \n",
              "1678      1679                           B. Monkey (1998)  06-Feb-1998   \n",
              "1679      1680                       Sliding Doors (1998)  01-Jan-1998   \n",
              "1680      1681                        You So Crazy (1994)  01-Jan-1994   \n",
              "1681      1682  Scream of Stone (Schrei aus Stein) (1991)  08-Mar-1996   \n",
              "\n",
              "      video release date                                          IMDb URL   \\\n",
              "0                    NaN  http://us.imdb.com/M/title-exact?Toy%20Story%2...   \n",
              "1                    NaN  http://us.imdb.com/M/title-exact?GoldenEye%20(...   \n",
              "2                    NaN  http://us.imdb.com/M/title-exact?Four%20Rooms%...   \n",
              "3                    NaN  http://us.imdb.com/M/title-exact?Get%20Shorty%...   \n",
              "4                    NaN  http://us.imdb.com/M/title-exact?Copycat%20(1995)   \n",
              "...                  ...                                                ...   \n",
              "1677                 NaN  http://us.imdb.com/M/title-exact?Mat%27+i+syn+...   \n",
              "1678                 NaN  http://us.imdb.com/M/title-exact?B%2E+Monkey+(...   \n",
              "1679                 NaN      http://us.imdb.com/Title?Sliding+Doors+(1998)   \n",
              "1680                 NaN  http://us.imdb.com/M/title-exact?You%20So%20Cr...   \n",
              "1681                 NaN  http://us.imdb.com/M/title-exact?Schrei%20aus%...   \n",
              "\n",
              "      unknown  Action  Adventure  Animation  Children  ...  Fantasy  \\\n",
              "0           0       0          0          1         1  ...        0   \n",
              "1           0       1          1          0         0  ...        0   \n",
              "2           0       0          0          0         0  ...        0   \n",
              "3           0       1          0          0         0  ...        0   \n",
              "4           0       0          0          0         0  ...        0   \n",
              "...       ...     ...        ...        ...       ...  ...      ...   \n",
              "1677        0       0          0          0         0  ...        0   \n",
              "1678        0       0          0          0         0  ...        0   \n",
              "1679        0       0          0          0         0  ...        0   \n",
              "1680        0       0          0          0         0  ...        0   \n",
              "1681        0       0          0          0         0  ...        0   \n",
              "\n",
              "      Film-Noir  Horror  Musical  Mystery  Romance  Sci-Fi  Thriller  War  \\\n",
              "0             0       0        0        0        0       0         0    0   \n",
              "1             0       0        0        0        0       0         1    0   \n",
              "2             0       0        0        0        0       0         1    0   \n",
              "3             0       0        0        0        0       0         0    0   \n",
              "4             0       0        0        0        0       0         1    0   \n",
              "...         ...     ...      ...      ...      ...     ...       ...  ...   \n",
              "1677          0       0        0        0        0       0         0    0   \n",
              "1678          0       0        0        0        1       0         1    0   \n",
              "1679          0       0        0        0        1       0         0    0   \n",
              "1680          0       0        0        0        0       0         0    0   \n",
              "1681          0       0        0        0        0       0         0    0   \n",
              "\n",
              "      Western  \n",
              "0           0  \n",
              "1           0  \n",
              "2           0  \n",
              "3           0  \n",
              "4           0  \n",
              "...       ...  \n",
              "1677        0  \n",
              "1678        0  \n",
              "1679        0  \n",
              "1680        0  \n",
              "1681        0  \n",
              "\n",
              "[1682 rows x 24 columns]"
            ]
          },
          "execution_count": 60,
          "metadata": {},
          "output_type": "execute_result"
        }
      ],
      "source": [
        "items"
      ]
    },
    {
      "cell_type": "code",
      "execution_count": 61,
      "metadata": {},
      "outputs": [
        {
          "data": {
            "text/plain": [
              "Index(['movie id', 'movie title', 'release date', 'video release date',\n",
              "       'IMDb URL ', 'unknown', 'Action', 'Adventure', 'Animation', 'Children',\n",
              "       'Comedy', 'Crime', 'Documentary', 'Drama', 'Fantasy', 'Film-Noir',\n",
              "       'Horror', 'Musical', 'Mystery', 'Romance', 'Sci-Fi', 'Thriller', 'War',\n",
              "       'Western'],\n",
              "      dtype='object')"
            ]
          },
          "execution_count": 61,
          "metadata": {},
          "output_type": "execute_result"
        }
      ],
      "source": [
        "items.columns"
      ]
    },
    {
      "attachments": {},
      "cell_type": "markdown",
      "metadata": {},
      "source": [
        "# Punto 3 - Otros filtros para filtrado colaborativo\n",
        "## Lenskit: http://lenskit.org"
      ]
    },
    {
      "attachments": {},
      "cell_type": "markdown",
      "metadata": {},
      "source": [
        "1. Activamos ambiente virtual con python v3.9 (no soporta versiones superiores a 3.10)\n",
        "2. Instalamos la librería"
      ]
    },
    {
      "cell_type": "code",
      "execution_count": 62,
      "metadata": {},
      "outputs": [],
      "source": [
        "#pip install lenskit"
      ]
    },
    {
      "cell_type": "code",
      "execution_count": 67,
      "metadata": {},
      "outputs": [],
      "source": [
        "#from lenskit.datasets import ML100K\n",
        "from lenskit import batch, topn, util\n",
        "from lenskit import crossfold as xf\n",
        "from lenskit.algorithms import Recommender, als, item_knn as knn\n",
        "from lenskit import topn"
      ]
    },
    {
      "attachments": {},
      "cell_type": "markdown",
      "metadata": {},
      "source": [
        "Configuramos Modelo item-item:"
      ]
    },
    {
      "cell_type": "code",
      "execution_count": 68,
      "metadata": {},
      "outputs": [
        {
          "data": {
            "text/html": [
              "<div>\n",
              "<style scoped>\n",
              "    .dataframe tbody tr th:only-of-type {\n",
              "        vertical-align: middle;\n",
              "    }\n",
              "\n",
              "    .dataframe tbody tr th {\n",
              "        vertical-align: top;\n",
              "    }\n",
              "\n",
              "    .dataframe thead th {\n",
              "        text-align: right;\n",
              "    }\n",
              "</style>\n",
              "<table border=\"1\" class=\"dataframe\">\n",
              "  <thead>\n",
              "    <tr style=\"text-align: right;\">\n",
              "      <th></th>\n",
              "      <th>user_id</th>\n",
              "      <th>item_id</th>\n",
              "      <th>rating</th>\n",
              "      <th>timestamp</th>\n",
              "    </tr>\n",
              "  </thead>\n",
              "  <tbody>\n",
              "    <tr>\n",
              "      <th>0</th>\n",
              "      <td>196</td>\n",
              "      <td>242</td>\n",
              "      <td>3</td>\n",
              "      <td>881250949</td>\n",
              "    </tr>\n",
              "    <tr>\n",
              "      <th>1</th>\n",
              "      <td>186</td>\n",
              "      <td>302</td>\n",
              "      <td>3</td>\n",
              "      <td>891717742</td>\n",
              "    </tr>\n",
              "    <tr>\n",
              "      <th>2</th>\n",
              "      <td>22</td>\n",
              "      <td>377</td>\n",
              "      <td>1</td>\n",
              "      <td>878887116</td>\n",
              "    </tr>\n",
              "    <tr>\n",
              "      <th>3</th>\n",
              "      <td>244</td>\n",
              "      <td>51</td>\n",
              "      <td>2</td>\n",
              "      <td>880606923</td>\n",
              "    </tr>\n",
              "    <tr>\n",
              "      <th>4</th>\n",
              "      <td>166</td>\n",
              "      <td>346</td>\n",
              "      <td>1</td>\n",
              "      <td>886397596</td>\n",
              "    </tr>\n",
              "  </tbody>\n",
              "</table>\n",
              "</div>"
            ],
            "text/plain": [
              "   user_id  item_id  rating  timestamp\n",
              "0      196      242       3  881250949\n",
              "1      186      302       3  891717742\n",
              "2       22      377       1  878887116\n",
              "3      244       51       2  880606923\n",
              "4      166      346       1  886397596"
            ]
          },
          "execution_count": 68,
          "metadata": {},
          "output_type": "execute_result"
        }
      ],
      "source": [
        "ratings.head()"
      ]
    },
    {
      "cell_type": "code",
      "execution_count": 80,
      "metadata": {},
      "outputs": [
        {
          "data": {
            "text/html": [
              "<div>\n",
              "<style scoped>\n",
              "    .dataframe tbody tr th:only-of-type {\n",
              "        vertical-align: middle;\n",
              "    }\n",
              "\n",
              "    .dataframe tbody tr th {\n",
              "        vertical-align: top;\n",
              "    }\n",
              "\n",
              "    .dataframe thead th {\n",
              "        text-align: right;\n",
              "    }\n",
              "</style>\n",
              "<table border=\"1\" class=\"dataframe\">\n",
              "  <thead>\n",
              "    <tr style=\"text-align: right;\">\n",
              "      <th></th>\n",
              "      <th>user</th>\n",
              "      <th>item</th>\n",
              "      <th>rating</th>\n",
              "    </tr>\n",
              "  </thead>\n",
              "  <tbody>\n",
              "    <tr>\n",
              "      <th>0</th>\n",
              "      <td>196</td>\n",
              "      <td>242</td>\n",
              "      <td>3</td>\n",
              "    </tr>\n",
              "    <tr>\n",
              "      <th>1</th>\n",
              "      <td>186</td>\n",
              "      <td>302</td>\n",
              "      <td>3</td>\n",
              "    </tr>\n",
              "    <tr>\n",
              "      <th>2</th>\n",
              "      <td>22</td>\n",
              "      <td>377</td>\n",
              "      <td>1</td>\n",
              "    </tr>\n",
              "    <tr>\n",
              "      <th>3</th>\n",
              "      <td>244</td>\n",
              "      <td>51</td>\n",
              "      <td>2</td>\n",
              "    </tr>\n",
              "    <tr>\n",
              "      <th>4</th>\n",
              "      <td>166</td>\n",
              "      <td>346</td>\n",
              "      <td>1</td>\n",
              "    </tr>\n",
              "    <tr>\n",
              "      <th>...</th>\n",
              "      <td>...</td>\n",
              "      <td>...</td>\n",
              "      <td>...</td>\n",
              "    </tr>\n",
              "    <tr>\n",
              "      <th>99995</th>\n",
              "      <td>880</td>\n",
              "      <td>476</td>\n",
              "      <td>3</td>\n",
              "    </tr>\n",
              "    <tr>\n",
              "      <th>99996</th>\n",
              "      <td>716</td>\n",
              "      <td>204</td>\n",
              "      <td>5</td>\n",
              "    </tr>\n",
              "    <tr>\n",
              "      <th>99997</th>\n",
              "      <td>276</td>\n",
              "      <td>1090</td>\n",
              "      <td>1</td>\n",
              "    </tr>\n",
              "    <tr>\n",
              "      <th>99998</th>\n",
              "      <td>13</td>\n",
              "      <td>225</td>\n",
              "      <td>2</td>\n",
              "    </tr>\n",
              "    <tr>\n",
              "      <th>99999</th>\n",
              "      <td>12</td>\n",
              "      <td>203</td>\n",
              "      <td>3</td>\n",
              "    </tr>\n",
              "  </tbody>\n",
              "</table>\n",
              "<p>100000 rows × 3 columns</p>\n",
              "</div>"
            ],
            "text/plain": [
              "       user  item  rating\n",
              "0       196   242       3\n",
              "1       186   302       3\n",
              "2        22   377       1\n",
              "3       244    51       2\n",
              "4       166   346       1\n",
              "...     ...   ...     ...\n",
              "99995   880   476       3\n",
              "99996   716   204       5\n",
              "99997   276  1090       1\n",
              "99998    13   225       2\n",
              "99999    12   203       3\n",
              "\n",
              "[100000 rows x 3 columns]"
            ]
          },
          "execution_count": 80,
          "metadata": {},
          "output_type": "execute_result"
        }
      ],
      "source": [
        "ratings_lkit = ratings.copy()\n",
        "ratings_lkit = ratings[['user_id', 'item_id', 'rating']]\n",
        "ratings_lkit.columns = ['user', 'item', 'rating']\n",
        "ratings_lkit"
      ]
    },
    {
      "cell_type": "code",
      "execution_count": 76,
      "metadata": {},
      "outputs": [],
      "source": [
        "algo_ii = knn.ItemItem(20)\n",
        "algo_als = als.BiasedMF(50)"
      ]
    },
    {
      "cell_type": "code",
      "execution_count": 81,
      "metadata": {},
      "outputs": [],
      "source": [
        "def eval(aname, algo, train, test):\n",
        "    fittable = util.clone(algo)\n",
        "    fittable = Recommender.adapt(fittable)\n",
        "    fittable.fit(train)\n",
        "    users = test.user.unique()\n",
        "    # now we run the recommender\n",
        "    recs = batch.recommend(fittable, users, 100)\n",
        "    # add the algorithm name for analyzability\n",
        "    recs['Algorithm'] = aname\n",
        "    return recs\n"
      ]
    },
    {
      "cell_type": "code",
      "execution_count": 87,
      "metadata": {},
      "outputs": [],
      "source": [
        "all_recs = []\n",
        "test_data = []\n",
        "for train, test in xf.partition_users(ratings_lkit[['user', 'item', 'rating']], 5, xf.SampleFrac(0.2)):\n",
        "    test_data.append(test)\n",
        "    all_recs.append(eval('ItemItem', algo_ii, train, test))\n"
      ]
    },
    {
      "attachments": {},
      "cell_type": "markdown",
      "metadata": {},
      "source": []
    },
    {
      "cell_type": "code",
      "execution_count": 91,
      "metadata": {},
      "outputs": [
        {
          "data": {
            "text/html": [
              "<div>\n",
              "<style scoped>\n",
              "    .dataframe tbody tr th:only-of-type {\n",
              "        vertical-align: middle;\n",
              "    }\n",
              "\n",
              "    .dataframe tbody tr th {\n",
              "        vertical-align: top;\n",
              "    }\n",
              "\n",
              "    .dataframe thead th {\n",
              "        text-align: right;\n",
              "    }\n",
              "</style>\n",
              "<table border=\"1\" class=\"dataframe\">\n",
              "  <thead>\n",
              "    <tr style=\"text-align: right;\">\n",
              "      <th></th>\n",
              "      <th>item</th>\n",
              "      <th>score</th>\n",
              "      <th>user</th>\n",
              "      <th>rank</th>\n",
              "      <th>Algorithm</th>\n",
              "    </tr>\n",
              "  </thead>\n",
              "  <tbody>\n",
              "    <tr>\n",
              "      <th>0</th>\n",
              "      <td>1449</td>\n",
              "      <td>5.154592</td>\n",
              "      <td>2</td>\n",
              "      <td>1</td>\n",
              "      <td>ItemItem</td>\n",
              "    </tr>\n",
              "    <tr>\n",
              "      <th>1</th>\n",
              "      <td>1639</td>\n",
              "      <td>5.014940</td>\n",
              "      <td>2</td>\n",
              "      <td>2</td>\n",
              "      <td>ItemItem</td>\n",
              "    </tr>\n",
              "    <tr>\n",
              "      <th>2</th>\n",
              "      <td>1594</td>\n",
              "      <td>4.952485</td>\n",
              "      <td>2</td>\n",
              "      <td>3</td>\n",
              "      <td>ItemItem</td>\n",
              "    </tr>\n",
              "    <tr>\n",
              "      <th>3</th>\n",
              "      <td>318</td>\n",
              "      <td>4.867934</td>\n",
              "      <td>2</td>\n",
              "      <td>4</td>\n",
              "      <td>ItemItem</td>\n",
              "    </tr>\n",
              "    <tr>\n",
              "      <th>4</th>\n",
              "      <td>169</td>\n",
              "      <td>4.793175</td>\n",
              "      <td>2</td>\n",
              "      <td>5</td>\n",
              "      <td>ItemItem</td>\n",
              "    </tr>\n",
              "  </tbody>\n",
              "</table>\n",
              "</div>"
            ],
            "text/plain": [
              "   item     score  user  rank Algorithm\n",
              "0  1449  5.154592     2     1  ItemItem\n",
              "1  1639  5.014940     2     2  ItemItem\n",
              "2  1594  4.952485     2     3  ItemItem\n",
              "3   318  4.867934     2     4  ItemItem\n",
              "4   169  4.793175     2     5  ItemItem"
            ]
          },
          "execution_count": 91,
          "metadata": {},
          "output_type": "execute_result"
        }
      ],
      "source": [
        "all_recs = pd.concat(all_recs, ignore_index=True)\n",
        "all_recs.head()"
      ]
    },
    {
      "cell_type": "code",
      "execution_count": null,
      "metadata": {},
      "outputs": [],
      "source": []
    }
  ],
  "metadata": {
    "colab": {
      "collapsed_sections": [],
      "name": "MINE4201_SR_Laboratorio_1.ipynb",
      "provenance": []
    },
    "kernelspec": {
      "display_name": "venv3.9",
      "language": "python",
      "name": "python3"
    },
    "language_info": {
      "codemirror_mode": {
        "name": "ipython",
        "version": 3
      },
      "file_extension": ".py",
      "mimetype": "text/x-python",
      "name": "python",
      "nbconvert_exporter": "python",
      "pygments_lexer": "ipython3",
      "version": "3.9.16"
    },
    "vscode": {
      "interpreter": {
        "hash": "d63191dc5c8cc15bc8d3ed9aa7dda4af478f62f361ee6b95bda053052c79c727"
      }
    }
  },
  "nbformat": 4,
  "nbformat_minor": 0
}
