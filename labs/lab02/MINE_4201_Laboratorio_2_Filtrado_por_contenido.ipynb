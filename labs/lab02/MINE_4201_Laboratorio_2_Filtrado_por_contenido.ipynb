{
  "cells": [
    {
      "cell_type": "markdown",
      "metadata": {
        "id": "OKs7ShWIKKi7"
      },
      "source": [
        "# MINE 4201 - Laboratorio 2 - Filtrado por contenido"
      ]
    },
    {
      "cell_type": "markdown",
      "metadata": {
        "id": "VnmkMaHMrV-P"
      },
      "source": [
        "Los sistemas de recomendación basados en contenido filtran contenido basado en la representación de items y el perfil del usuario. En este laboratorio trabajaremos con un conjunto de datos del sitio web [LibraryThing](https://https://www.librarything.com/).\n",
        "\n",
        "\n",
        "## Preparación del entorno\n",
        "Instale las librerias que vamos a utilizar e importelas en el ambiente de ejecución"
      ]
    },
    {
      "cell_type": "code",
      "execution_count": 1,
      "metadata": {
        "id": "j2IE3mtIuoLG"
      },
      "outputs": [
        {
          "name": "stdout",
          "output_type": "stream",
          "text": [
            "Requirement already satisfied: scikit-learn in /opt/homebrew/lib/python3.11/site-packages (1.2.1)\n",
            "Requirement already satisfied: numpy>=1.17.3 in /opt/homebrew/lib/python3.11/site-packages (from scikit-learn) (1.24.1)\n",
            "Requirement already satisfied: scipy>=1.3.2 in /opt/homebrew/lib/python3.11/site-packages (from scikit-learn) (1.10.0)\n",
            "Requirement already satisfied: joblib>=1.1.1 in /opt/homebrew/lib/python3.11/site-packages (from scikit-learn) (1.2.0)\n",
            "Requirement already satisfied: threadpoolctl>=2.0.0 in /opt/homebrew/lib/python3.11/site-packages (from scikit-learn) (3.1.0)\n",
            "Requirement already satisfied: pandas in /opt/homebrew/lib/python3.11/site-packages (1.5.3)\n",
            "Requirement already satisfied: python-dateutil>=2.8.1 in /Users/franciscocorrea/Library/Python/3.11/lib/python/site-packages (from pandas) (2.8.2)\n",
            "Requirement already satisfied: pytz>=2020.1 in /opt/homebrew/lib/python3.11/site-packages (from pandas) (2022.7.1)\n",
            "Requirement already satisfied: numpy>=1.21.0 in /opt/homebrew/lib/python3.11/site-packages (from pandas) (1.24.1)\n",
            "Requirement already satisfied: six>=1.5 in /Users/franciscocorrea/Library/Python/3.11/lib/python/site-packages (from python-dateutil>=2.8.1->pandas) (1.16.0)\n",
            "Requirement already satisfied: seaborn in /opt/homebrew/lib/python3.11/site-packages (0.12.2)\n",
            "Requirement already satisfied: numpy!=1.24.0,>=1.17 in /opt/homebrew/lib/python3.11/site-packages (from seaborn) (1.24.1)\n",
            "Requirement already satisfied: pandas>=0.25 in /opt/homebrew/lib/python3.11/site-packages (from seaborn) (1.5.3)\n",
            "Requirement already satisfied: matplotlib!=3.6.1,>=3.1 in /opt/homebrew/lib/python3.11/site-packages (from seaborn) (3.6.3)\n",
            "Requirement already satisfied: contourpy>=1.0.1 in /opt/homebrew/lib/python3.11/site-packages (from matplotlib!=3.6.1,>=3.1->seaborn) (1.0.7)\n",
            "Requirement already satisfied: cycler>=0.10 in /opt/homebrew/lib/python3.11/site-packages (from matplotlib!=3.6.1,>=3.1->seaborn) (0.11.0)\n",
            "Requirement already satisfied: fonttools>=4.22.0 in /opt/homebrew/lib/python3.11/site-packages (from matplotlib!=3.6.1,>=3.1->seaborn) (4.38.0)\n",
            "Requirement already satisfied: kiwisolver>=1.0.1 in /opt/homebrew/lib/python3.11/site-packages (from matplotlib!=3.6.1,>=3.1->seaborn) (1.4.4)\n",
            "Requirement already satisfied: packaging>=20.0 in /Users/franciscocorrea/Library/Python/3.11/lib/python/site-packages (from matplotlib!=3.6.1,>=3.1->seaborn) (23.0)\n",
            "Requirement already satisfied: pillow>=6.2.0 in /opt/homebrew/lib/python3.11/site-packages (from matplotlib!=3.6.1,>=3.1->seaborn) (9.4.0)\n",
            "Requirement already satisfied: pyparsing>=2.2.1 in /opt/homebrew/lib/python3.11/site-packages (from matplotlib!=3.6.1,>=3.1->seaborn) (3.0.9)\n",
            "Requirement already satisfied: python-dateutil>=2.7 in /Users/franciscocorrea/Library/Python/3.11/lib/python/site-packages (from matplotlib!=3.6.1,>=3.1->seaborn) (2.8.2)\n",
            "Requirement already satisfied: pytz>=2020.1 in /opt/homebrew/lib/python3.11/site-packages (from pandas>=0.25->seaborn) (2022.7.1)\n",
            "Requirement already satisfied: six>=1.5 in /Users/franciscocorrea/Library/Python/3.11/lib/python/site-packages (from python-dateutil>=2.7->matplotlib!=3.6.1,>=3.1->seaborn) (1.16.0)\n"
          ]
        }
      ],
      "source": [
        "# !pip install scikit-learn\n",
        "# !pip install pandas\n",
        "# !pip install seaborn"
      ]
    },
    {
      "cell_type": "code",
      "execution_count": 2,
      "metadata": {
        "id": "Kc5uvt4FwPeY"
      },
      "outputs": [],
      "source": [
        "import os\n",
        "import pandas as pd\n",
        "import numpy as np\n",
        "import seaborn as sns\n",
        "import matplotlib.pyplot as plt\n",
        "import random\n",
        "%matplotlib inline\n",
        "\n",
        "from sklearn.model_selection import train_test_split\n",
        "from sklearn.feature_selection import chi2\n",
        "from sklearn.neighbors import KNeighborsClassifier\n",
        "from sklearn.metrics import confusion_matrix, precision_recall_fscore_support\n",
        "\n"
      ]
    },
    {
      "cell_type": "markdown",
      "metadata": {
        "id": "yqQtNiS4vCJ8"
      },
      "source": [
        "## Carga de archivos \n",
        "\n",
        "Copie el archivo del dataset en el entorno colab en la pestaña files (la carpeta en el menú de la izquierda), carguemos el csv en un dataframe de pandas y revisemos su contenido."
      ]
    },
    {
      "cell_type": "code",
      "execution_count": 4,
      "metadata": {
        "id": "hBgLrcbXu4VV"
      },
      "outputs": [
        {
          "name": "stdout",
          "output_type": "stream",
          "text": [
            "Los archivos han sido cargados\n"
          ]
        }
      ],
      "source": [
        "if not os.path.exists('DB-BOOK-content.csv') :\n",
        "  raise ValueError('El archivo DB-BOOK-content.csv no fue encontrado en el path')\n",
        "else:\n",
        "  print(\"Los archivos han sido cargados\")"
      ]
    },
    {
      "cell_type": "code",
      "execution_count": 6,
      "metadata": {
        "id": "7RA_mj5ZxN8w"
      },
      "outputs": [
        {
          "data": {
            "text/html": [
              "<div>\n",
              "<style scoped>\n",
              "    .dataframe tbody tr th:only-of-type {\n",
              "        vertical-align: middle;\n",
              "    }\n",
              "\n",
              "    .dataframe tbody tr th {\n",
              "        vertical-align: top;\n",
              "    }\n",
              "\n",
              "    .dataframe thead th {\n",
              "        text-align: right;\n",
              "    }\n",
              "</style>\n",
              "<table border=\"1\" class=\"dataframe\">\n",
              "  <thead>\n",
              "    <tr style=\"text-align: right;\">\n",
              "      <th></th>\n",
              "      <th>DBbook_userID</th>\n",
              "      <th>name</th>\n",
              "      <th>DBbook_ItemID</th>\n",
              "      <th>featureID</th>\n",
              "      <th>featureShortname</th>\n",
              "      <th>rate</th>\n",
              "    </tr>\n",
              "  </thead>\n",
              "  <tbody>\n",
              "    <tr>\n",
              "      <th>0</th>\n",
              "      <td>1</td>\n",
              "      <td>Contingency, Irony, and Solidarity</td>\n",
              "      <td>508</td>\n",
              "      <td>1066</td>\n",
              "      <td>/Category:1989_books</td>\n",
              "      <td>5</td>\n",
              "    </tr>\n",
              "    <tr>\n",
              "      <th>1</th>\n",
              "      <td>1</td>\n",
              "      <td>Contingency, Irony, and Solidarity</td>\n",
              "      <td>508</td>\n",
              "      <td>2300</td>\n",
              "      <td>/Richard_Rorty</td>\n",
              "      <td>5</td>\n",
              "    </tr>\n",
              "    <tr>\n",
              "      <th>2</th>\n",
              "      <td>1</td>\n",
              "      <td>Contingency, Irony, and Solidarity</td>\n",
              "      <td>508</td>\n",
              "      <td>2301</td>\n",
              "      <td>/Category:Works_about_Marcel_Proust</td>\n",
              "      <td>5</td>\n",
              "    </tr>\n",
              "    <tr>\n",
              "      <th>3</th>\n",
              "      <td>1</td>\n",
              "      <td>Contingency, Irony, and Solidarity</td>\n",
              "      <td>508</td>\n",
              "      <td>2302</td>\n",
              "      <td>/Category:Books_by_Richard_Rorty</td>\n",
              "      <td>5</td>\n",
              "    </tr>\n",
              "    <tr>\n",
              "      <th>4</th>\n",
              "      <td>1</td>\n",
              "      <td>Contingency, Irony, and Solidarity</td>\n",
              "      <td>508</td>\n",
              "      <td>2303</td>\n",
              "      <td>/Category:Books_about_irony</td>\n",
              "      <td>5</td>\n",
              "    </tr>\n",
              "    <tr>\n",
              "      <th>...</th>\n",
              "      <td>...</td>\n",
              "      <td>...</td>\n",
              "      <td>...</td>\n",
              "      <td>...</td>\n",
              "      <td>...</td>\n",
              "      <td>...</td>\n",
              "    </tr>\n",
              "    <tr>\n",
              "      <th>1439449</th>\n",
              "      <td>7255</td>\n",
              "      <td>The Catcher in the Rye</td>\n",
              "      <td>8010</td>\n",
              "      <td>3322</td>\n",
              "      <td>/Category:American_bildungsromans</td>\n",
              "      <td>3</td>\n",
              "    </tr>\n",
              "    <tr>\n",
              "      <th>1439450</th>\n",
              "      <td>7255</td>\n",
              "      <td>The Catcher in the Rye</td>\n",
              "      <td>8010</td>\n",
              "      <td>6746</td>\n",
              "      <td>/Category:1949_in_fiction</td>\n",
              "      <td>3</td>\n",
              "    </tr>\n",
              "    <tr>\n",
              "      <th>1439451</th>\n",
              "      <td>7255</td>\n",
              "      <td>The Catcher in the Rye</td>\n",
              "      <td>8010</td>\n",
              "      <td>9011</td>\n",
              "      <td>/J._D._Salinger</td>\n",
              "      <td>3</td>\n",
              "    </tr>\n",
              "    <tr>\n",
              "      <th>1439452</th>\n",
              "      <td>7255</td>\n",
              "      <td>The Catcher in the Rye</td>\n",
              "      <td>8010</td>\n",
              "      <td>10155</td>\n",
              "      <td>/Category:Novels_by_J._D._Salinger</td>\n",
              "      <td>3</td>\n",
              "    </tr>\n",
              "    <tr>\n",
              "      <th>1439453</th>\n",
              "      <td>7255</td>\n",
              "      <td>The Catcher in the Rye</td>\n",
              "      <td>8010</td>\n",
              "      <td>13857</td>\n",
              "      <td>/NovelsByJ.D.Salinger</td>\n",
              "      <td>3</td>\n",
              "    </tr>\n",
              "  </tbody>\n",
              "</table>\n",
              "<p>1439454 rows × 6 columns</p>\n",
              "</div>"
            ],
            "text/plain": [
              "         DBbook_userID                                name  DBbook_ItemID  \\\n",
              "0                    1  Contingency, Irony, and Solidarity            508   \n",
              "1                    1  Contingency, Irony, and Solidarity            508   \n",
              "2                    1  Contingency, Irony, and Solidarity            508   \n",
              "3                    1  Contingency, Irony, and Solidarity            508   \n",
              "4                    1  Contingency, Irony, and Solidarity            508   \n",
              "...                ...                                 ...            ...   \n",
              "1439449           7255              The Catcher in the Rye           8010   \n",
              "1439450           7255              The Catcher in the Rye           8010   \n",
              "1439451           7255              The Catcher in the Rye           8010   \n",
              "1439452           7255              The Catcher in the Rye           8010   \n",
              "1439453           7255              The Catcher in the Rye           8010   \n",
              "\n",
              "         featureID                     featureShortname  rate  \n",
              "0             1066                 /Category:1989_books     5  \n",
              "1             2300                       /Richard_Rorty     5  \n",
              "2             2301  /Category:Works_about_Marcel_Proust     5  \n",
              "3             2302     /Category:Books_by_Richard_Rorty     5  \n",
              "4             2303          /Category:Books_about_irony     5  \n",
              "...            ...                                  ...   ...  \n",
              "1439449       3322    /Category:American_bildungsromans     3  \n",
              "1439450       6746            /Category:1949_in_fiction     3  \n",
              "1439451       9011                      /J._D._Salinger     3  \n",
              "1439452      10155   /Category:Novels_by_J._D._Salinger     3  \n",
              "1439453      13857                /NovelsByJ.D.Salinger     3  \n",
              "\n",
              "[1439454 rows x 6 columns]"
            ]
          },
          "execution_count": 6,
          "metadata": {},
          "output_type": "execute_result"
        }
      ],
      "source": [
        "df_dbbook=pd.read_csv('DB-BOOK-content.csv', sep=';')\n",
        "df_dbbook"
      ]
    },
    {
      "cell_type": "markdown",
      "metadata": {
        "id": "wB8U14SC_qzm"
      },
      "source": [
        "Este dataset tiene un formato similar al que manejamos el taller pasado. Tiene una columna con el id del usuario, otra con el id del item y un rating. \n",
        "\n",
        "Cada rating esta presente varias veces, una por cada característica de los libros, revisemos por ejemplo las características del libro con ID 8010.\n",
        "\n",
        "Se selecciona del dataframe las columnas name, featureID y featureShortname, la instruccion drop_duplicates nos deja solamente las columnas que no \n",
        "\n",
        "Nota: Para saber más de indexación de dataframes de pandas utilizando .loc hay una explicación en la [documentación](https://pandas.pydata.org/pandas-docs/stable/user_guide/indexing.html)\n",
        "\n"
      ]
    },
    {
      "cell_type": "code",
      "execution_count": 7,
      "metadata": {
        "id": "-K8PljKX8MhJ"
      },
      "outputs": [
        {
          "data": {
            "text/html": [
              "<div>\n",
              "<style scoped>\n",
              "    .dataframe tbody tr th:only-of-type {\n",
              "        vertical-align: middle;\n",
              "    }\n",
              "\n",
              "    .dataframe tbody tr th {\n",
              "        vertical-align: top;\n",
              "    }\n",
              "\n",
              "    .dataframe thead th {\n",
              "        text-align: right;\n",
              "    }\n",
              "</style>\n",
              "<table border=\"1\" class=\"dataframe\">\n",
              "  <thead>\n",
              "    <tr style=\"text-align: right;\">\n",
              "      <th></th>\n",
              "      <th>DBbook_ItemID</th>\n",
              "      <th>name</th>\n",
              "      <th>featureID</th>\n",
              "      <th>featureShortname</th>\n",
              "    </tr>\n",
              "  </thead>\n",
              "  <tbody>\n",
              "    <tr>\n",
              "      <th>996</th>\n",
              "      <td>8010</td>\n",
              "      <td>The Catcher in the Rye</td>\n",
              "      <td>3</td>\n",
              "      <td>/Communication100033020</td>\n",
              "    </tr>\n",
              "    <tr>\n",
              "      <th>997</th>\n",
              "      <td>8010</td>\n",
              "      <td>The Catcher in the Rye</td>\n",
              "      <td>4</td>\n",
              "      <td>/Fiction106367107</td>\n",
              "    </tr>\n",
              "    <tr>\n",
              "      <th>998</th>\n",
              "      <td>8010</td>\n",
              "      <td>The Catcher in the Rye</td>\n",
              "      <td>5</td>\n",
              "      <td>/LiteraryComposition106364329</td>\n",
              "    </tr>\n",
              "    <tr>\n",
              "      <th>999</th>\n",
              "      <td>8010</td>\n",
              "      <td>The Catcher in the Rye</td>\n",
              "      <td>6</td>\n",
              "      <td>/Writing106362953</td>\n",
              "    </tr>\n",
              "    <tr>\n",
              "      <th>1000</th>\n",
              "      <td>8010</td>\n",
              "      <td>The Catcher in the Rye</td>\n",
              "      <td>7</td>\n",
              "      <td>/WrittenCommunication106349220</td>\n",
              "    </tr>\n",
              "    <tr>\n",
              "      <th>1001</th>\n",
              "      <td>8010</td>\n",
              "      <td>The Catcher in the Rye</td>\n",
              "      <td>11</td>\n",
              "      <td>/Novel106367879</td>\n",
              "    </tr>\n",
              "    <tr>\n",
              "      <th>1002</th>\n",
              "      <td>8010</td>\n",
              "      <td>The Catcher in the Rye</td>\n",
              "      <td>13</td>\n",
              "      <td>/Abstraction100002137</td>\n",
              "    </tr>\n",
              "    <tr>\n",
              "      <th>1003</th>\n",
              "      <td>8010</td>\n",
              "      <td>The Catcher in the Rye</td>\n",
              "      <td>228</td>\n",
              "      <td>/DebutNovels</td>\n",
              "    </tr>\n",
              "    <tr>\n",
              "      <th>1004</th>\n",
              "      <td>8010</td>\n",
              "      <td>The Catcher in the Rye</td>\n",
              "      <td>233</td>\n",
              "      <td>/Category:Debut_novels</td>\n",
              "    </tr>\n",
              "    <tr>\n",
              "      <th>1005</th>\n",
              "      <td>8010</td>\n",
              "      <td>The Catcher in the Rye</td>\n",
              "      <td>277</td>\n",
              "      <td>/Category:Little,_Brown_and_Company_books</td>\n",
              "    </tr>\n",
              "    <tr>\n",
              "      <th>1006</th>\n",
              "      <td>8010</td>\n",
              "      <td>The Catcher in the Rye</td>\n",
              "      <td>626</td>\n",
              "      <td>/Category:Novels_set_in_New_York_City</td>\n",
              "    </tr>\n",
              "    <tr>\n",
              "      <th>1007</th>\n",
              "      <td>8010</td>\n",
              "      <td>The Catcher in the Rye</td>\n",
              "      <td>1378</td>\n",
              "      <td>/Category:Novels_set_in_Pennsylvania</td>\n",
              "    </tr>\n",
              "    <tr>\n",
              "      <th>1008</th>\n",
              "      <td>8010</td>\n",
              "      <td>The Catcher in the Rye</td>\n",
              "      <td>2394</td>\n",
              "      <td>/1951Novels</td>\n",
              "    </tr>\n",
              "    <tr>\n",
              "      <th>1009</th>\n",
              "      <td>8010</td>\n",
              "      <td>The Catcher in the Rye</td>\n",
              "      <td>2402</td>\n",
              "      <td>/Category:1951_novels</td>\n",
              "    </tr>\n",
              "    <tr>\n",
              "      <th>1010</th>\n",
              "      <td>8010</td>\n",
              "      <td>The Catcher in the Rye</td>\n",
              "      <td>3322</td>\n",
              "      <td>/Category:American_bildungsromans</td>\n",
              "    </tr>\n",
              "    <tr>\n",
              "      <th>1011</th>\n",
              "      <td>8010</td>\n",
              "      <td>The Catcher in the Rye</td>\n",
              "      <td>6746</td>\n",
              "      <td>/Category:1949_in_fiction</td>\n",
              "    </tr>\n",
              "    <tr>\n",
              "      <th>1012</th>\n",
              "      <td>8010</td>\n",
              "      <td>The Catcher in the Rye</td>\n",
              "      <td>9011</td>\n",
              "      <td>/J._D._Salinger</td>\n",
              "    </tr>\n",
              "    <tr>\n",
              "      <th>1013</th>\n",
              "      <td>8010</td>\n",
              "      <td>The Catcher in the Rye</td>\n",
              "      <td>10155</td>\n",
              "      <td>/Category:Novels_by_J._D._Salinger</td>\n",
              "    </tr>\n",
              "    <tr>\n",
              "      <th>1014</th>\n",
              "      <td>8010</td>\n",
              "      <td>The Catcher in the Rye</td>\n",
              "      <td>13857</td>\n",
              "      <td>/NovelsByJ.D.Salinger</td>\n",
              "    </tr>\n",
              "  </tbody>\n",
              "</table>\n",
              "</div>"
            ],
            "text/plain": [
              "      DBbook_ItemID                    name  featureID  \\\n",
              "996            8010  The Catcher in the Rye          3   \n",
              "997            8010  The Catcher in the Rye          4   \n",
              "998            8010  The Catcher in the Rye          5   \n",
              "999            8010  The Catcher in the Rye          6   \n",
              "1000           8010  The Catcher in the Rye          7   \n",
              "1001           8010  The Catcher in the Rye         11   \n",
              "1002           8010  The Catcher in the Rye         13   \n",
              "1003           8010  The Catcher in the Rye        228   \n",
              "1004           8010  The Catcher in the Rye        233   \n",
              "1005           8010  The Catcher in the Rye        277   \n",
              "1006           8010  The Catcher in the Rye        626   \n",
              "1007           8010  The Catcher in the Rye       1378   \n",
              "1008           8010  The Catcher in the Rye       2394   \n",
              "1009           8010  The Catcher in the Rye       2402   \n",
              "1010           8010  The Catcher in the Rye       3322   \n",
              "1011           8010  The Catcher in the Rye       6746   \n",
              "1012           8010  The Catcher in the Rye       9011   \n",
              "1013           8010  The Catcher in the Rye      10155   \n",
              "1014           8010  The Catcher in the Rye      13857   \n",
              "\n",
              "                               featureShortname  \n",
              "996                     /Communication100033020  \n",
              "997                           /Fiction106367107  \n",
              "998               /LiteraryComposition106364329  \n",
              "999                           /Writing106362953  \n",
              "1000             /WrittenCommunication106349220  \n",
              "1001                            /Novel106367879  \n",
              "1002                      /Abstraction100002137  \n",
              "1003                               /DebutNovels  \n",
              "1004                     /Category:Debut_novels  \n",
              "1005  /Category:Little,_Brown_and_Company_books  \n",
              "1006      /Category:Novels_set_in_New_York_City  \n",
              "1007       /Category:Novels_set_in_Pennsylvania  \n",
              "1008                                /1951Novels  \n",
              "1009                      /Category:1951_novels  \n",
              "1010          /Category:American_bildungsromans  \n",
              "1011                  /Category:1949_in_fiction  \n",
              "1012                            /J._D._Salinger  \n",
              "1013         /Category:Novels_by_J._D._Salinger  \n",
              "1014                      /NovelsByJ.D.Salinger  "
            ]
          },
          "execution_count": 7,
          "metadata": {},
          "output_type": "execute_result"
        }
      ],
      "source": [
        "df_dbbook.loc[df_dbbook.DBbook_ItemID==8010,['DBbook_ItemID','name','featureID','featureShortname']].drop_duplicates()"
      ]
    },
    {
      "cell_type": "markdown",
      "metadata": {
        "id": "hxv8YvaiMrPM"
      },
      "source": [
        "Cada libro tiene features fueron extraidos de [DBpedia](https://wiki.dbpedia.org/). Dbpedia es una iniciativa para construir una representación de conceptos y relaciones mediante ontologías utilizando la información depositada en wikipedia. Más adelante vamos a utilizar DBPedia para otros talleres que aprovechan la información de la ontología de DBPedia, por ahora lo que tenemos es una representación de conjunto de palabras (o conceptos) para describir un item.  "
      ]
    },
    {
      "cell_type": "markdown",
      "metadata": {
        "id": "AeZn60fcT-OC"
      },
      "source": [
        "## Creación de matriz documento-termino\n",
        "\n",
        "En las siguientes líneas vamos a crear la matriz documento término, el primer paso es obtener en un dataframe los libros, los conceptos, y  los conceptos únicos por libro."
      ]
    },
    {
      "cell_type": "code",
      "execution_count": 8,
      "metadata": {
        "id": "8y198APzhd8U"
      },
      "outputs": [
        {
          "data": {
            "text/html": [
              "<div>\n",
              "<style scoped>\n",
              "    .dataframe tbody tr th:only-of-type {\n",
              "        vertical-align: middle;\n",
              "    }\n",
              "\n",
              "    .dataframe tbody tr th {\n",
              "        vertical-align: top;\n",
              "    }\n",
              "\n",
              "    .dataframe thead th {\n",
              "        text-align: right;\n",
              "    }\n",
              "</style>\n",
              "<table border=\"1\" class=\"dataframe\">\n",
              "  <thead>\n",
              "    <tr style=\"text-align: right;\">\n",
              "      <th></th>\n",
              "      <th>DBbook_ItemID</th>\n",
              "      <th>name</th>\n",
              "    </tr>\n",
              "  </thead>\n",
              "  <tbody>\n",
              "    <tr>\n",
              "      <th>0</th>\n",
              "      <td>508</td>\n",
              "      <td>Contingency, Irony, and Solidarity</td>\n",
              "    </tr>\n",
              "    <tr>\n",
              "      <th>8</th>\n",
              "      <td>802</td>\n",
              "      <td>The Solitaire Mystery</td>\n",
              "    </tr>\n",
              "    <tr>\n",
              "      <th>26</th>\n",
              "      <td>889</td>\n",
              "      <td>Wise Blood</td>\n",
              "    </tr>\n",
              "    <tr>\n",
              "      <th>49</th>\n",
              "      <td>1367</td>\n",
              "      <td>The Bell Jar</td>\n",
              "    </tr>\n",
              "    <tr>\n",
              "      <th>72</th>\n",
              "      <td>1736</td>\n",
              "      <td>The Structure of Scientific Revolutions</td>\n",
              "    </tr>\n",
              "    <tr>\n",
              "      <th>...</th>\n",
              "      <td>...</td>\n",
              "      <td>...</td>\n",
              "    </tr>\n",
              "    <tr>\n",
              "      <th>1434966</th>\n",
              "      <td>2860</td>\n",
              "      <td>Practical Magic</td>\n",
              "    </tr>\n",
              "    <tr>\n",
              "      <th>1436627</th>\n",
              "      <td>3838</td>\n",
              "      <td>Destiny: A Chronicle of Deaths Foretold</td>\n",
              "    </tr>\n",
              "    <tr>\n",
              "      <th>1437751</th>\n",
              "      <td>5779</td>\n",
              "      <td>The Road to Omaha</td>\n",
              "    </tr>\n",
              "    <tr>\n",
              "      <th>1438719</th>\n",
              "      <td>3485</td>\n",
              "      <td>Kamikaze Girls</td>\n",
              "    </tr>\n",
              "    <tr>\n",
              "      <th>1438753</th>\n",
              "      <td>3963</td>\n",
              "      <td>Queen of Demons</td>\n",
              "    </tr>\n",
              "  </tbody>\n",
              "</table>\n",
              "<p>6164 rows × 2 columns</p>\n",
              "</div>"
            ],
            "text/plain": [
              "         DBbook_ItemID                                     name\n",
              "0                  508       Contingency, Irony, and Solidarity\n",
              "8                  802                    The Solitaire Mystery\n",
              "26                 889                               Wise Blood\n",
              "49                1367                             The Bell Jar\n",
              "72                1736  The Structure of Scientific Revolutions\n",
              "...                ...                                      ...\n",
              "1434966           2860                          Practical Magic\n",
              "1436627           3838  Destiny: A Chronicle of Deaths Foretold\n",
              "1437751           5779                        The Road to Omaha\n",
              "1438719           3485                           Kamikaze Girls\n",
              "1438753           3963                          Queen of Demons\n",
              "\n",
              "[6164 rows x 2 columns]"
            ]
          },
          "execution_count": 8,
          "metadata": {},
          "output_type": "execute_result"
        }
      ],
      "source": [
        "df_libros=df_dbbook.loc[:,['DBbook_ItemID','name']].drop_duplicates()\n",
        "df_libros"
      ]
    },
    {
      "cell_type": "code",
      "execution_count": 9,
      "metadata": {
        "id": "kMxSgYFeh5xC"
      },
      "outputs": [
        {
          "data": {
            "text/html": [
              "<div>\n",
              "<style scoped>\n",
              "    .dataframe tbody tr th:only-of-type {\n",
              "        vertical-align: middle;\n",
              "    }\n",
              "\n",
              "    .dataframe tbody tr th {\n",
              "        vertical-align: top;\n",
              "    }\n",
              "\n",
              "    .dataframe thead th {\n",
              "        text-align: right;\n",
              "    }\n",
              "</style>\n",
              "<table border=\"1\" class=\"dataframe\">\n",
              "  <thead>\n",
              "    <tr style=\"text-align: right;\">\n",
              "      <th></th>\n",
              "      <th>featureID</th>\n",
              "      <th>featureShortname</th>\n",
              "    </tr>\n",
              "  </thead>\n",
              "  <tbody>\n",
              "    <tr>\n",
              "      <th>0</th>\n",
              "      <td>1066</td>\n",
              "      <td>/Category:1989_books</td>\n",
              "    </tr>\n",
              "    <tr>\n",
              "      <th>1</th>\n",
              "      <td>2300</td>\n",
              "      <td>/Richard_Rorty</td>\n",
              "    </tr>\n",
              "    <tr>\n",
              "      <th>2</th>\n",
              "      <td>2301</td>\n",
              "      <td>/Category:Works_about_Marcel_Proust</td>\n",
              "    </tr>\n",
              "    <tr>\n",
              "      <th>3</th>\n",
              "      <td>2302</td>\n",
              "      <td>/Category:Books_by_Richard_Rorty</td>\n",
              "    </tr>\n",
              "    <tr>\n",
              "      <th>4</th>\n",
              "      <td>2303</td>\n",
              "      <td>/Category:Books_about_irony</td>\n",
              "    </tr>\n",
              "    <tr>\n",
              "      <th>...</th>\n",
              "      <td>...</td>\n",
              "      <td>...</td>\n",
              "    </tr>\n",
              "    <tr>\n",
              "      <th>1438749</th>\n",
              "      <td>8790</td>\n",
              "      <td>/Category:Adventure_comedy_films</td>\n",
              "    </tr>\n",
              "    <tr>\n",
              "      <th>1438750</th>\n",
              "      <td>8791</td>\n",
              "      <td>/Category:Fantasy-comedy_films</td>\n",
              "    </tr>\n",
              "    <tr>\n",
              "      <th>1438752</th>\n",
              "      <td>8793</td>\n",
              "      <td>/Category:2004_Japanese_films</td>\n",
              "    </tr>\n",
              "    <tr>\n",
              "      <th>1438766</th>\n",
              "      <td>9393</td>\n",
              "      <td>/NovelsByDavidDrake</td>\n",
              "    </tr>\n",
              "    <tr>\n",
              "      <th>1438767</th>\n",
              "      <td>9394</td>\n",
              "      <td>/Category:Novels_by_David_Drake</td>\n",
              "    </tr>\n",
              "  </tbody>\n",
              "</table>\n",
              "<p>12246 rows × 2 columns</p>\n",
              "</div>"
            ],
            "text/plain": [
              "         featureID                     featureShortname\n",
              "0             1066                 /Category:1989_books\n",
              "1             2300                       /Richard_Rorty\n",
              "2             2301  /Category:Works_about_Marcel_Proust\n",
              "3             2302     /Category:Books_by_Richard_Rorty\n",
              "4             2303          /Category:Books_about_irony\n",
              "...            ...                                  ...\n",
              "1438749       8790     /Category:Adventure_comedy_films\n",
              "1438750       8791       /Category:Fantasy-comedy_films\n",
              "1438752       8793        /Category:2004_Japanese_films\n",
              "1438766       9393                  /NovelsByDavidDrake\n",
              "1438767       9394      /Category:Novels_by_David_Drake\n",
              "\n",
              "[12246 rows x 2 columns]"
            ]
          },
          "execution_count": 9,
          "metadata": {},
          "output_type": "execute_result"
        }
      ],
      "source": [
        "df_conceptos=df_dbbook.loc[:,['featureID','featureShortname']].drop_duplicates()\n",
        "df_conceptos"
      ]
    },
    {
      "cell_type": "code",
      "execution_count": 10,
      "metadata": {
        "id": "tXWiCYifMqnr"
      },
      "outputs": [
        {
          "data": {
            "text/html": [
              "<div>\n",
              "<style scoped>\n",
              "    .dataframe tbody tr th:only-of-type {\n",
              "        vertical-align: middle;\n",
              "    }\n",
              "\n",
              "    .dataframe tbody tr th {\n",
              "        vertical-align: top;\n",
              "    }\n",
              "\n",
              "    .dataframe thead th {\n",
              "        text-align: right;\n",
              "    }\n",
              "</style>\n",
              "<table border=\"1\" class=\"dataframe\">\n",
              "  <thead>\n",
              "    <tr style=\"text-align: right;\">\n",
              "      <th></th>\n",
              "      <th>DBbook_ItemID</th>\n",
              "      <th>name</th>\n",
              "      <th>featureID</th>\n",
              "      <th>featureShortname</th>\n",
              "    </tr>\n",
              "  </thead>\n",
              "  <tbody>\n",
              "    <tr>\n",
              "      <th>0</th>\n",
              "      <td>508</td>\n",
              "      <td>Contingency, Irony, and Solidarity</td>\n",
              "      <td>1066</td>\n",
              "      <td>/Category:1989_books</td>\n",
              "    </tr>\n",
              "    <tr>\n",
              "      <th>1</th>\n",
              "      <td>508</td>\n",
              "      <td>Contingency, Irony, and Solidarity</td>\n",
              "      <td>2300</td>\n",
              "      <td>/Richard_Rorty</td>\n",
              "    </tr>\n",
              "    <tr>\n",
              "      <th>2</th>\n",
              "      <td>508</td>\n",
              "      <td>Contingency, Irony, and Solidarity</td>\n",
              "      <td>2301</td>\n",
              "      <td>/Category:Works_about_Marcel_Proust</td>\n",
              "    </tr>\n",
              "    <tr>\n",
              "      <th>3</th>\n",
              "      <td>508</td>\n",
              "      <td>Contingency, Irony, and Solidarity</td>\n",
              "      <td>2302</td>\n",
              "      <td>/Category:Books_by_Richard_Rorty</td>\n",
              "    </tr>\n",
              "    <tr>\n",
              "      <th>4</th>\n",
              "      <td>508</td>\n",
              "      <td>Contingency, Irony, and Solidarity</td>\n",
              "      <td>2303</td>\n",
              "      <td>/Category:Books_about_irony</td>\n",
              "    </tr>\n",
              "    <tr>\n",
              "      <th>...</th>\n",
              "      <td>...</td>\n",
              "      <td>...</td>\n",
              "      <td>...</td>\n",
              "      <td>...</td>\n",
              "    </tr>\n",
              "    <tr>\n",
              "      <th>1438763</th>\n",
              "      <td>3963</td>\n",
              "      <td>Queen of Demons</td>\n",
              "      <td>790</td>\n",
              "      <td>/1998Novels</td>\n",
              "    </tr>\n",
              "    <tr>\n",
              "      <th>1438764</th>\n",
              "      <td>3963</td>\n",
              "      <td>Queen of Demons</td>\n",
              "      <td>793</td>\n",
              "      <td>/Category:1998_novels</td>\n",
              "    </tr>\n",
              "    <tr>\n",
              "      <th>1438765</th>\n",
              "      <td>3963</td>\n",
              "      <td>Queen of Demons</td>\n",
              "      <td>4006</td>\n",
              "      <td>/David_Drake</td>\n",
              "    </tr>\n",
              "    <tr>\n",
              "      <th>1438766</th>\n",
              "      <td>3963</td>\n",
              "      <td>Queen of Demons</td>\n",
              "      <td>9393</td>\n",
              "      <td>/NovelsByDavidDrake</td>\n",
              "    </tr>\n",
              "    <tr>\n",
              "      <th>1438767</th>\n",
              "      <td>3963</td>\n",
              "      <td>Queen of Demons</td>\n",
              "      <td>9394</td>\n",
              "      <td>/Category:Novels_by_David_Drake</td>\n",
              "    </tr>\n",
              "  </tbody>\n",
              "</table>\n",
              "<p>102803 rows × 4 columns</p>\n",
              "</div>"
            ],
            "text/plain": [
              "         DBbook_ItemID                                name  featureID  \\\n",
              "0                  508  Contingency, Irony, and Solidarity       1066   \n",
              "1                  508  Contingency, Irony, and Solidarity       2300   \n",
              "2                  508  Contingency, Irony, and Solidarity       2301   \n",
              "3                  508  Contingency, Irony, and Solidarity       2302   \n",
              "4                  508  Contingency, Irony, and Solidarity       2303   \n",
              "...                ...                                 ...        ...   \n",
              "1438763           3963                     Queen of Demons        790   \n",
              "1438764           3963                     Queen of Demons        793   \n",
              "1438765           3963                     Queen of Demons       4006   \n",
              "1438766           3963                     Queen of Demons       9393   \n",
              "1438767           3963                     Queen of Demons       9394   \n",
              "\n",
              "                            featureShortname  \n",
              "0                       /Category:1989_books  \n",
              "1                             /Richard_Rorty  \n",
              "2        /Category:Works_about_Marcel_Proust  \n",
              "3           /Category:Books_by_Richard_Rorty  \n",
              "4                /Category:Books_about_irony  \n",
              "...                                      ...  \n",
              "1438763                          /1998Novels  \n",
              "1438764                /Category:1998_novels  \n",
              "1438765                         /David_Drake  \n",
              "1438766                  /NovelsByDavidDrake  \n",
              "1438767      /Category:Novels_by_David_Drake  \n",
              "\n",
              "[102803 rows x 4 columns]"
            ]
          },
          "execution_count": 10,
          "metadata": {},
          "output_type": "execute_result"
        }
      ],
      "source": [
        "df_libros_concepto=df_dbbook.loc[:,['DBbook_ItemID','name','featureID','featureShortname']].drop_duplicates()\n",
        "df_libros_concepto"
      ]
    },
    {
      "cell_type": "markdown",
      "metadata": {
        "id": "yCw8uuvAXylr"
      },
      "source": [
        "Se quiere obtener una martiz que tenga como filas cada uno de los libros, y como columnas cada uno de los conceptos, y en cada coordenada un 1 si esta presente el concepto y 0 de lo contrario. A esta operación se le conoce como pivot de una tabla.\n",
        "\n",
        "La función [pivot](https://pandas.pydata.org/pandas-docs/stable/reference/api/pandas.DataFrame.pivot.html) toma tres parámetros: la columna del dataframe original que va a tomar el índice de las filas del nuevo dataframe (index), la columna del dataframe original mediante la cual se van a generar las columnas (columns) y values los valores con los cuales se va a llenar el dataframe, en este caso  vamos a dejar momentaneamente el id del feature para indicar que existe.\n",
        "\n",
        "Finalmente aplicamos la función [applymap](https://pandas.pydata.org/pandas-docs/stable/reference/api/pandas.DataFrame.applymap.html) para modificar uno a uno los elementos de la matriz\n",
        "\n"
      ]
    },
    {
      "cell_type": "code",
      "execution_count": 11,
      "metadata": {
        "id": "DzJdYG-KHnJ3"
      },
      "outputs": [
        {
          "data": {
            "text/html": [
              "<div>\n",
              "<style scoped>\n",
              "    .dataframe tbody tr th:only-of-type {\n",
              "        vertical-align: middle;\n",
              "    }\n",
              "\n",
              "    .dataframe tbody tr th {\n",
              "        vertical-align: top;\n",
              "    }\n",
              "\n",
              "    .dataframe thead th {\n",
              "        text-align: right;\n",
              "    }\n",
              "</style>\n",
              "<table border=\"1\" class=\"dataframe\">\n",
              "  <thead>\n",
              "    <tr style=\"text-align: right;\">\n",
              "      <th>featureID</th>\n",
              "      <th>1</th>\n",
              "      <th>2</th>\n",
              "      <th>3</th>\n",
              "      <th>4</th>\n",
              "      <th>5</th>\n",
              "      <th>6</th>\n",
              "      <th>7</th>\n",
              "      <th>8</th>\n",
              "      <th>9</th>\n",
              "      <th>10</th>\n",
              "      <th>...</th>\n",
              "      <th>13992</th>\n",
              "      <th>13993</th>\n",
              "      <th>13994</th>\n",
              "      <th>13995</th>\n",
              "      <th>13996</th>\n",
              "      <th>13997</th>\n",
              "      <th>13998</th>\n",
              "      <th>13999</th>\n",
              "      <th>14000</th>\n",
              "      <th>14001</th>\n",
              "    </tr>\n",
              "    <tr>\n",
              "      <th>DBbook_ItemID</th>\n",
              "      <th></th>\n",
              "      <th></th>\n",
              "      <th></th>\n",
              "      <th></th>\n",
              "      <th></th>\n",
              "      <th></th>\n",
              "      <th></th>\n",
              "      <th></th>\n",
              "      <th></th>\n",
              "      <th></th>\n",
              "      <th></th>\n",
              "      <th></th>\n",
              "      <th></th>\n",
              "      <th></th>\n",
              "      <th></th>\n",
              "      <th></th>\n",
              "      <th></th>\n",
              "      <th></th>\n",
              "      <th></th>\n",
              "      <th></th>\n",
              "      <th></th>\n",
              "    </tr>\n",
              "  </thead>\n",
              "  <tbody>\n",
              "    <tr>\n",
              "      <th>1</th>\n",
              "      <td>1</td>\n",
              "      <td>1</td>\n",
              "      <td>1</td>\n",
              "      <td>1</td>\n",
              "      <td>1</td>\n",
              "      <td>1</td>\n",
              "      <td>1</td>\n",
              "      <td>1</td>\n",
              "      <td>1</td>\n",
              "      <td>1</td>\n",
              "      <td>...</td>\n",
              "      <td>0</td>\n",
              "      <td>0</td>\n",
              "      <td>0</td>\n",
              "      <td>0</td>\n",
              "      <td>0</td>\n",
              "      <td>0</td>\n",
              "      <td>0</td>\n",
              "      <td>0</td>\n",
              "      <td>0</td>\n",
              "      <td>0</td>\n",
              "    </tr>\n",
              "    <tr>\n",
              "      <th>2</th>\n",
              "      <td>1</td>\n",
              "      <td>1</td>\n",
              "      <td>1</td>\n",
              "      <td>1</td>\n",
              "      <td>1</td>\n",
              "      <td>1</td>\n",
              "      <td>1</td>\n",
              "      <td>0</td>\n",
              "      <td>1</td>\n",
              "      <td>1</td>\n",
              "      <td>...</td>\n",
              "      <td>0</td>\n",
              "      <td>0</td>\n",
              "      <td>0</td>\n",
              "      <td>0</td>\n",
              "      <td>0</td>\n",
              "      <td>0</td>\n",
              "      <td>0</td>\n",
              "      <td>0</td>\n",
              "      <td>0</td>\n",
              "      <td>0</td>\n",
              "    </tr>\n",
              "    <tr>\n",
              "      <th>3</th>\n",
              "      <td>0</td>\n",
              "      <td>0</td>\n",
              "      <td>1</td>\n",
              "      <td>1</td>\n",
              "      <td>1</td>\n",
              "      <td>1</td>\n",
              "      <td>1</td>\n",
              "      <td>1</td>\n",
              "      <td>0</td>\n",
              "      <td>0</td>\n",
              "      <td>...</td>\n",
              "      <td>0</td>\n",
              "      <td>0</td>\n",
              "      <td>0</td>\n",
              "      <td>0</td>\n",
              "      <td>0</td>\n",
              "      <td>0</td>\n",
              "      <td>0</td>\n",
              "      <td>0</td>\n",
              "      <td>0</td>\n",
              "      <td>0</td>\n",
              "    </tr>\n",
              "    <tr>\n",
              "      <th>5</th>\n",
              "      <td>0</td>\n",
              "      <td>0</td>\n",
              "      <td>1</td>\n",
              "      <td>1</td>\n",
              "      <td>1</td>\n",
              "      <td>1</td>\n",
              "      <td>1</td>\n",
              "      <td>0</td>\n",
              "      <td>0</td>\n",
              "      <td>0</td>\n",
              "      <td>...</td>\n",
              "      <td>0</td>\n",
              "      <td>0</td>\n",
              "      <td>0</td>\n",
              "      <td>0</td>\n",
              "      <td>0</td>\n",
              "      <td>0</td>\n",
              "      <td>0</td>\n",
              "      <td>0</td>\n",
              "      <td>0</td>\n",
              "      <td>0</td>\n",
              "    </tr>\n",
              "    <tr>\n",
              "      <th>7</th>\n",
              "      <td>0</td>\n",
              "      <td>0</td>\n",
              "      <td>1</td>\n",
              "      <td>1</td>\n",
              "      <td>1</td>\n",
              "      <td>1</td>\n",
              "      <td>1</td>\n",
              "      <td>0</td>\n",
              "      <td>0</td>\n",
              "      <td>0</td>\n",
              "      <td>...</td>\n",
              "      <td>0</td>\n",
              "      <td>0</td>\n",
              "      <td>0</td>\n",
              "      <td>0</td>\n",
              "      <td>0</td>\n",
              "      <td>0</td>\n",
              "      <td>0</td>\n",
              "      <td>0</td>\n",
              "      <td>0</td>\n",
              "      <td>0</td>\n",
              "    </tr>\n",
              "    <tr>\n",
              "      <th>...</th>\n",
              "      <td>...</td>\n",
              "      <td>...</td>\n",
              "      <td>...</td>\n",
              "      <td>...</td>\n",
              "      <td>...</td>\n",
              "      <td>...</td>\n",
              "      <td>...</td>\n",
              "      <td>...</td>\n",
              "      <td>...</td>\n",
              "      <td>...</td>\n",
              "      <td>...</td>\n",
              "      <td>...</td>\n",
              "      <td>...</td>\n",
              "      <td>...</td>\n",
              "      <td>...</td>\n",
              "      <td>...</td>\n",
              "      <td>...</td>\n",
              "      <td>...</td>\n",
              "      <td>...</td>\n",
              "      <td>...</td>\n",
              "      <td>...</td>\n",
              "    </tr>\n",
              "    <tr>\n",
              "      <th>8164</th>\n",
              "      <td>0</td>\n",
              "      <td>0</td>\n",
              "      <td>1</td>\n",
              "      <td>1</td>\n",
              "      <td>1</td>\n",
              "      <td>1</td>\n",
              "      <td>1</td>\n",
              "      <td>0</td>\n",
              "      <td>0</td>\n",
              "      <td>0</td>\n",
              "      <td>...</td>\n",
              "      <td>0</td>\n",
              "      <td>0</td>\n",
              "      <td>0</td>\n",
              "      <td>0</td>\n",
              "      <td>0</td>\n",
              "      <td>0</td>\n",
              "      <td>0</td>\n",
              "      <td>0</td>\n",
              "      <td>0</td>\n",
              "      <td>0</td>\n",
              "    </tr>\n",
              "    <tr>\n",
              "      <th>8166</th>\n",
              "      <td>0</td>\n",
              "      <td>0</td>\n",
              "      <td>0</td>\n",
              "      <td>0</td>\n",
              "      <td>0</td>\n",
              "      <td>0</td>\n",
              "      <td>0</td>\n",
              "      <td>0</td>\n",
              "      <td>0</td>\n",
              "      <td>0</td>\n",
              "      <td>...</td>\n",
              "      <td>0</td>\n",
              "      <td>0</td>\n",
              "      <td>0</td>\n",
              "      <td>0</td>\n",
              "      <td>0</td>\n",
              "      <td>0</td>\n",
              "      <td>0</td>\n",
              "      <td>0</td>\n",
              "      <td>0</td>\n",
              "      <td>0</td>\n",
              "    </tr>\n",
              "    <tr>\n",
              "      <th>8167</th>\n",
              "      <td>0</td>\n",
              "      <td>0</td>\n",
              "      <td>0</td>\n",
              "      <td>0</td>\n",
              "      <td>0</td>\n",
              "      <td>0</td>\n",
              "      <td>0</td>\n",
              "      <td>0</td>\n",
              "      <td>0</td>\n",
              "      <td>0</td>\n",
              "      <td>...</td>\n",
              "      <td>0</td>\n",
              "      <td>0</td>\n",
              "      <td>0</td>\n",
              "      <td>0</td>\n",
              "      <td>0</td>\n",
              "      <td>0</td>\n",
              "      <td>0</td>\n",
              "      <td>0</td>\n",
              "      <td>0</td>\n",
              "      <td>0</td>\n",
              "    </tr>\n",
              "    <tr>\n",
              "      <th>8168</th>\n",
              "      <td>0</td>\n",
              "      <td>0</td>\n",
              "      <td>1</td>\n",
              "      <td>1</td>\n",
              "      <td>1</td>\n",
              "      <td>1</td>\n",
              "      <td>1</td>\n",
              "      <td>0</td>\n",
              "      <td>0</td>\n",
              "      <td>0</td>\n",
              "      <td>...</td>\n",
              "      <td>0</td>\n",
              "      <td>0</td>\n",
              "      <td>0</td>\n",
              "      <td>0</td>\n",
              "      <td>0</td>\n",
              "      <td>0</td>\n",
              "      <td>0</td>\n",
              "      <td>0</td>\n",
              "      <td>0</td>\n",
              "      <td>0</td>\n",
              "    </tr>\n",
              "    <tr>\n",
              "      <th>8169</th>\n",
              "      <td>0</td>\n",
              "      <td>0</td>\n",
              "      <td>1</td>\n",
              "      <td>1</td>\n",
              "      <td>1</td>\n",
              "      <td>1</td>\n",
              "      <td>1</td>\n",
              "      <td>0</td>\n",
              "      <td>0</td>\n",
              "      <td>0</td>\n",
              "      <td>...</td>\n",
              "      <td>0</td>\n",
              "      <td>0</td>\n",
              "      <td>0</td>\n",
              "      <td>1</td>\n",
              "      <td>1</td>\n",
              "      <td>0</td>\n",
              "      <td>0</td>\n",
              "      <td>0</td>\n",
              "      <td>0</td>\n",
              "      <td>0</td>\n",
              "    </tr>\n",
              "  </tbody>\n",
              "</table>\n",
              "<p>6164 rows × 12246 columns</p>\n",
              "</div>"
            ],
            "text/plain": [
              "featureID      1      2      3      4      5      6      7      8      9      \\\n",
              "DBbook_ItemID                                                                  \n",
              "1                  1      1      1      1      1      1      1      1      1   \n",
              "2                  1      1      1      1      1      1      1      0      1   \n",
              "3                  0      0      1      1      1      1      1      1      0   \n",
              "5                  0      0      1      1      1      1      1      0      0   \n",
              "7                  0      0      1      1      1      1      1      0      0   \n",
              "...              ...    ...    ...    ...    ...    ...    ...    ...    ...   \n",
              "8164               0      0      1      1      1      1      1      0      0   \n",
              "8166               0      0      0      0      0      0      0      0      0   \n",
              "8167               0      0      0      0      0      0      0      0      0   \n",
              "8168               0      0      1      1      1      1      1      0      0   \n",
              "8169               0      0      1      1      1      1      1      0      0   \n",
              "\n",
              "featureID      10     ...  13992  13993  13994  13995  13996  13997  13998  \\\n",
              "DBbook_ItemID         ...                                                    \n",
              "1                  1  ...      0      0      0      0      0      0      0   \n",
              "2                  1  ...      0      0      0      0      0      0      0   \n",
              "3                  0  ...      0      0      0      0      0      0      0   \n",
              "5                  0  ...      0      0      0      0      0      0      0   \n",
              "7                  0  ...      0      0      0      0      0      0      0   \n",
              "...              ...  ...    ...    ...    ...    ...    ...    ...    ...   \n",
              "8164               0  ...      0      0      0      0      0      0      0   \n",
              "8166               0  ...      0      0      0      0      0      0      0   \n",
              "8167               0  ...      0      0      0      0      0      0      0   \n",
              "8168               0  ...      0      0      0      0      0      0      0   \n",
              "8169               0  ...      0      0      0      1      1      0      0   \n",
              "\n",
              "featureID      13999  14000  14001  \n",
              "DBbook_ItemID                       \n",
              "1                  0      0      0  \n",
              "2                  0      0      0  \n",
              "3                  0      0      0  \n",
              "5                  0      0      0  \n",
              "7                  0      0      0  \n",
              "...              ...    ...    ...  \n",
              "8164               0      0      0  \n",
              "8166               0      0      0  \n",
              "8167               0      0      0  \n",
              "8168               0      0      0  \n",
              "8169               0      0      0  \n",
              "\n",
              "[6164 rows x 12246 columns]"
            ]
          },
          "execution_count": 11,
          "metadata": {},
          "output_type": "execute_result"
        }
      ],
      "source": [
        "df_matriz_libros_concepto=df_libros_concepto[['DBbook_ItemID','featureID']].drop_duplicates().pivot(index='DBbook_ItemID', columns='featureID', values='featureID')\n",
        "#La función astype int8 nos permite reducir el uso de memoria al dejar matrices de enteros\n",
        "df_matriz_libros_concepto=df_matriz_libros_concepto.applymap(np.sign).fillna(0).astype('int8')\n",
        "df_matriz_libros_concepto"
      ]
    },
    {
      "cell_type": "code",
      "execution_count": 12,
      "metadata": {
        "id": "TkPuSt24UTCF"
      },
      "outputs": [
        {
          "data": {
            "text/plain": [
              "(6164, 12246)"
            ]
          },
          "execution_count": 12,
          "metadata": {},
          "output_type": "execute_result"
        }
      ],
      "source": [
        "df_matriz_libros_concepto.shape"
      ]
    },
    {
      "cell_type": "markdown",
      "metadata": {
        "id": "qbHHztT_OI8f"
      },
      "source": [
        "En la siguiente celda se está aplicando la función [sumatoria](https://www.geeksforgeeks.org/python-pandas-dataframe-sum/) por eje al dataframe anterior, por defecto el eje es 0, por lo que generará una Serie (vector) del tamaño de las columnas y por cada columna calculará la sumatoria"
      ]
    },
    {
      "cell_type": "code",
      "execution_count": 13,
      "metadata": {
        "id": "kzOcvNAR9h_J"
      },
      "outputs": [
        {
          "name": "stdout",
          "output_type": "stream",
          "text": [
            "Help on function sum in module pandas.core.generic:\n",
            "\n",
            "sum(self, axis=None, skipna=True, level=None, numeric_only=None, min_count=0, **kwargs)\n",
            "    Return the sum of the values over the requested axis.\n",
            "    \n",
            "    This is equivalent to the method ``numpy.sum``.\n",
            "    \n",
            "    Parameters\n",
            "    ----------\n",
            "    axis : {index (0), columns (1)}\n",
            "        Axis for the function to be applied on.\n",
            "        For `Series` this parameter is unused and defaults to 0.\n",
            "    skipna : bool, default True\n",
            "        Exclude NA/null values when computing the result.\n",
            "    level : int or level name, default None\n",
            "        If the axis is a MultiIndex (hierarchical), count along a\n",
            "        particular level, collapsing into a Series.\n",
            "    \n",
            "        .. deprecated:: 1.3.0\n",
            "            The level keyword is deprecated. Use groupby instead.\n",
            "    numeric_only : bool, default None\n",
            "        Include only float, int, boolean columns. If None, will attempt to use\n",
            "        everything, then use only numeric data. Not implemented for Series.\n",
            "    \n",
            "        .. deprecated:: 1.5.0\n",
            "            Specifying ``numeric_only=None`` is deprecated. The default value will be\n",
            "            ``False`` in a future version of pandas.\n",
            "    \n",
            "    min_count : int, default 0\n",
            "        The required number of valid values to perform the operation. If fewer than\n",
            "        ``min_count`` non-NA values are present the result will be NA.\n",
            "    **kwargs\n",
            "        Additional keyword arguments to be passed to the function.\n",
            "    \n",
            "    Returns\n",
            "    -------\n",
            "    Series or DataFrame (if level specified)\n",
            "    \n",
            "    See Also\n",
            "    --------\n",
            "    Series.sum : Return the sum.\n",
            "    Series.min : Return the minimum.\n",
            "    Series.max : Return the maximum.\n",
            "    Series.idxmin : Return the index of the minimum.\n",
            "    Series.idxmax : Return the index of the maximum.\n",
            "    DataFrame.sum : Return the sum over the requested axis.\n",
            "    DataFrame.min : Return the minimum over the requested axis.\n",
            "    DataFrame.max : Return the maximum over the requested axis.\n",
            "    DataFrame.idxmin : Return the index of the minimum over the requested axis.\n",
            "    DataFrame.idxmax : Return the index of the maximum over the requested axis.\n",
            "    \n",
            "    Examples\n",
            "    --------\n",
            "    >>> idx = pd.MultiIndex.from_arrays([\n",
            "    ...     ['warm', 'warm', 'cold', 'cold'],\n",
            "    ...     ['dog', 'falcon', 'fish', 'spider']],\n",
            "    ...     names=['blooded', 'animal'])\n",
            "    >>> s = pd.Series([4, 2, 0, 8], name='legs', index=idx)\n",
            "    >>> s\n",
            "    blooded  animal\n",
            "    warm     dog       4\n",
            "             falcon    2\n",
            "    cold     fish      0\n",
            "             spider    8\n",
            "    Name: legs, dtype: int64\n",
            "    \n",
            "    >>> s.sum()\n",
            "    14\n",
            "    \n",
            "    By default, the sum of an empty or all-NA Series is ``0``.\n",
            "    \n",
            "    >>> pd.Series([], dtype=\"float64\").sum()  # min_count=0 is the default\n",
            "    0.0\n",
            "    \n",
            "    This can be controlled with the ``min_count`` parameter. For example, if\n",
            "    you'd like the sum of an empty series to be NaN, pass ``min_count=1``.\n",
            "    \n",
            "    >>> pd.Series([], dtype=\"float64\").sum(min_count=1)\n",
            "    nan\n",
            "    \n",
            "    Thanks to the ``skipna`` parameter, ``min_count`` handles all-NA and\n",
            "    empty series identically.\n",
            "    \n",
            "    >>> pd.Series([np.nan]).sum()\n",
            "    0.0\n",
            "    \n",
            "    >>> pd.Series([np.nan]).sum(min_count=1)\n",
            "    nan\n",
            "\n"
          ]
        }
      ],
      "source": [
        "help(pd.DataFrame.sum)"
      ]
    },
    {
      "cell_type": "code",
      "execution_count": 14,
      "metadata": {
        "id": "TuhKo_lLZd4U"
      },
      "outputs": [
        {
          "data": {
            "text/plain": [
              "featureID\n",
              "1           6\n",
              "2         225\n",
              "3        2766\n",
              "4        2672\n",
              "5        2674\n",
              "         ... \n",
              "13997       1\n",
              "13998       1\n",
              "13999       1\n",
              "14000       1\n",
              "14001       1\n",
              "Length: 12246, dtype: int64"
            ]
          },
          "execution_count": 14,
          "metadata": {},
          "output_type": "execute_result"
        }
      ],
      "source": [
        "series_suma=df_matriz_libros_concepto.sum()\n",
        "series_suma"
      ]
    },
    {
      "cell_type": "markdown",
      "metadata": {
        "id": "ceDsHNaXTlYk"
      },
      "source": [
        "El objeto series_suma no es un dataframe sino un objeto tipo Series, que es un arreglo. Un dataframe puede ser visto como una concatenación de varios objetos de tipo Series"
      ]
    },
    {
      "cell_type": "code",
      "execution_count": 15,
      "metadata": {
        "id": "BqIJoQulTdhW"
      },
      "outputs": [
        {
          "data": {
            "text/plain": [
              "pandas.core.series.Series"
            ]
          },
          "execution_count": 15,
          "metadata": {},
          "output_type": "execute_result"
        }
      ],
      "source": [
        "type(series_suma)"
      ]
    },
    {
      "cell_type": "markdown",
      "metadata": {
        "id": "mDO_1AqmfAXq"
      },
      "source": [
        "**Interprete las siguientes figuras y diga qué quieren decir en términos del número de items y de características asignadas a los items**"
      ]
    },
    {
      "cell_type": "code",
      "execution_count": 25,
      "metadata": {
        "id": "k0e3niVqdRU7"
      },
      "outputs": [
        {
          "data": {
            "text/plain": [
              "<AxesSubplot: >"
            ]
          },
          "execution_count": 25,
          "metadata": {},
          "output_type": "execute_result"
        },
        {
          "data": {
            "image/png": "[encoded data removed]",
            "text/plain": [
              "<Figure size 640x480 with 1 Axes>"
            ]
          },
          "metadata": {},
          "output_type": "display_data"
        }
      ],
      "source": [
        "sns.set_palette('bright')\n",
        "sns.scatterplot(x = [i for i in range(0,len(series_suma))], y = series_suma.sort_values())"
      ]
    },
    {
      "cell_type": "code",
      "execution_count": 26,
      "metadata": {
        "id": "RH9SPa1RcCg6"
      },
      "outputs": [
        {
          "data": {
            "text/plain": [
              "DBbook_ItemID\n",
              "1       23\n",
              "2       20\n",
              "3       36\n",
              "5       23\n",
              "7       22\n",
              "        ..\n",
              "8164    23\n",
              "8166    13\n",
              "8167    17\n",
              "8168    22\n",
              "8169    25\n",
              "Length: 6164, dtype: int64"
            ]
          },
          "execution_count": 26,
          "metadata": {},
          "output_type": "execute_result"
        }
      ],
      "source": [
        "series_suma_2=df_matriz_libros_concepto.sum(axis=1)\n",
        "series_suma_2"
      ]
    },
    {
      "cell_type": "code",
      "execution_count": 29,
      "metadata": {
        "id": "AaVYz0MGd3hS"
      },
      "outputs": [
        {
          "data": {
            "text/plain": [
              "<AxesSubplot: >"
            ]
          },
          "execution_count": 29,
          "metadata": {},
          "output_type": "execute_result"
        },
        {
          "data": {
            "image/png": "[encoded data removed]",
            "text/plain": [
              "<Figure size 640x480 with 1 Axes>"
            ]
          },
          "metadata": {},
          "output_type": "display_data"
        }
      ],
      "source": [
        "sns.scatterplot(x = [i for i in range(0,len(series_suma_2))], y = series_suma_2.sort_values())"
      ]
    },
    {
      "cell_type": "markdown",
      "metadata": {
        "id": "ZECBhVmYikdo"
      },
      "source": [
        "# Cálculo de matriz tf-idf\n",
        "\n",
        "La matriz df_matriz_libros_concepto hasta el momento tiene en cada coordenada la presencia o ausencia de la característica que describe el atributo, este sería el término $\\text{tf}$ de la siguiente fórmula donde $i$ es un término o palabra y $d$ es un documento.\n",
        "\n",
        "$\\text{tfidf}_{i,d} = \\text{tf}_{i,d} \\cdot \\text{idf}_{i}$\n",
        "\n",
        "El Inverse Document Frequency esta definido como:\n",
        "\n",
        "$\\text{idf}_{i,d} = \\log \\frac{N}{\\text{df}_{i}}$\n",
        "\n",
        "Donde $\\text{df}_{t}$ es el número de documentos en los que aparece el término $i$ y N el número total de documentos \n",
        "\n"
      ]
    },
    {
      "cell_type": "markdown",
      "metadata": {
        "id": "scSusoGhP-Y-"
      },
      "source": [
        "En python es posible operar vectores con escalares directamente, gracias a que por debajo python genera operaciones entre arreglos cuando operamos con un escalar mediante la operación de [broadcasting](https://jakevdp.github.io/PythonDataScienceHandbook/02.05-computation-on-arrays-broadcasting.html) Por ejemplo, el anterior arreglo se puede dividir entre 6, por debajo python genera un arreglo del mismo tamaño y realiza la operación elemento a elemento"
      ]
    },
    {
      "cell_type": "code",
      "execution_count": 30,
      "metadata": {
        "id": "QPaJm6-HNfng"
      },
      "outputs": [
        {
          "data": {
            "text/plain": [
              "featureID\n",
              "1          1.000000\n",
              "2         37.500000\n",
              "3        461.000000\n",
              "4        445.333333\n",
              "5        445.666667\n",
              "            ...    \n",
              "13997      0.166667\n",
              "13998      0.166667\n",
              "13999      0.166667\n",
              "14000      0.166667\n",
              "14001      0.166667\n",
              "Length: 12246, dtype: float64"
            ]
          },
          "execution_count": 30,
          "metadata": {},
          "output_type": "execute_result"
        }
      ],
      "source": [
        "series_suma/6"
      ]
    },
    {
      "cell_type": "markdown",
      "metadata": {
        "id": "Vk8kecfgTTP7"
      },
      "source": [
        "En las siguientes celdas, cree un objeto tipo series llamado df_idf, que contiene el IDF de cada atributo. Puede utilizar la función [np.log2](https://docs.scipy.org/doc/numpy/reference/generated/numpy.log2.html) de numpy"
      ]
    },
    {
      "cell_type": "code",
      "execution_count": null,
      "metadata": {
        "id": "FtKa4d7XTOEx"
      },
      "outputs": [],
      "source": [
        "\n",
        "df_idf=???\n",
        "df_idf"
      ]
    },
    {
      "cell_type": "markdown",
      "metadata": {
        "id": "tBQhrEL-U381"
      },
      "source": [
        "Si df_idf fue calculado correctamente, la siguiente instrucción multiplicará cada fila del dataframe elemento por elemento (element-wise) por la serie que contiene el IDF"
      ]
    },
    {
      "cell_type": "code",
      "execution_count": null,
      "metadata": {
        "id": "mOq3GJd7UWs7"
      },
      "outputs": [],
      "source": [
        "df_matriz_tf_idf=df_matriz_libros_concepto.multiply(df_idf, axis=1)\n",
        "df_matriz_tf_idf"
      ]
    },
    {
      "cell_type": "markdown",
      "metadata": {
        "id": "Zys6_IxogUAR"
      },
      "source": [
        "En el siguiente mapa de calor se observa el tf_idf de los items representados en las 300 características con mayor frecuencia."
      ]
    },
    {
      "cell_type": "code",
      "execution_count": null,
      "metadata": {
        "id": "gEVlmVrqh-PJ"
      },
      "outputs": [],
      "source": [
        "df_matriz_tf_idf.loc[:,series_suma.nlargest(300).index]"
      ]
    },
    {
      "cell_type": "code",
      "execution_count": null,
      "metadata": {
        "id": "YURPa2NuUsar"
      },
      "outputs": [],
      "source": [
        "plt.rcParams[\"figure.figsize\"] = (15,15)\n",
        "sns.heatmap(df_matriz_tf_idf.loc[:,series_suma.nlargest(300).index],cmap=\"Blues\", vmin=0)"
      ]
    },
    {
      "cell_type": "markdown",
      "metadata": {
        "id": "sQnyh7YmlhQA"
      },
      "source": [
        "**¿Qué puede interpretar sobre la figura anterior? \n",
        "Encuentre los nombres de las características más frecuentes**"
      ]
    },
    {
      "cell_type": "code",
      "execution_count": null,
      "metadata": {
        "id": "HESUWI7Wn3Dw"
      },
      "outputs": [],
      "source": []
    },
    {
      "cell_type": "code",
      "execution_count": null,
      "metadata": {
        "id": "bIx0A7I4n3Q-"
      },
      "outputs": [],
      "source": []
    },
    {
      "cell_type": "markdown",
      "metadata": {
        "id": "ljppu_vUm_S2"
      },
      "source": [
        "# Selección de características\n",
        "\n",
        "Una vez realizado el proceso de indexamiento, se puede realizar el proceso de selección de características. \n",
        "\n",
        "En este momento contamos con más de 12 mil conceptos. ¿Con cuántos vale la pena crear los modelos de filtrado?\n",
        "\n",
        "El paso más simple es filtrar las características con baja frecuencia dentro del dataset"
      ]
    },
    {
      "cell_type": "code",
      "execution_count": null,
      "metadata": {
        "id": "v5aqEuxwYKRZ"
      },
      "outputs": [],
      "source": [
        "series_suma.describe()"
      ]
    },
    {
      "cell_type": "markdown",
      "metadata": {
        "id": "dzO-nEUjp8EX"
      },
      "source": [
        "**¿Qué puede decir sobre la distribución de frecuencia de las características en los items? ¿Vale la pena tener todas las características que tenemos actualmente?**\n",
        "\n",
        ".\n",
        "**Retire de la matriz df_matrix_tf_idf las columnas que representan a los items que tienen menos de 3 items asociados**"
      ]
    },
    {
      "cell_type": "code",
      "execution_count": null,
      "metadata": {
        "id": "_HrDjFGNp6tf"
      },
      "outputs": [],
      "source": [
        "# Se filtra la serie por aquellos que tienen al menos 3 \n",
        "series_suma[series_suma>=3]"
      ]
    },
    {
      "cell_type": "code",
      "execution_count": null,
      "metadata": {
        "id": "N_96kKMLowAz"
      },
      "outputs": [],
      "source": [
        "\n",
        "df_matriz_tf_idf=???"
      ]
    },
    {
      "cell_type": "code",
      "execution_count": null,
      "metadata": {
        "id": "c9oTh99Ksd2E"
      },
      "outputs": [],
      "source": [
        "df_matriz_tf_idf"
      ]
    },
    {
      "cell_type": "markdown",
      "metadata": {
        "id": "PLrz5tmBsn3G"
      },
      "source": [
        "### Para las siguientes estrategias de selección de características, tenemos que aplicar técnicas supervisadas (que conocen la clase a predecir o lo que se quiere pronosticar), para esto tenemos que retomar nuestro dataset original de interacciones entre usuarios e items para asignar la etiqueta (le gustó/ no le gustó)"
      ]
    },
    {
      "cell_type": "code",
      "execution_count": null,
      "metadata": {
        "id": "L7LPIbBrskLy"
      },
      "outputs": [],
      "source": [
        "# Recordemos como es el dataset original.\n",
        "df_dbbook.head(20)"
      ]
    },
    {
      "cell_type": "markdown",
      "metadata": {
        "id": "tYJ9ei1auLxc"
      },
      "source": [
        "Creemos un dataframe para crear un dataset de un sistema de recomendación como el visto en el laboratorio pasado (una única interacción de tipo usuario, item y rating)"
      ]
    },
    {
      "cell_type": "code",
      "execution_count": null,
      "metadata": {
        "id": "4ANyHv11thhi"
      },
      "outputs": [],
      "source": [
        "df_all_interactions=df_dbbook[['DBbook_userID','DBbook_ItemID','rate']].drop_duplicates()\n",
        "df_all_interactions"
      ]
    },
    {
      "cell_type": "markdown",
      "metadata": {
        "id": "xsyZc8bXvMLN"
      },
      "source": [
        "Para asignar una clase, se binarizan los ratings. Una regla simple es calcular el rating promedio por persona. Todo lo que esté por debajo del promedio se clasifica como no le gusta, igual o por encima es si le gusta."
      ]
    },
    {
      "cell_type": "code",
      "execution_count": null,
      "metadata": {
        "id": "AYFPgnafuvOR"
      },
      "outputs": [],
      "source": [
        "df_user_mean=df_all_interactions.groupby('DBbook_userID')['rate'].mean().reset_index()\n",
        "df_user_mean.columns=['DBbook_userID','mean']\n",
        "df_user_mean"
      ]
    },
    {
      "cell_type": "markdown",
      "metadata": {
        "id": "cUjFc_W2xWKE"
      },
      "source": [
        "**Realice un merge entre df_all_interactions y df_user_mean, asignando su resultado a df_all_interactions.\n",
        "Cree una nueva columna en el dataframe df_all_interactions llamada 'class' con True si el rating del usuario es mayor o igual a su promedio**\n",
        "\n",
        "[Documentación pandas merge](https://pandas.pydata.org/pandas-docs/stable/reference/api/pandas.DataFrame.merge.html)\n",
        "\n",
        "[Tutorial creación de columnas a partir del valor de otras](https://thispointer.com/python-pandas-how-to-add-new-columns-in-a-dataframe-using-or-dataframe-assign/)"
      ]
    },
    {
      "cell_type": "code",
      "execution_count": null,
      "metadata": {
        "id": "cFalHJy4wiZA"
      },
      "outputs": [],
      "source": [
        "\n",
        "df_all_interactions=???"
      ]
    },
    {
      "cell_type": "code",
      "execution_count": null,
      "metadata": {
        "id": "HpR5vLBsxTyS"
      },
      "outputs": [],
      "source": [
        "\n",
        "df_all_interactions['class']=???"
      ]
    },
    {
      "cell_type": "code",
      "execution_count": null,
      "metadata": {
        "id": "2jrhOGwJyJtw"
      },
      "outputs": [],
      "source": [
        "df_all_interactions"
      ]
    },
    {
      "cell_type": "markdown",
      "metadata": {
        "id": "g0TaHQ5UzBAM"
      },
      "source": [
        "Por último, se procede a partir el dataset en entrenamiento y test. Se utiliza de la librería sklearn la función [train_test_split](https://scikit-learn.org/stable/modules/generated/sklearn.model_selection.train_test_split.html).\n",
        "\n",
        "Esta recibe como parámetro el dataset a partir, el porcentaje para test y un parámetro que indica la variable por la cual estratificar la partición, en este caso quisieramos que las interacciones en test sean de usuarios que vimos en train, por lo tanto se deja estratificado por usuario."
      ]
    },
    {
      "cell_type": "code",
      "execution_count": null,
      "metadata": {
        "id": "_qjRBWLK9ag3"
      },
      "outputs": [],
      "source": [
        "help(train_test_split)"
      ]
    },
    {
      "cell_type": "code",
      "execution_count": null,
      "metadata": {
        "id": "A_rJHAXnyQOQ"
      },
      "outputs": [],
      "source": [
        "#Para garantizar reproducibilidad en resultados\n",
        "seed = 10\n",
        "random.seed(seed)\n",
        "np.random.seed(seed)\n",
        "df_all_interactions_train, df_all_interactions_test =train_test_split(df_all_interactions, test_size=0.2, stratify=df_all_interactions['DBbook_userID'])"
      ]
    },
    {
      "cell_type": "code",
      "execution_count": null,
      "metadata": {
        "id": "Wm7RE_HE029u"
      },
      "outputs": [],
      "source": [
        "df_all_interactions_train"
      ]
    },
    {
      "cell_type": "code",
      "execution_count": null,
      "metadata": {
        "id": "Gol-lLxk04KP"
      },
      "outputs": [],
      "source": [
        "df_all_interactions_test"
      ]
    },
    {
      "cell_type": "code",
      "execution_count": null,
      "metadata": {
        "id": "IHo1of0bOsac"
      },
      "outputs": [],
      "source": [
        "df_all_interactions_train.DBbook_userID.value_counts()"
      ]
    },
    {
      "cell_type": "code",
      "execution_count": null,
      "metadata": {
        "id": "OkwMwoKlOgkF"
      },
      "outputs": [],
      "source": [
        "df_all_interactions_test.DBbook_userID.value_counts()"
      ]
    },
    {
      "cell_type": "code",
      "execution_count": null,
      "metadata": {
        "id": "5h4TZuz5PFkU"
      },
      "outputs": [],
      "source": [
        "df_conteos_usuario_train_test=pd.concat([df_all_interactions_train.DBbook_userID.value_counts(),df_all_interactions_test.DBbook_userID.value_counts()],axis=1)\n",
        "df_conteos_usuario_train_test.columns=['train_count','test_count']"
      ]
    },
    {
      "cell_type": "code",
      "execution_count": null,
      "metadata": {
        "id": "W8xqph4MP99v"
      },
      "outputs": [],
      "source": [
        "df_conteos_usuario_train_test"
      ]
    },
    {
      "cell_type": "code",
      "execution_count": null,
      "metadata": {
        "id": "xjlqB-nYQDtH"
      },
      "outputs": [],
      "source": [
        "df_conteos_usuario_train_test.nlargest(500,'test_count')"
      ]
    },
    {
      "cell_type": "markdown",
      "metadata": {
        "id": "lrz-WIwc6VKM"
      },
      "source": [
        "**Chi-cuadrado**\n",
        "\n",
        "La selección de características mediante la prueba [chi-cuadrado](https://en.wikipedia.org/wiki/Chi-squared_test) nos dice si la diferencia observada entre las frecuencias de co-ocurrencia de dos variables es significativa. La idea es seleccionar características que más ayuden a discriminar la clase objetivo observando la frecuencia en la que ocurren juntas. \n",
        "\n",
        "La librería sklearn permite identificar la importancia de cada una de las variables utilizando el método [chi2](https://scikit-learn.org/stable/modules/generated/sklearn.feature_selection.chi2.html)"
      ]
    },
    {
      "cell_type": "code",
      "execution_count": null,
      "metadata": {
        "id": "Z2VftVGI06T-"
      },
      "outputs": [],
      "source": [
        "help(chi2)"
      ]
    },
    {
      "cell_type": "markdown",
      "metadata": {
        "id": "GqPWbi5c-GH2"
      },
      "source": [
        "En filtrado por contenido, se arma un modelo por usuario. Por ahora vamos a escoger las características más importantes para el primer usuario del dataset de test"
      ]
    },
    {
      "cell_type": "code",
      "execution_count": null,
      "metadata": {
        "id": "_0cAoMuU9XJ7"
      },
      "outputs": [],
      "source": [
        "#Debería dar 2817\n",
        "primer_usuario_id=df_all_interactions_test.iloc[0]['DBbook_userID']\n",
        "primer_usuario_id"
      ]
    },
    {
      "cell_type": "markdown",
      "metadata": {
        "id": "YhSkCDyc-f_A"
      },
      "source": [
        "Obtengamos los ids de los items con los que ha interactuado y su opinion"
      ]
    },
    {
      "cell_type": "code",
      "execution_count": null,
      "metadata": {
        "id": "7sHn5myK9ttr"
      },
      "outputs": [],
      "source": [
        "df_temporal_usuario=df_all_interactions_train.loc[df_all_interactions_train.DBbook_userID==1124,['DBbook_ItemID','class']]\n",
        "df_temporal_usuario"
      ]
    },
    {
      "cell_type": "markdown",
      "metadata": {
        "id": "x3olsl9JAiqf"
      },
      "source": [
        "Peguemos a este dataframe la representación vectorial de tf_idf por el id del item, en la matriz es el índice de las filas"
      ]
    },
    {
      "cell_type": "code",
      "execution_count": null,
      "metadata": {
        "id": "n-baZRsWAdSa"
      },
      "outputs": [],
      "source": [
        "df_temporal_usuario=df_temporal_usuario.merge(df_matriz_tf_idf, how='left', left_on='DBbook_ItemID', right_index=True)\n",
        "df_temporal_usuario"
      ]
    },
    {
      "cell_type": "markdown",
      "metadata": {
        "id": "OeUVr32EBVHf"
      },
      "source": [
        "Este dataframe representa los datos de entrenamiento del modelo para predicción de una clase binaria (class True es le gusta, class False es no le gusta)"
      ]
    },
    {
      "cell_type": "code",
      "execution_count": null,
      "metadata": {
        "id": "Cg9LICZ8EY_Y"
      },
      "outputs": [],
      "source": [
        "#vamos a indexar solamente las columnas que son características, la prueba chi2 lo compara todas las características contra la clase objetivo\n",
        "features=df_matriz_tf_idf.columns"
      ]
    },
    {
      "cell_type": "code",
      "execution_count": null,
      "metadata": {
        "id": "wLtYVC6bBKAq"
      },
      "outputs": [],
      "source": [
        "pesos_chi2, pval= chi2(df_temporal_usuario[features],df_temporal_usuario['class'])"
      ]
    },
    {
      "cell_type": "code",
      "execution_count": null,
      "metadata": {
        "id": "A-yWyvKqCq4J"
      },
      "outputs": [],
      "source": [
        "#La prueba puede arrojar nan\n",
        "pesos_chi2"
      ]
    },
    {
      "cell_type": "code",
      "execution_count": null,
      "metadata": {
        "id": "TTetd36rCtNZ"
      },
      "outputs": [],
      "source": [
        "pval"
      ]
    },
    {
      "cell_type": "code",
      "execution_count": null,
      "metadata": {
        "id": "lcG-LgPJEjBZ"
      },
      "outputs": [],
      "source": [
        "# LLenamos con peso 0 los que no se pudieron calcular\n",
        "pesos_chi2=np.nan_to_num(pesos_chi2)\n",
        "pesos_chi2"
      ]
    },
    {
      "cell_type": "markdown",
      "metadata": {
        "id": "KtzHpO7GGl7A"
      },
      "source": [
        "Se crea una máscara de indexación con los valores que son positivos según la prueba"
      ]
    },
    {
      "cell_type": "code",
      "execution_count": null,
      "metadata": {
        "id": "WJaQ-BTcFgzI"
      },
      "outputs": [],
      "source": [
        "pesos_chi2_mask=pesos_chi2>0"
      ]
    },
    {
      "cell_type": "code",
      "execution_count": null,
      "metadata": {
        "id": "NV5CGeWjGdMY"
      },
      "outputs": [],
      "source": [
        "pesos_chi2_mask"
      ]
    },
    {
      "cell_type": "code",
      "execution_count": null,
      "metadata": {
        "id": "BN2UPiY8GekY"
      },
      "outputs": [],
      "source": [
        "features[pesos_chi2_mask]"
      ]
    },
    {
      "cell_type": "markdown",
      "metadata": {
        "id": "3jRpP0WyIwPk"
      },
      "source": [
        "El siguiente sería el resultado, se recortaron las columnas de pesos del usuario, dejando 119 features."
      ]
    },
    {
      "cell_type": "code",
      "execution_count": null,
      "metadata": {
        "id": "eqQWy2JjGxUY"
      },
      "outputs": [],
      "source": [
        "df_temporal_usuario.loc[:,features[pesos_chi2_mask]]"
      ]
    },
    {
      "cell_type": "code",
      "execution_count": null,
      "metadata": {
        "id": "0A9R37kVIrzE"
      },
      "outputs": [],
      "source": [
        "del df_temporal_usuario"
      ]
    },
    {
      "cell_type": "markdown",
      "metadata": {
        "id": "XLUTb5TxI7kv"
      },
      "source": [
        "**Complete el código de la siguiente celda, el objetivo es crear un diccionario donde la llave es el id del usuario y el valor es un arreglo con los features seleccionados para el usuario**\n",
        "\n",
        "El proceso que implementamos no esta optimizado, por lo que vamos a armar el modelo solamente para los 500 usuarios con más ratings en el dataset de test.\n"
      ]
    },
    {
      "cell_type": "code",
      "execution_count": null,
      "metadata": {
        "id": "T8EUnhJDIjTt"
      },
      "outputs": [],
      "source": [
        "diccionario_usuarios_features={}\n",
        "# 500 usuarios con más ratings en test\n",
        "unique_users_test=df_conteos_usuario_train_test.nlargest(500,'test_count').index\n",
        "i=0\n",
        "print(unique_users_test.shape)\n",
        "for user in unique_users_test:\n",
        "  if not user in diccionario_usuarios_features:\n",
        "    df_temporal_usuario=df_all_interactions_train.loc[df_all_interactions_train.DBbook_userID==user,['DBbook_ItemID','class']]\n",
        "    \n",
        "    df_temporal_usuario=df_temporal_usuario.merge ????\n",
        "   \n",
        "    pesos_chi2, pval=????\n",
        "    pesos_chi2=np.nan_to_num(pesos_chi2)\n",
        "    pesos_chi2_mask=pesos_chi2>0\n",
        "    features_usuario=features[pesos_chi2_mask]\n",
        "    diccionario_usuarios_features[user]=features_usuario\n",
        "    i=i+1\n",
        "    if i%50==0:\n",
        "      print(i)  \n",
        "    del df_temporal_usuario\n",
        "\n",
        "\n",
        "\n",
        "\n"
      ]
    },
    {
      "cell_type": "code",
      "execution_count": null,
      "metadata": {
        "id": "n3go4ywZJOSX"
      },
      "outputs": [],
      "source": [
        "len(diccionario_usuarios_features)"
      ]
    },
    {
      "cell_type": "code",
      "execution_count": null,
      "metadata": {
        "id": "y1OwnizDbVBG"
      },
      "outputs": [],
      "source": [
        "diccionario_usuarios_features.keys()"
      ]
    },
    {
      "cell_type": "markdown",
      "metadata": {
        "id": "hFT8FbvPT4bD"
      },
      "source": [
        "Otro criterio que puede ser usado es [Mutual Information](https://scikit-learn.org/stable/modules/generated/sklearn.feature_selection.mutual_info_classif.html#sklearn.feature_selection.mutual_info_classif) "
      ]
    },
    {
      "cell_type": "markdown",
      "metadata": {
        "id": "2kHhHH-_UIn3"
      },
      "source": [
        "# Modelo de recomendación y evaluación\n",
        "\n",
        "Una vez seleccionadas las características por usuario, se puede usar el dataset de entrenamiento para aprender un modelo de clasificación binaria y probarlo sobre test.\n",
        "\n",
        "Uno de los modelos que puede ser utilizado es el [clasificador por vecinos más cercanos](https://en.wikipedia.org/wiki/K-nearest_neighbors_algorithm).\n",
        "\n",
        "Cada usuario tiene unas instancias representadas en un espacio vectorial del tamaño de las características seleccionadas anteriormente. Para una nueva instancia (predicción) se mira cuáles son los k vecinos más cercanos a ese dato nuevo y se predice la clase mayoritaria dentro del grupo de los vecinos. Observe el siguiente ejemplo. "
      ]
    },
    {
      "cell_type": "code",
      "execution_count": null,
      "metadata": {
        "id": "hmb-n1W-W5Ch"
      },
      "outputs": [],
      "source": [
        "%%html\n",
        "<iframe src=\"https://es.wikipedia.org/wiki/K_vecinos_m%C3%A1s_pr%C3%B3ximos#/media/Archivo:KnnClassification.svg\" width=\"1200\" height=\"600\"></iframe>"
      ]
    },
    {
      "cell_type": "markdown",
      "metadata": {
        "id": "kKdEp0MiZ1WL"
      },
      "source": [
        "Tomemos como ejemplo el usuario 679, armemos su conjunto de entrenamiento. Note que se estan seleccionando solamente los features calculados en el punto anterior"
      ]
    },
    {
      "cell_type": "code",
      "execution_count": null,
      "metadata": {
        "id": "wLTrU3RBSQ-p"
      },
      "outputs": [],
      "source": [
        "features_usuario_679=diccionario_usuarios_features[679]\n",
        "df_temporal_usuario_train=df_all_interactions_train.loc[df_all_interactions_train.DBbook_userID==679,['DBbook_ItemID','class']]\n",
        "df_temporal_usuario_train=df_temporal_usuario_train.merge(df_matriz_tf_idf[features_usuario_679], how='left', left_on='DBbook_ItemID', right_index=True)\n",
        "df_temporal_usuario_train"
      ]
    },
    {
      "cell_type": "markdown",
      "metadata": {
        "id": "W77A4lUtbysX"
      },
      "source": [
        "Armamos de igual forma el conjunto de test"
      ]
    },
    {
      "cell_type": "code",
      "execution_count": null,
      "metadata": {
        "id": "HKOUVPhbbpAg"
      },
      "outputs": [],
      "source": [
        "df_temporal_usuario_test=df_all_interactions_test.loc[df_all_interactions_test.DBbook_userID==679,['DBbook_ItemID','class']]\n",
        "df_temporal_usuario_test=df_temporal_usuario_test.merge(df_matriz_tf_idf[features_usuario_679], how='left', left_on='DBbook_ItemID', right_index=True)\n",
        "df_temporal_usuario_test"
      ]
    },
    {
      "cell_type": "markdown",
      "metadata": {
        "id": "eRzxc7DZdWhS"
      },
      "source": [
        "Utilizaremos la clase [KNeighborsClassifier](https://scikit-learn.org/stable/modules/generated/sklearn.neighbors.KNeighborsClassifier.html) de scikit-learn para hacer la predicción de los datos del conjunto de test. El modelo tiene 3 métodos principales. El constructor permite inicializar el k a usar, la métrica entre otros; fit sirve para darle los datos de entrenamiento base al modelo; y predict para predecir los datos que se le pasan."
      ]
    },
    {
      "cell_type": "code",
      "execution_count": null,
      "metadata": {
        "id": "nLrsiGFqe4MQ"
      },
      "outputs": [],
      "source": [
        "#Con esta configuración se utilizan los 3 vecinos más cercanos, con distancia euclidiana\n",
        "knn_clasif=KNeighborsClassifier(3)"
      ]
    },
    {
      "cell_type": "code",
      "execution_count": null,
      "metadata": {
        "id": "Zk--tT6ScodK"
      },
      "outputs": [],
      "source": [
        "# Fit recibe la matriz de entrenamiento y la clase objetivo\n",
        "knn_clasif.fit(df_temporal_usuario_train[features_usuario_679], df_temporal_usuario_train['class'])"
      ]
    },
    {
      "cell_type": "code",
      "execution_count": null,
      "metadata": {
        "id": "MzXkT1mngNJ4"
      },
      "outputs": [],
      "source": [
        "# llamamos predict sobre  los test , creando una nueva columna en el dataframe de test\n",
        "df_temporal_usuario_test['predict']=knn_clasif.predict(df_temporal_usuario_test[features_usuario_679])"
      ]
    },
    {
      "cell_type": "code",
      "execution_count": null,
      "metadata": {
        "id": "qQxjEKRShJhV"
      },
      "outputs": [],
      "source": [
        "df_temporal_usuario_test[['DBbook_ItemID','class','predict']].merge(df_libros, how='left', on='DBbook_ItemID')"
      ]
    },
    {
      "cell_type": "markdown",
      "metadata": {
        "id": "s6uiIgPKjtuf"
      },
      "source": [
        "**En las siguientes celdas realice hipótesis sobre por qué falló la clasificación para estos items y por qué funcionó para los otros, revise los conceptos seleccionados para el usuario y los asociados a los items**"
      ]
    },
    {
      "cell_type": "code",
      "execution_count": null,
      "metadata": {
        "id": "wpTjHFrWj_RO"
      },
      "outputs": [],
      "source": []
    },
    {
      "cell_type": "code",
      "execution_count": null,
      "metadata": {
        "id": "xagX9J6kj_bi"
      },
      "outputs": [],
      "source": []
    },
    {
      "cell_type": "markdown",
      "metadata": {
        "id": "u6DXNlhwTq5Z"
      },
      "source": [
        "Finalmente, la librería sklearn tiene diferentes métricas de evaluación de clasificación. En particular podemos calcular la matriz de confusión de la clasificación utilizando la función [confusion_matrix](https://scikit-learn.org/stable/modules/generated/sklearn.metrics.confusion_matrix.html), y el cálculo de las métricas precision, recall, y f1 con la función [precision_recall_fscore_support](https://scikit-learn.org/stable/modules/generated/sklearn.metrics.precision_recall_fscore_support.html)"
      ]
    },
    {
      "cell_type": "code",
      "execution_count": null,
      "metadata": {
        "id": "gQLtbeNMlFME"
      },
      "outputs": [],
      "source": [
        "tn, fp, fn, tp = confusion_matrix(df_temporal_usuario_test['class'],df_temporal_usuario_test['predict'], labels=[False,True]).ravel()\n",
        "\n",
        "(tn, fp, fn, tp)"
      ]
    },
    {
      "cell_type": "code",
      "execution_count": null,
      "metadata": {
        "id": "ql_O4aBalNay"
      },
      "outputs": [],
      "source": [
        "precision_recall_fscore_support(df_temporal_usuario_test['class'],df_temporal_usuario_test['predict'], pos_label=True,average='binary')"
      ]
    },
    {
      "cell_type": "markdown",
      "metadata": {
        "id": "96Bh3YlFmuo0"
      },
      "source": [
        "**Ejercicio: Realice las predicciones binarias para los usuarios en el conjunto de test a los que se les hizo la selección de características, mida la precisión, el recall y f_score de su modelo con las predicciones realizadas y ajústelo cambiando el k**"
      ]
    },
    {
      "cell_type": "code",
      "execution_count": null,
      "metadata": {
        "id": "h0Z-k78WmU8G"
      },
      "outputs": [],
      "source": []
    }
  ],
  "metadata": {
    "colab": {
      "collapsed_sections": [
        "PLrz5tmBsn3G"
      ],
      "name": "MINE_4201_Laboratorio_2_Filtrado_por_contenido.ipynb",
      "provenance": [],
      "toc_visible": true
    },
    "kernelspec": {
      "display_name": "Python 3",
      "language": "python",
      "name": "python3"
    },
    "language_info": {
      "codemirror_mode": {
        "name": "ipython",
        "version": 3
      },
      "file_extension": ".py",
      "mimetype": "text/x-python",
      "name": "python",
      "nbconvert_exporter": "python",
      "pygments_lexer": "ipython3",
      "version": "3.11.2"
    },
    "vscode": {
      "interpreter": {
        "hash": "b0fa6594d8f4cbf19f97940f81e996739fb7646882a419484c72d19e05852a7e"
      }
    }
  },
  "nbformat": 4,
  "nbformat_minor": 0
}
